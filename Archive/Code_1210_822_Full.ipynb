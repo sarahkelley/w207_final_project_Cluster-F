{
 "cells": [
  {
   "cell_type": "markdown",
   "metadata": {},
   "source": [
    "# Mini-Data Set Preparation"
   ]
  },
  {
   "cell_type": "markdown",
   "metadata": {},
   "source": [
    "After the Kaggle Script \"Making a mini-data set\" is run (FYI, it takes about 2 minutes to run) to reduce the size of the data to 40,000 instances, run this script to organize data into a single dataframe. \n",
    "\n",
    "Run this with the 8 csv files produced by the Kaggle Script in the same directory. "
   ]
  },
  {
   "cell_type": "markdown",
   "metadata": {},
   "source": [
    "Note: This is a Python3 script because that is what Kaggle uses. "
   ]
  },
  {
   "cell_type": "markdown",
   "metadata": {},
   "source": [
    "Things we've discovered:\n",
    "* Multiple ad_id per display_id\n",
    "* Multiple display_id per document_id\n",
    "* Ad_id can be in multiple display_id and multiple document_id\n",
    "* Only one ad_id per display_id is clicked"
   ]
  },
  {
   "cell_type": "code",
   "execution_count": 2,
   "metadata": {
    "collapsed": false,
    "scrolled": false
   },
   "outputs": [],
   "source": [
    "import pandas as pd\n",
    "import numpy as np\n",
    "import copy\n",
    "import sklearn\n",
    "from sklearn.linear_model import LinearRegression\n",
    "from sklearn.linear_model import LogisticRegression"
   ]
  },
  {
   "cell_type": "code",
   "execution_count": 3,
   "metadata": {
    "collapsed": false,
    "scrolled": true
   },
   "outputs": [
    {
     "name": "stderr",
     "output_type": "stream",
     "text": [
      "C:\\Users\\lisam\\Anaconda2\\envs\\py35\\lib\\site-packages\\IPython\\core\\interactiveshell.py:2717: DtypeWarning: Columns (4) have mixed types. Specify dtype option on import or set low_memory=False.\n",
      "  interactivity=interactivity, compiler=compiler, result=result)\n"
     ]
    }
   ],
   "source": [
    "clicks_train_og = pd.read_csv(\"../input/clicks_train.csv\")\n",
    "promoted_content_og = pd.read_csv(\"../input/promoted_content.csv\")\n",
    "doc_cats_og = pd.read_csv(\"../input/documents_categories.csv\")\n",
    "doc_ents_og = pd.read_csv(\"../input/documents_entities.csv\")\n",
    "doc_meta_og = pd.read_csv(\"../input/documents_meta.csv\")\n",
    "doc_topics_og = pd.read_csv(\"../input/documents_topics.csv\")\n",
    "events_og = pd.read_csv(\"../input/events.csv\", dtype={'platform': str, 'geo_location': str})\n",
    "page_views_og = pd.read_csv(\"../input/page_views.csv\", dtype={'platform': str, 'traffic_source': str, 'geo_location': str})\n",
    "clicks_test_og = pd.read_csv(\"../input/clicks_test.csv\")\n"
   ]
  },
  {
   "cell_type": "code",
   "execution_count": 4,
   "metadata": {
    "collapsed": false,
    "scrolled": true
   },
   "outputs": [],
   "source": [
    "doc_ids = set(page_views_og['document_id']) & set(promoted_content_og['document_id'])\n",
    "# pull in the content that is in both page_views and promoted_content\n",
    "\n",
    "events = events_og[events_og['document_id'].isin(doc_ids)]\n",
    "clicks_train = clicks_train_og[clicks_train_og['display_id'].isin(events['display_id'])]\n",
    "clicks_test = clicks_test_og[clicks_test_og['display_id'].isin(events['display_id'])]\n",
    "\n",
    "events = events[events['display_id'].isin(clicks_train['display_id'])]\n",
    "\n",
    "promoted_content = promoted_content_og[promoted_content_og['ad_id'].isin(clicks_train['ad_id'])]\n",
    "doc_cats = doc_cats_og[doc_cats_og['document_id'].isin(promoted_content['document_id'])]\n",
    "doc_ents = doc_ents_og[doc_ents_og['document_id'].isin(promoted_content['document_id'])]\n",
    "doc_meta = doc_meta_og[doc_meta_og['document_id'].isin(promoted_content['document_id'])]\n",
    "doc_topics = doc_topics_og[doc_topics_og['document_id'].isin(promoted_content['document_id'])]\n",
    "page_views = page_views_og[page_views_og['document_id'].isin(events['document_id'])]"
   ]
  },
  {
   "cell_type": "markdown",
   "metadata": {},
   "source": [
    "## Make master data merging all features to clicks_train"
   ]
  },
  {
   "cell_type": "markdown",
   "metadata": {},
   "source": [
    "### Merge information about the displays to master dataset\n",
    "Events are only if the user CLICKED. This dataset will bring in information about the display_id's from events"
   ]
  },
  {
   "cell_type": "code",
   "execution_count": 14,
   "metadata": {
    "collapsed": false
   },
   "outputs": [],
   "source": [
    "def click_percent(dataset, ad_id, default_result, reg):\n",
    "    '''Returns the posterior probability of ad being clicked.\n",
    "    If ad has not been encountered before, assume mean click'''\n",
    "    \n",
    "    # count number of times ad has been seen\n",
    "    ad_total = len(dataset[dataset['ad_id'] == ad_id])\n",
    "    \n",
    "    # if ad has not been seen, returned the default_results\n",
    "    if ad_total == 0:\n",
    "        return default_result\n",
    "    # otherwise return percentage of times ad has been clicked, adjusted by a regularization term\n",
    "    else:\n",
    "        click_sum = np.sum(dataset[dataset['ad_id'] == ad_id].clicked) + 1.0\n",
    "        return click_sum / (ad_total + reg)\n",
    "    \n",
    "def format_data(dataset):\n",
    "\n",
    "    # Merging information aout the displays to master dataset\n",
    "    data = dataset.merge(events, on='display_id', how='left')\n",
    "    # joins information about the display that the user saw\n",
    "    # each display has a unique user id, doc id, and timestamp\n",
    "    # events has the information about the display (who the user is, which site (document_id) it was on, when it was seen, from where, etc.)\n",
    "\n",
    "    # Identifying which documents the ads refer to (aka destination documents)\n",
    "\n",
    "    data = data.merge(promoted_content, on='ad_id', how='left')\n",
    "\n",
    "    # Gather/bin data about the documents the ads refer to\n",
    "\n",
    "    sparsetop = doc_topics.pivot(index='document_id', \n",
    "                                 columns='topic_id', \n",
    "                                 values='confidence_level')\n",
    "    sparsetop.columns = ['top_' + str(col) for col in sparsetop.columns]\n",
    "\n",
    "    sparsecat = doc_cats.pivot(index='document_id', \n",
    "                               columns='category_id', \n",
    "                               values='confidence_level')\n",
    "    sparsecat.columns = ['cat_' + str(col) for col in sparsecat.columns]\n",
    "\n",
    "    sparse = sparsetop.join(sparsecat, how='outer')\n",
    "    sparse.fillna(0, inplace=True)\n",
    "\n",
    "    sparse.reset_index(level=0, inplace=True)\n",
    "\n",
    "    data = data.merge(sparse, \n",
    "                      left_on='document_id_y', \n",
    "                      right_on='document_id', \n",
    "                      how='left')\n",
    "    \n",
    "    # Adding meta data about the advertiser and campaign successes\n",
    "    if 'clicked' in clicks_train.columns:\n",
    "        advr_success = dict(zip(data.advertiser_id.unique(), \n",
    "                                [sum(data[data['advertiser_id']==x]['clicked'])/len(data[data['advertiser_id']==x]) for x in data['advertiser_id'].unique()]))\n",
    "        camp_success = dict(zip(data.campaign_id.unique(), \n",
    "                                [sum(data[data['campaign_id']==x]['clicked'])/len(data[data['campaign_id']==x]) for x in data['campaign_id'].unique()]))\n",
    "\n",
    "        data['campaign_perc'] = data['campaign_id'].map(camp_success)\n",
    "        data['advertiser_perc'] = data['advertiser_id'].map(advr_success)\n",
    "\n",
    "        doc_view_freq = dict(zip(page_views.document_id.unique(), [len(page_views[page_views.document_id==x]) for x in page_views.document_id.unique()]))\n",
    "        data['docx_view_freq'] = data['document_id_x'].map(doc_view_freq)\n",
    "\n",
    "        # Adding meta data about prior click percentage\n",
    "        mean_click = np.mean(data[\"clicked\"])\n",
    "        click_success = dict(zip(data.ad_id.unique(), [click_percent(data, x, mean_click, 10.0) for x in data[\"ad_id\"].unique()] ))\n",
    "        data['click_perc'] = data['ad_id'].map(click_success)\n",
    "    \n",
    "    return data\n",
    "    \n",
    "    \n",
    "data = format_data(clicks_train)\n",
    "#data_test = format_data(clicks_test) # doesn't work with click_test yet\n"
   ]
  },
  {
   "cell_type": "code",
   "execution_count": 81,
   "metadata": {
    "collapsed": false
   },
   "outputs": [],
   "source": [
    "# #################3 IGNORE THIS#############3\n",
    "\n",
    "# # events['country'], events['state'] = zip(*map(lambda x: str(x).split('>'), list(events['geo_location'])))\n",
    "\n",
    "# # #temp = map(lambda x: str(x).split('>'), list(page_views['geo_location']))\n",
    "# # print temp[:5]\n",
    "# # zip(*temp[:5]) # removes DMA\n",
    "\n",
    "# #events2 = pd.DataFrame(events['geo_location'].str.split(',').tolist(), columns = ['country', 'state', 'dma'])\n",
    "# events['geo_location'].str.split('>', expand= True)\n",
    "# geo = map(lambda x: str(x).split('>'), events['geo_location'])\n",
    "# zip(*geo)\n",
    "# country = [x[0] for x in geo]\n",
    "# #state = [x[1] for x in geo if x[1]]\n",
    "# if None:\n",
    "#     print('a')"
   ]
  },
  {
   "cell_type": "markdown",
   "metadata": {},
   "source": [
    "Now we are merging information on what documents the ads referred to (from source: promoted_content).  \n",
    "In every display, there are multiple ads (within one document = document_id_x). Every ad refers to a different document, which is the site the ad is promoting (document_id_y). All the columns after document_id_y are information about that document (to which the ad is referring)."
   ]
  },
  {
   "cell_type": "markdown",
   "metadata": {},
   "source": [
    "### Merge information about the documents the ads refer to\n",
    "All the doc files have information about the documents (websites) to which the ads refer to\n",
    "including confidence levels of which topics the ads referred to, which categories they're apart of, etc.\n",
    "\n",
    "We wanted to duplicate the idea of the CountVectorizer for the 'bag of words' model we used for spam detection, but since we're not counting words in a text, it's a little bit different. Since we have a 'dictionary' of categories and topics, we use that as our 'vocabulary.' Every document has a confidence level for one or more items in the vocabulary, so we create a sparse matrix with every topic and category as columns, and every document has a confidence level value in the respective columns. If they are not given a confidence level, we put 0 because the document most likely does not have anything to do with that category or topic (given the data provided by Outbrain).\n",
    "\n",
    "This data on the documents will help us separate ads from one another based on topic/category.  \n",
    "ie) why did ad A get clicked instead of ad B? We know ad A referred to document 1 whereas ad B referred to document 2, and now we have general information about the documents the ads referred to. We will merge this information in later steps."
   ]
  },
  {
   "cell_type": "markdown",
   "metadata": {},
   "source": [
    "creating dictionaries for % of ads clicked for every advertiser and campaign.  \n",
    "purpose: merge to master dataset as a feature for every ad, how often the advertiser and campaign are successful on average."
   ]
  },
  {
   "cell_type": "markdown",
   "metadata": {},
   "source": [
    "Add count of page views to every document that an ad appears in (document_id_x) as a feature, could tell us something about likelihood of ads being clicked"
   ]
  },
  {
   "cell_type": "markdown",
   "metadata": {
    "collapsed": true
   },
   "source": [
    "# Make training and test sets"
   ]
  },
  {
   "cell_type": "code",
   "execution_count": 17,
   "metadata": {
    "collapsed": false
   },
   "outputs": [
    {
     "name": "stdout",
     "output_type": "stream",
     "text": [
      "Labels length: 282205\n",
      "data length: (282205, 411)\n",
      "training label shape: (197543, 1)\n",
      "training data shape: (197543, 410)\n",
      "test label shape: (84662, 1)\n",
      "test data shape:         display_id   ad_id            uuid  document_id_x   timestamp  \\\n",
      "197543    12392612  332065  f7bc18373c9d55        1854517   824018058   \n",
      "197544    12392612  377111  f7bc18373c9d55        1854517   824018058   \n",
      "197545    12392612  466261  f7bc18373c9d55        1854517   824018058   \n",
      "197546    12392612  489002  f7bc18373c9d55        1854517   824018058   \n",
      "197547    12392620   86365  52990e5aa41541        1649400   824018294   \n",
      "197548    12392620  105610  52990e5aa41541        1649400   824018294   \n",
      "197549    12392620  137758  52990e5aa41541        1649400   824018294   \n",
      "197550    12392620  151353  52990e5aa41541        1649400   824018294   \n",
      "197551    12392620  186614  52990e5aa41541        1649400   824018294   \n",
      "197552    12392620  274027  52990e5aa41541        1649400   824018294   \n",
      "197553    12393407   12968  f3f62ed4021a36        1362397   824054556   \n",
      "197554    12393407   70594  f3f62ed4021a36        1362397   824054556   \n",
      "197555    12393407  140903  f3f62ed4021a36        1362397   824054556   \n",
      "197556    12393407  164376  f3f62ed4021a36        1362397   824054556   \n",
      "197557    12393407  184328  f3f62ed4021a36        1362397   824054556   \n",
      "197558    12393407  187279  f3f62ed4021a36        1362397   824054556   \n",
      "197559    12393407  197960  f3f62ed4021a36        1362397   824054556   \n",
      "197560    12393407  392374  f3f62ed4021a36        1362397   824054556   \n",
      "197561    12393407  467795  f3f62ed4021a36        1362397   824054556   \n",
      "197562    12393434   51784  fce20787967c47        1649400   824055737   \n",
      "197563    12393434  105610  fce20787967c47        1649400   824055737   \n",
      "197564    12393434  137758  fce20787967c47        1649400   824055737   \n",
      "197565    12393434  202378  fce20787967c47        1649400   824055737   \n",
      "197566    12393434  274027  fce20787967c47        1649400   824055737   \n",
      "197567    12393434  371053  fce20787967c47        1649400   824055737   \n",
      "197568    12394160     845  cd9b4ddcbbd4f9         438834   824088640   \n",
      "197569    12394160    5931  cd9b4ddcbbd4f9         438834   824088640   \n",
      "197570    12394160  243491  cd9b4ddcbbd4f9         438834   824088640   \n",
      "197571    12394160  243505  cd9b4ddcbbd4f9         438834   824088640   \n",
      "197572    12394160  362032  cd9b4ddcbbd4f9         438834   824088640   \n",
      "...            ...     ...             ...            ...         ...   \n",
      "282175    16872318  154106  9a434d23d4289c        1873087  1123044443   \n",
      "282176    16872318  158345  9a434d23d4289c        1873087  1123044443   \n",
      "282177    16872318  201091  9a434d23d4289c        1873087  1123044443   \n",
      "282178    16872318  528573  9a434d23d4289c        1873087  1123044443   \n",
      "282179    16872725   37712  d0aad8183b9dae         869874  1123070469   \n",
      "282180    16872725   78036  d0aad8183b9dae         869874  1123070469   \n",
      "282181    16872725  173388  d0aad8183b9dae         869874  1123070469   \n",
      "282182    16872725  198022  d0aad8183b9dae         869874  1123070469   \n",
      "282183    16873702   22863  6fef0f6596bec5         977944  1123137250   \n",
      "282184    16873702   43520  6fef0f6596bec5         977944  1123137250   \n",
      "282185    16873702   99569  6fef0f6596bec5         977944  1123137250   \n",
      "282186    16873702  103528  6fef0f6596bec5         977944  1123137250   \n",
      "282187    16873702  141435  6fef0f6596bec5         977944  1123137250   \n",
      "282188    16873702  146172  6fef0f6596bec5         977944  1123137250   \n",
      "282189    16873702  155807  6fef0f6596bec5         977944  1123137250   \n",
      "282190    16873702  187622  6fef0f6596bec5         977944  1123137250   \n",
      "282191    16873702  206677  6fef0f6596bec5         977944  1123137250   \n",
      "282192    16873702  274122  6fef0f6596bec5         977944  1123137250   \n",
      "282193    16873984   28649  19610d05131e7b         438834  1123157486   \n",
      "282194    16873984  184721  19610d05131e7b         438834  1123157486   \n",
      "282195    16873984  186412  19610d05131e7b         438834  1123157486   \n",
      "282196    16873984  209912  19610d05131e7b         438834  1123157486   \n",
      "282197    16873984  276710  19610d05131e7b         438834  1123157486   \n",
      "282198    16873984  276717  19610d05131e7b         438834  1123157486   \n",
      "282199    16874403   59628  8a758139b3909f         927056  1123186279   \n",
      "282200    16874403   71807  8a758139b3909f         927056  1123186279   \n",
      "282201    16874403  134264  8a758139b3909f         927056  1123186279   \n",
      "282202    16874403  138868  8a758139b3909f         927056  1123186279   \n",
      "282203    16874403  252928  8a758139b3909f         927056  1123186279   \n",
      "282204    16874403  458494  8a758139b3909f         927056  1123186279   \n",
      "\n",
      "       platform geo_location  document_id_y  campaign_id  advertiser_id  \\\n",
      "197543        2        GB>J9        1710793        29309            210   \n",
      "197544        2        GB>J9        1913629          104            162   \n",
      "197545        2        GB>J9        2288852          246            232   \n",
      "197546        2        GB>J9        2392456          104            162   \n",
      "197547        3        GB>H3        1105913        11172           2222   \n",
      "197548        3        GB>H3        1160717        13651           2555   \n",
      "197549        3        GB>H3        1313905        17695           2222   \n",
      "197550        3        GB>H3        1366030        12454            185   \n",
      "197551        3        GB>H3        1464840        21369           3437   \n",
      "197552        3        GB>H3        1659588        16162            185   \n",
      "197553        1    US>NJ>501         693391         2361            268   \n",
      "197554        1    US>NJ>501        1063293         9424            384   \n",
      "197555        1    US>NJ>501        1303188        17430            913   \n",
      "197556        1    US>NJ>501        1151028          674            769   \n",
      "197557        1    US>NJ>501        1461502        21240           3056   \n",
      "197558        1    US>NJ>501        1116986        15430            769   \n",
      "197559        1    US>NJ>501        1504266        23108           2812   \n",
      "197560        1    US>NJ>501        1977113        30574           1676   \n",
      "197561        1    US>NJ>501        1103669         9577           2546   \n",
      "197562        3        GB>M3         974620         6954           1667   \n",
      "197563        3        GB>M3        1160717        13651           2555   \n",
      "197564        3        GB>M3        1313905        17695           2222   \n",
      "197565        3        GB>M3        1515166        16162            185   \n",
      "197566        3        GB>M3        1659588        16162            185   \n",
      "197567        3        GB>M3        1877840        30047            913   \n",
      "197568        1        BZ>02         144632           37             63   \n",
      "197569        1        BZ>02         466742           37             63   \n",
      "197570        1        BZ>02        1603527        25947           1746   \n",
      "197571        1        BZ>02        1603543        25949           1746   \n",
      "197572        1        BZ>02        1741686        29737           2576   \n",
      "...         ...          ...            ...          ...            ...   \n",
      "282175        2    US>GA>520        1380590        19614           2151   \n",
      "282176        2    US>GA>520         984694        20051           2151   \n",
      "282177        2    US>GA>520        1379561        23374           2348   \n",
      "282178        2    US>GA>520        2636776        33865           1460   \n",
      "282179        3    US>VA>511         843990         4337           1499   \n",
      "282180        3    US>VA>511        1083895        10326            555   \n",
      "282181        3    US>VA>511         947798        21241           2169   \n",
      "282182        3    US>VA>511         626581        13250           1214   \n",
      "282183        2    US>IL>602         811102          157             45   \n",
      "282184        2    US>IL>602         942940         6109           1973   \n",
      "282185        2    US>IL>602        1112949           78             53   \n",
      "282186        2    US>IL>602        1155983        13429           2722   \n",
      "282187        2    US>IL>602        1325421        18107           2151   \n",
      "282188        2    US>IL>602        1343511         1212             45   \n",
      "282189        2    US>IL>602         967726         6678           1386   \n",
      "282190        2    US>IL>602        1468272          157             45   \n",
      "282191        2    US>IL>602        1522778         1144           1089   \n",
      "282192        2    US>IL>602        1567171        26256           1135   \n",
      "282193        1        GY>18         360387         4392            792   \n",
      "282194        1        GY>18        1462752          104            162   \n",
      "282195        1        GY>18        1457978        22287            681   \n",
      "282196        1        GY>18        1532387        24053            792   \n",
      "282197        1        GY>18        1665136        26870           2016   \n",
      "282198        1        GY>18        1665146        26870           2016   \n",
      "282199        1    US>SC>567        1019158         7995           1919   \n",
      "282200        1    US>SC>567         871277         4931           2018   \n",
      "282201        1    US>SC>567        1112611        17238           1113   \n",
      "282202        1    US>SC>567        1154602        17817           1113   \n",
      "282203        1    US>SC>567         916726        26324           2033   \n",
      "282204        1    US>SC>567         476112        30511           1810   \n",
      "\n",
      "           ...      cat_2002  cat_2003  cat_2004  cat_2005  cat_2006  \\\n",
      "197543     ...           0.0       0.0      0.00  0.000000  0.000000   \n",
      "197544     ...           0.0       0.0      0.00  0.000000  0.000000   \n",
      "197545     ...           0.0       0.0      0.00  0.000000  0.000000   \n",
      "197546     ...           0.0       0.0      0.00  0.000000  0.000000   \n",
      "197547     ...           0.0       0.0      0.00  0.000000  0.000000   \n",
      "197548     ...           0.0       0.0      0.00  0.000000  0.000000   \n",
      "197549     ...           0.0       0.0      0.00  0.000000  0.000000   \n",
      "197550     ...           0.0       0.0      0.00  0.000000  0.000000   \n",
      "197551     ...           0.0       0.0      0.00  0.000000  0.000000   \n",
      "197552     ...           0.0       0.0      0.00  0.000000  0.000000   \n",
      "197553     ...           0.0       0.0      0.00  0.000000  0.022188   \n",
      "197554     ...           0.0       0.0      0.00  0.000000  0.000000   \n",
      "197555     ...           0.0       0.0      0.00  0.000000  0.000000   \n",
      "197556     ...           0.0       0.0      0.00  0.070000  0.000000   \n",
      "197557     ...           0.0       0.0      0.00  0.000000  0.000000   \n",
      "197558     ...           0.0       0.0      0.00  0.070000  0.000000   \n",
      "197559     ...           0.0       0.0      0.00  0.000000  0.000000   \n",
      "197560     ...           0.0       0.0      0.00  0.000000  0.000000   \n",
      "197561     ...           0.0       0.0      0.00  0.000000  0.000000   \n",
      "197562     ...           0.0       0.0      0.00  0.000000  0.000000   \n",
      "197563     ...           0.0       0.0      0.00  0.000000  0.000000   \n",
      "197564     ...           0.0       0.0      0.00  0.000000  0.000000   \n",
      "197565     ...           0.0       0.0      0.00  0.000000  0.000000   \n",
      "197566     ...           0.0       0.0      0.00  0.000000  0.000000   \n",
      "197567     ...           0.0       0.0      0.00  0.000000  0.000000   \n",
      "197568     ...           0.0       0.0      0.00  0.000000  0.000000   \n",
      "197569     ...           0.0       0.0      0.00  0.000000  0.000000   \n",
      "197570     ...           0.0       0.0      0.00  0.000000  0.000000   \n",
      "197571     ...           0.0       0.0      0.00  0.000000  0.000000   \n",
      "197572     ...           0.0       0.0      0.00  0.000000  0.000000   \n",
      "...        ...           ...       ...       ...       ...       ...   \n",
      "282175     ...           0.0       0.0      0.07  0.000000  0.000000   \n",
      "282176     ...           0.0       0.0      0.00  0.000000  0.000000   \n",
      "282177     ...           0.0       0.0      0.00  0.000000  0.000000   \n",
      "282178     ...           0.0       0.0      0.00  0.000000  0.000000   \n",
      "282179     ...           0.0       0.0      0.00  0.000000  0.000000   \n",
      "282180     ...           0.0       0.0      0.00  0.000000  0.000000   \n",
      "282181     ...           0.0       0.0      0.00  0.000000  0.000000   \n",
      "282182     ...           0.0       0.0      0.00  0.000000  0.000000   \n",
      "282183     ...           0.0       0.0      0.00  0.000000  0.000000   \n",
      "282184     ...           0.0       0.0      0.00  0.000000  0.000000   \n",
      "282185     ...           0.0       0.0      0.00  0.000000  0.000000   \n",
      "282186     ...           0.0       0.0      0.00  0.000000  0.000000   \n",
      "282187     ...           0.0       0.0      0.00  0.000000  0.000000   \n",
      "282188     ...           0.0       0.0      0.00  0.000000  0.000000   \n",
      "282189     ...           0.0       0.0      0.00  0.059188  0.000000   \n",
      "282190     ...           0.0       0.0      0.00  0.000000  0.000000   \n",
      "282191     ...           0.0       0.0      0.00  0.000000  0.000000   \n",
      "282192     ...           0.0       0.0      0.00  0.000000  0.000000   \n",
      "282193     ...           0.0       0.0      0.00  0.000000  0.000000   \n",
      "282194     ...           0.0       0.0      0.00  0.000000  0.000000   \n",
      "282195     ...           0.0       0.0      0.00  0.000000  0.000000   \n",
      "282196     ...           0.0       0.0      0.00  0.000000  0.000000   \n",
      "282197     ...           0.0       0.0      0.00  0.000000  0.000000   \n",
      "282198     ...           0.0       0.0      0.00  0.000000  0.000000   \n",
      "282199     ...           0.0       0.0      0.00  0.000000  0.000000   \n",
      "282200     ...           0.0       0.0      0.00  0.000000  0.000000   \n",
      "282201     ...           0.0       0.0      0.00  0.000000  0.000000   \n",
      "282202     ...           0.0       0.0      0.00  0.000000  0.000000   \n",
      "282203     ...           0.0       0.0      0.00  0.000000  0.000000   \n",
      "282204     ...           0.0       0.0      0.00  0.000000  0.000000   \n",
      "\n",
      "        cat_2100  campaign_perc  advertiser_perc  docx_view_freq  click_perc  \n",
      "197543       0.0       0.044444         0.066400             222    0.037736  \n",
      "197544       0.0       0.061311         0.061324             222    0.050000  \n",
      "197545       0.0       0.400000         0.271255             222    0.090909  \n",
      "197546       0.0       0.061311         0.061324             222    0.090909  \n",
      "197547       0.0       0.202265         0.252889            9943    0.201867  \n",
      "197548       0.0       0.270504         0.251364            9943    0.268007  \n",
      "197549       0.0       0.308281         0.252889            9943    0.307713  \n",
      "197550       0.0       0.107607         0.132450            9943    0.109228  \n",
      "197551       0.0       0.023669         0.022989            9943    0.023188  \n",
      "197552       0.0       0.144301         0.132450            9943    0.130690  \n",
      "197553       0.0       0.113208         0.087866            5423    0.111111  \n",
      "197554       0.0       0.062937         0.066225            5423    0.065359  \n",
      "197555       0.0       0.111111         0.098784            5423    0.108108  \n",
      "197556       0.0       0.017756         0.027509            5423    0.016393  \n",
      "197557       0.0       0.319620         0.319620            5423    0.317181  \n",
      "197558       0.0       0.023656         0.027509            5423    0.044983  \n",
      "197559       0.0       0.250608         0.135338            5423    0.247031  \n",
      "197560       0.0       0.085106         0.141129            5423    0.137931  \n",
      "197561       0.0       0.219626         0.182099            5423    0.200000  \n",
      "197562       0.0       0.069767         0.331707            9943    0.090909  \n",
      "197563       0.0       0.270504         0.251364            9943    0.268007  \n",
      "197564       0.0       0.308281         0.252889            9943    0.307713  \n",
      "197565       0.0       0.144301         0.132450            9943    0.164062  \n",
      "197566       0.0       0.144301         0.132450            9943    0.130690  \n",
      "197567       0.0       0.063622         0.098784            9943    0.064516  \n",
      "197568       0.0       0.184759         0.184759            2435    0.159110  \n",
      "197569       0.0       0.184759         0.184759            2435    0.206107  \n",
      "197570       0.0       0.183391         0.178703            2435    0.196970  \n",
      "197571       0.0       0.127219         0.178703            2435    0.124224  \n",
      "197572       0.0       0.214058         0.214058            2435    0.124324  \n",
      "...          ...            ...              ...             ...         ...  \n",
      "282175       0.0       0.083333         0.018605            9209    0.105263  \n",
      "282176       0.0       0.013158         0.018605            9209    0.019231  \n",
      "282177       0.0       0.235294         0.151685            9209    0.166667  \n",
      "282178       0.0       0.333333         0.437500            9209    0.181818  \n",
      "282179       0.0       0.111111         0.090909             735    0.105263  \n",
      "282180       0.0       0.175258         0.082631             735    0.168224  \n",
      "282181       0.0       0.128205         0.080000             735    0.130952  \n",
      "282182       0.0       0.358974         0.291667             735    0.319149  \n",
      "282183       0.0       0.091564         0.182879              71    0.082426  \n",
      "282184       0.0       0.189655         0.265495              71    0.187970  \n",
      "282185       0.0       0.008772         0.011319              71    0.013514  \n",
      "282186       0.0       0.097416         0.081363              71    0.097847  \n",
      "282187       0.0       0.014879         0.018605              71    0.005731  \n",
      "282188       0.0       0.218382         0.182879              71    0.216471  \n",
      "282189       0.0       0.048951         0.052632              71    0.071429  \n",
      "282190       0.0       0.091564         0.182879              71    0.125424  \n",
      "282191       0.0       0.094340         0.161568              71    0.093416  \n",
      "282192       0.0       0.058140         0.112861              71    0.064777  \n",
      "282193       0.0       0.183585         0.154726            2435    0.181818  \n",
      "282194       0.0       0.061311         0.061324            2435    0.014925  \n",
      "282195       0.0       0.168120         0.185812            2435    0.169811  \n",
      "282196       0.0       0.154216         0.154726            2435    0.153980  \n",
      "282197       0.0       0.194332         0.152473            2435    0.198198  \n",
      "282198       0.0       0.194332         0.152473            2435    0.186047  \n",
      "282199       0.0       0.019699         0.013349            3004    0.021429  \n",
      "282200       0.0       0.161435         0.159292            3004    0.160088  \n",
      "282201       0.0       0.630084         0.500000            3004    0.626047  \n",
      "282202       0.0       0.332627         0.500000            3004    0.312332  \n",
      "282203       0.0       0.355349         0.353860            3004    0.358238  \n",
      "282204       0.0       0.155556         0.151220            3004    0.151724  \n",
      "\n",
      "[84662 rows x 410 columns]\n"
     ]
    }
   ],
   "source": [
    "def split_train_dev(dataset, train_percent = False):\n",
    "    # Splitting dataset into data and labels\n",
    "\n",
    "    labels = data['clicked']\n",
    "    labels = labels.values.reshape(-1,1)\n",
    "\n",
    "    print ('Labels length:', len(labels))\n",
    "    print ('data length:', data.shape)\n",
    "\n",
    "    # Making training and test set splits\n",
    "    # if not split defined, assume no split desired.\n",
    "    # split_percent = 1 means test results will be empty\n",
    "    if not train_percent:\n",
    "        train_percent = 1\n",
    "        \n",
    "    train_data = data[:int(train_percent*len(data))].drop('clicked', 1)\n",
    "    test_data = data[int(train_percent*len(data)):].drop('clicked', 1)\n",
    "\n",
    "    train_labels = labels[:int(train_percent*len(data))]\n",
    "    test_labels = labels[int(train_percent*len(data)):]\n",
    "\n",
    "    print ('training label shape:', train_labels.shape)\n",
    "    print ('training data shape:', train_data.shape)\n",
    "    print ('test label shape:', test_labels.shape)\n",
    "    print ('test data shape:', test_data.shape)\n",
    "    \n",
    "    return train_data, train_labels, test_data, test_labels\n",
    "\n",
    "train_data, train_labels, dev_data, dev_labels = split_train_dev(data, train_percent = 0.7)"
   ]
  },
  {
   "cell_type": "markdown",
   "metadata": {},
   "source": [
    "# Following Homework2"
   ]
  },
  {
   "cell_type": "code",
   "execution_count": 18,
   "metadata": {
    "collapsed": false,
    "scrolled": true
   },
   "outputs": [
    {
     "name": "stderr",
     "output_type": "stream",
     "text": [
      "C:\\Users\\lisam\\Anaconda2\\envs\\py35\\lib\\site-packages\\sklearn\\cross_validation.py:44: DeprecationWarning: This module was deprecated in version 0.18 in favor of the model_selection module into which all the refactored classes and functions are moved. Also note that the interface of the new CV iterators are different from that of this module. This module will be removed in 0.20.\n",
      "  \"This module will be removed in 0.20.\", DeprecationWarning)\n",
      "C:\\Users\\lisam\\Anaconda2\\envs\\py35\\lib\\site-packages\\sklearn\\grid_search.py:43: DeprecationWarning: This module was deprecated in version 0.18 in favor of the model_selection module into which all the refactored classes and functions are moved. This module will be removed in 0.20.\n",
      "  DeprecationWarning)\n"
     ]
    }
   ],
   "source": [
    "# SK-learn libraries for learning.\n",
    "from sklearn.pipeline import Pipeline\n",
    "from sklearn.neighbors import KNeighborsClassifier\n",
    "from sklearn.linear_model import LogisticRegression\n",
    "from sklearn.naive_bayes import BernoulliNB\n",
    "from sklearn.naive_bayes import MultinomialNB\n",
    "from sklearn.grid_search import GridSearchCV\n",
    "\n",
    "# SK-learn libraries for evaluation.\n",
    "from sklearn.metrics import confusion_matrix\n",
    "from sklearn import metrics\n",
    "from sklearn.metrics import classification_report\n",
    "\n",
    "# SK-learn library for importing the newsgroup data.\n",
    "from sklearn.datasets import fetch_20newsgroups\n",
    "\n",
    "# SK-learn libraries for feature extraction from text.\n",
    "from sklearn.feature_extraction.text import *"
   ]
  },
  {
   "cell_type": "code",
   "execution_count": null,
   "metadata": {
    "collapsed": true
   },
   "outputs": [],
   "source": [
    "data.to_csv('trainingdata.cvs',index=False)"
   ]
  },
  {
   "cell_type": "code",
   "execution_count": 21,
   "metadata": {
    "collapsed": false,
    "scrolled": false
   },
   "outputs": [
    {
     "name": "stderr",
     "output_type": "stream",
     "text": [
      "C:\\Users\\lisam\\Anaconda2\\envs\\py35\\lib\\site-packages\\sklearn\\utils\\validation.py:526: DataConversionWarning: A column-vector y was passed when a 1d array was expected. Please change the shape of y to (n_samples, ), for example using ravel().\n",
      "  y = column_or_1d(y, warn=True)\n"
     ]
    }
   ],
   "source": [
    "def lr_prediction(train_data, train_labels, test_data, test_labels):\n",
    "    '''Returns the array of display_id, ad_id and probability it will be clicked'''\n",
    "    lr = LogisticRegression()\n",
    "    lr.fit(train_data[train_data.columns[11:]].fillna(0), train_labels)\n",
    "    lr_click_prob = lr.predict_proba(test_data[test_data.columns[11:]].fillna(0))[:,1]\n",
    "    lr_score = lr.score(test_data[test_data.columns[11:]].fillna(0), test_labels)\n",
    "    return pd.DataFrame({'display_id': test_data['display_id'],\n",
    "                         'ad_id': test_data['ad_id'],\n",
    "                         'prediction': lr_click_prob\n",
    "                        })\n",
    "lr_output = lr_prediction(train_data, train_labels, dev_data, dev_labels)"
   ]
  },
  {
   "cell_type": "code",
   "execution_count": null,
   "metadata": {
    "collapsed": true
   },
   "outputs": [],
   "source": [
    "# Format the data the way the submission requires\n",
    "output=test.groupby(['display_id'])['ad_id'].apply(lambda x:' '.join(map(str,x))).reset_index()\n",
    "# That's it for the simple solution (prior expectation)!\n",
    "output.to_csv('simplesolution3.cvs',index=False)\n",
    "\n",
    "# Format the data the way the submission requires\n",
    "output=lr_output.groupby(['display_id'])['ad_id'].apply(lambda x:' '.join(map(str,x))).reset_index()\n",
    "output.head()\n",
    "output.to_csv('lisalr.csv',index=False)"
   ]
  }
 ],
 "metadata": {
  "anaconda-cloud": {},
  "kernelspec": {
   "display_name": "Python 3",
   "language": "python",
   "name": "python3"
  },
  "language_info": {
   "codemirror_mode": {
    "name": "ipython",
    "version": 3
   },
   "file_extension": ".py",
   "mimetype": "text/x-python",
   "name": "python",
   "nbconvert_exporter": "python",
   "pygments_lexer": "ipython3",
   "version": "3.5.2"
  }
 },
 "nbformat": 4,
 "nbformat_minor": 0
}
