{
 "cells": [
  {
   "cell_type": "markdown",
   "metadata": {},
   "source": [
    "# Mini-Data Set Preparation"
   ]
  },
  {
   "cell_type": "markdown",
   "metadata": {},
   "source": [
    "After the Kaggle Script \"Making a mini-data set\" is run (FYI, it takes about 2 minutes to run) to reduce the size of the data to 40,000 instances, run this script to organize data into a single dataframe. \n",
    "\n",
    "Run this with the 8 csv files produced by the Kaggle Script in the same directory. "
   ]
  },
  {
   "cell_type": "markdown",
   "metadata": {},
   "source": [
    "Note: This is a Python3 script because that is what Kaggle uses. "
   ]
  },
  {
   "cell_type": "code",
   "execution_count": 2,
   "metadata": {
    "collapsed": true
   },
   "outputs": [],
   "source": [
    "import pandas as pd\n",
    "import numpy as np\n",
    "import copy\n",
    "from sklearn.linear_model import LinearRegression\n",
    "from sklearn.linear_model import LogisticRegression"
   ]
  },
  {
   "cell_type": "code",
   "execution_count": 5,
   "metadata": {
    "collapsed": false
   },
   "outputs": [
    {
     "name": "stderr",
     "output_type": "stream",
     "text": [
      "C:\\Users\\Jay\\Anaconda3\\lib\\site-packages\\IPython\\core\\interactiveshell.py:2723: DtypeWarning: Columns (4) have mixed types. Specify dtype option on import or set low_memory=False.\n",
      "  interactivity=interactivity, compiler=compiler, result=result)\n"
     ]
    }
   ],
   "source": [
    "clicks_train = pd.read_csv(\"../input/clicks_train.csv\")\n",
    "promoted_content = pd.read_csv(\"../input/promoted_content.csv\")\n",
    "doc_cats = pd.read_csv(\"../input/documents_categories.csv\")\n",
    "doc_ents = pd.read_csv(\"../input/documents_entities.csv\")\n",
    "doc_meta = pd.read_csv(\"../input/documents_meta.csv\")\n",
    "doc_topics = pd.read_csv(\"../input/documents_topics.csv\")\n",
    "events = pd.read_csv(\"../input/events.csv\")\n",
    "page_views = pd.read_csv(\"../input/page_views_sample.csv\")"
   ]
  },
  {
   "cell_type": "code",
   "execution_count": 6,
   "metadata": {
    "collapsed": false
   },
   "outputs": [],
   "source": [
    "#LISA/NIKKi: \n",
    "\n",
    "# reverse engineer - get document_ids that are in page_views AND promoted_content\n",
    "# get ads that are in those documents\n",
    "# get display ids from clicks_train that contain those ads\n",
    "\n",
    "\n",
    "\n",
    "display_sample = np.random.choice(clicks_train[\"display_id\"].unique(), 4000) # change this if too many rows\n",
    "clicks_train = clicks_train[clicks_train[\"display_id\"].isin(display_sample)]\n",
    "# select 4000 random display id's and grab all rows in click_train with that display\n",
    "# every display has multiple ads and only 1 ad in every display is clicked\n",
    "\n",
    "promoted = promoted_content[promoted_content[\"ad_id\"].isin(clicks_train[\"ad_id\"])]\n",
    "# same ad can show up in multiple displays, so length of unique ads < length of unique displays\n",
    "\n",
    "doc_cats = doc_cats[doc_cats[\"document_id\"].isin(promoted[\"document_id\"])]\n",
    "\n",
    "doc_ents = doc_ents[doc_ents[\"document_id\"].isin(promoted[\"document_id\"])]\n",
    "\n",
    "doc_meta = doc_meta[doc_meta[\"document_id\"].isin(promoted[\"document_id\"])]\n",
    "\n",
    "doc_topics = doc_topics[doc_topics[\"document_id\"].isin(promoted[\"document_id\"])]\n",
    "\n",
    "events = events[events[\"display_id\"].isin(clicks_train[\"display_id\"])]\n",
    "\n",
    "page_views = page_views[page_views[\"document_id\"].isin(promoted[\"document_id\"])]\n",
    "# platform & traffic source need to be either all integers or all strings (right now its mixed)\n",
    "\n"
   ]
  },
  {
   "cell_type": "code",
   "execution_count": null,
   "metadata": {
    "collapsed": true
   },
   "outputs": [],
   "source": [
    "# Jay's code start here...\n",
    "%matplotlib inline\n",
    "\n",
    "import scipy as sp\n",
    "import matplotlib.pyplot as plt\n",
    "\n",
    "from sklearn.decomposition import PCA\n",
    "from sklearn.decomposition import KernelPCA\n",
    "from sklearn.decomposition import SparsePCA\n",
    "\n",
    "from sklearn.cluster import AgglomerativeClustering \n",
    "from sklearn.cluster import KMeans "
   ]
  },
  {
   "cell_type": "code",
   "execution_count": 113,
   "metadata": {
    "collapsed": false
   },
   "outputs": [
    {
     "name": "stdout",
     "output_type": "stream",
     "text": [
      "overall average click-rate: 0.1938454082868912\n",
      "\n",
      "This is our prior expectation for the ad click likelihoods based on overall click-rates.\n",
      "          display_id   ad_id      count       sum  likelihood\n",
      "32225159    23120126  145293   8.000000  2.000000    0.222222\n",
      "32225160    23120126  201649  21.000000  1.000000    0.045455\n",
      "32225158    23120126   57097   6.000000  0.000000    0.000000\n",
      "32225161    23120126  292363   5.000000  0.000000    0.000000\n",
      "32225157    23120125  254698   0.193845  0.193845    0.193845\n",
      "32225154    23120125   86281   3.000000  0.000000    0.000000\n",
      "32225155    23120125   89725   2.000000  0.000000    0.000000\n",
      "32225156    23120125  187797  21.000000  0.000000    0.000000\n",
      "32225150    23120124   83252   0.193845  0.193845    0.193845\n",
      "32225153    23120124  489589   0.193845  0.193845    0.193845\n",
      "32225152    23120124  173403  24.000000  4.000000    0.160000\n",
      "32225151    23120124  162994   2.000000  0.000000    0.000000\n",
      "32225146    23120123  174045   0.193845  0.193845    0.193845\n",
      "32225148    23120123  471443   0.193845  0.193845    0.193845\n",
      "32225149    23120123  516264   0.193845  0.193845    0.193845\n",
      "32225147    23120123  208244   2.000000  0.000000    0.000000\n",
      "32225144    23120122  386922   3.000000  3.000000    0.750000\n",
      "32225141    23120122  148268   3.000000  2.000000    0.500000\n",
      "32225138    23120122    5579   0.193845  0.193845    0.193845\n",
      "32225142    23120122  166840   0.193845  0.193845    0.193845\n"
     ]
    }
   ],
   "source": [
    "\n",
    "test = pd.read_csv('../input/clicks_test.csv')\n",
    "\n",
    "# Group the ads and count up how many views and clicks\n",
    "ad_likelihood = clicks_train.groupby('ad_id')['clicked'].agg(['count','sum']).reset_index()\n",
    "\n",
    "# Calculate the overall average number of clicks\n",
    "mean_clicked = clicks_train.clicked.mean()\n",
    "print(\"overall average click-rate:\", mean_clicked)\n",
    "# del clicks_train\n",
    "\n",
    "# Calculate the likelihood of an ad click\n",
    "ad_likelihood['likelihood'] = (ad_likelihood['sum']) / (ad_likelihood['count'] + 1)\n",
    "\n",
    "# Left join the ad likelihoods into the training set by ad_id\n",
    "test = test.merge(ad_likelihood,how='left')\n",
    "\n",
    "# Fill in the blanks with the overall average likelihood\n",
    "test.fillna(mean_clicked,inplace=True)\n",
    "\n",
    "# Sort the rows by the likelihood of each ad_id within each display_id\n",
    "test.sort_values(['display_id','likelihood'],inplace=True,ascending=False)\n",
    "\n",
    "print(\"\\nThis is our prior expectation for the ad click likelihoods based on overall click-rates...\")\n",
    "print(test.head(20))\n",
    "\n",
    "# Format the data the way the submission requires\n",
    "output=test.groupby(['display_id'])['ad_id'].apply(lambda x:' '.join(map(str,x))).reset_index()\n",
    "\n",
    "# That's it for the simple solution (prior expectation)!\n",
    "output.to_csv('simplesolution3.cvs',index=False)\n"
   ]
  },
  {
   "cell_type": "code",
   "execution_count": 114,
   "metadata": {
    "collapsed": false
   },
   "outputs": [
    {
     "name": "stdout",
     "output_type": "stream",
     "text": [
      "This is the training data...\n"
     ]
    },
    {
     "data": {
      "text/html": [
       "<div>\n",
       "<table border=\"1\" class=\"dataframe\">\n",
       "  <thead>\n",
       "    <tr style=\"text-align: right;\">\n",
       "      <th></th>\n",
       "      <th>display_id</th>\n",
       "      <th>ad_id</th>\n",
       "      <th>clicked</th>\n",
       "    </tr>\n",
       "  </thead>\n",
       "  <tbody>\n",
       "    <tr>\n",
       "      <th>1036</th>\n",
       "      <td>200</td>\n",
       "      <td>257326</td>\n",
       "      <td>1</td>\n",
       "    </tr>\n",
       "    <tr>\n",
       "      <th>1037</th>\n",
       "      <td>200</td>\n",
       "      <td>281284</td>\n",
       "      <td>0</td>\n",
       "    </tr>\n",
       "    <tr>\n",
       "      <th>1038</th>\n",
       "      <td>200</td>\n",
       "      <td>292370</td>\n",
       "      <td>0</td>\n",
       "    </tr>\n",
       "    <tr>\n",
       "      <th>1039</th>\n",
       "      <td>200</td>\n",
       "      <td>296112</td>\n",
       "      <td>0</td>\n",
       "    </tr>\n",
       "    <tr>\n",
       "      <th>1040</th>\n",
       "      <td>200</td>\n",
       "      <td>303522</td>\n",
       "      <td>0</td>\n",
       "    </tr>\n",
       "  </tbody>\n",
       "</table>\n",
       "</div>"
      ],
      "text/plain": [
       "      display_id   ad_id  clicked\n",
       "1036         200  257326        1\n",
       "1037         200  281284        0\n",
       "1038         200  292370        0\n",
       "1039         200  296112        0\n",
       "1040         200  303522        0"
      ]
     },
     "execution_count": 114,
     "metadata": {},
     "output_type": "execute_result"
    }
   ],
   "source": [
    "print(\"This is the training data...\")\n",
    "clicks_train.head()"
   ]
  },
  {
   "cell_type": "markdown",
   "metadata": {},
   "source": [
    "In order to use SVD, we need to reformat that data such that each ad_id is a column and each row is a different display_id."
   ]
  },
  {
   "cell_type": "code",
   "execution_count": 115,
   "metadata": {
    "collapsed": false
   },
   "outputs": [
    {
     "name": "stdout",
     "output_type": "stream",
     "text": [
      "           clicked                                                          \\\n",
      "ad_id       7      65     164    489    656    752    801    845    863      \n",
      "display_id                                                                   \n",
      "200             -1     -1     -1     -1     -1     -1     -1     -1     -1   \n",
      "372             -1     -1     -1     -1     -1     -1     -1     -1     -1   \n",
      "9287            -1     -1     -1     -1     -1     -1     -1     -1     -1   \n",
      "10823           -1     -1     -1     -1     -1     -1     -1     -1     -1   \n",
      "14190           -1     -1     -1     -1     -1     -1     -1     -1     -1   \n",
      "\n",
      "                   ...                                                     \\\n",
      "ad_id      984     ...   544417 544426 544474 545217 545470 545719 546316   \n",
      "display_id         ...                                                      \n",
      "200            -1  ...       -1     -1     -1     -1     -1     -1     -1   \n",
      "372            -1  ...       -1     -1     -1     -1     -1     -1     -1   \n",
      "9287           -1  ...       -1     -1     -1     -1     -1     -1     -1   \n",
      "10823          -1  ...       -1     -1     -1     -1     -1     -1     -1   \n",
      "14190          -1  ...       -1     -1     -1     -1     -1     -1     -1   \n",
      "\n",
      "                                 \n",
      "ad_id      546927 546960 547129  \n",
      "display_id                       \n",
      "200            -1     -1     -1  \n",
      "372            -1     -1     -1  \n",
      "9287           -1     -1     -1  \n",
      "10823          -1     -1     -1  \n",
      "14190          -1     -1     -1  \n",
      "\n",
      "[5 rows x 9945 columns]\n"
     ]
    }
   ],
   "source": [
    "#This transforms the training data into the format we need!\n",
    "SVDtable = clicks_train.pivot(index='display_id', columns='ad_id')\n",
    "\n",
    "#Give the NAs a -1 value for now.  Can replace later as necessary.\n",
    "SVDtable = SVDtable.fillna('-1')\n",
    "print(SVDtable.head())\n",
    "\n",
    "# Converting to a np.array is tricky, so let's put it in a csv first and then re-import it.\n",
    "SVDtable.to_csv('diditwork.csv',index=True, column_names=False)"
   ]
  },
  {
   "cell_type": "code",
   "execution_count": 116,
   "metadata": {
    "collapsed": false
   },
   "outputs": [
    {
     "name": "stdout",
     "output_type": "stream",
     "text": [
      "[[  2.00000000e+02  -1.00000000e+00  -1.00000000e+00 ...,  -1.00000000e+00\n",
      "   -1.00000000e+00  -1.00000000e+00]\n",
      " [  3.72000000e+02  -1.00000000e+00  -1.00000000e+00 ...,  -1.00000000e+00\n",
      "   -1.00000000e+00  -1.00000000e+00]\n",
      " [  9.28700000e+03  -1.00000000e+00  -1.00000000e+00 ...,  -1.00000000e+00\n",
      "   -1.00000000e+00  -1.00000000e+00]\n",
      " ..., \n",
      " [  1.68456090e+07  -1.00000000e+00  -1.00000000e+00 ...,  -1.00000000e+00\n",
      "   -1.00000000e+00  -1.00000000e+00]\n",
      " [  1.68659740e+07  -1.00000000e+00  -1.00000000e+00 ...,  -1.00000000e+00\n",
      "   -1.00000000e+00  -1.00000000e+00]\n",
      " [  1.68687850e+07  -1.00000000e+00  -1.00000000e+00 ...,  -1.00000000e+00\n",
      "   -1.00000000e+00  -1.00000000e+00]]\n"
     ]
    }
   ],
   "source": [
    "# re-import as numpy array for SVD spooky stuff\n",
    "ff = \"diditwork.csv\" \n",
    "f = open(ff)\n",
    "\n",
    "junkline = f.readline() # says \"clicked\" a bunch of times\n",
    "column_names = f.readline() \n",
    "# print(column_names)\n",
    "anotherjunkline = f.readline() #has \"display_id\" header with a bunch of NaN entries...\n",
    "\n",
    "def converter(x):\n",
    "    if x == -1:\n",
    "        return np.nan # Why doesn't this work?  -1s show up everywhere\n",
    "    else:\n",
    "        return float(x)\n",
    "    \n",
    "data = np.loadtxt(f, delimiter=',', converters={1:converter})\n",
    "\n",
    "print(data[:])\n"
   ]
  },
  {
   "cell_type": "code",
   "execution_count": 143,
   "metadata": {
    "collapsed": false
   },
   "outputs": [
    {
     "name": "stdout",
     "output_type": "stream",
     "text": [
      "[[  2.00000000e+02   0.00000000e+00   0.00000000e+00 ...,   0.00000000e+00\n",
      "    0.00000000e+00   0.00000000e+00]\n",
      " [  3.72000000e+02   0.00000000e+00   0.00000000e+00 ...,   0.00000000e+00\n",
      "    0.00000000e+00   0.00000000e+00]\n",
      " [  9.28700000e+03   0.00000000e+00   0.00000000e+00 ...,   0.00000000e+00\n",
      "    0.00000000e+00   0.00000000e+00]\n",
      " ..., \n",
      " [  1.68456090e+07   0.00000000e+00   0.00000000e+00 ...,   0.00000000e+00\n",
      "    0.00000000e+00   0.00000000e+00]\n",
      " [  1.68659740e+07   0.00000000e+00   0.00000000e+00 ...,   0.00000000e+00\n",
      "    0.00000000e+00   0.00000000e+00]\n",
      " [  1.68687850e+07   0.00000000e+00   0.00000000e+00 ...,   0.00000000e+00\n",
      "    0.00000000e+00   0.00000000e+00]]\n",
      "(4000, 9946)\n",
      "<class 'numpy.ndarray'>\n",
      "1.0\n",
      "1.0\n",
      "1.0\n",
      "1.0\n",
      "1.0\n"
     ]
    }
   ],
   "source": [
    "# Let's set the NAs to 0 for now to match the joke recommender sample code...\n",
    "data[:, 1:][data[:, 1:] == -1] = 0 # np.nan\n",
    "\n",
    "print(data[:])\n",
    "print(data.shape)\n",
    "print(type(data))\n",
    "\n",
    "# only one click each row!?\n",
    "print(np.sum(data[0][1:]))\n",
    "print(np.sum(data[1][1:]))\n",
    "print(np.sum(data[2][1:]))\n",
    "print(np.sum(data[3][1:]))\n",
    "print(np.sum(data[4][1:]))\n"
   ]
  },
  {
   "cell_type": "code",
   "execution_count": 118,
   "metadata": {
    "collapsed": false
   },
   "outputs": [
    {
     "name": "stdout",
     "output_type": "stream",
     "text": [
      "(4000, 4000)\n",
      "(4000,)\n",
      "(4000, 9945)\n",
      "[[ 0.  0.  0. ...,  0.  0.  0.]\n",
      " [ 0.  0.  0. ...,  0.  0.  0.]\n",
      " [ 0.  0.  0. ...,  0.  0.  0.]\n",
      " ..., \n",
      " [ 0.  0.  0. ...,  0.  0.  0.]\n",
      " [ 0.  0.  0. ...,  0.  0.  0.]\n",
      " [ 0.  0.  0. ...,  0.  0.  0.]]\n",
      "[[ 0.  0.  0. ...,  0.  0.  0.]\n",
      " [ 0.  0.  0. ...,  0.  0.  0.]\n",
      " [ 0.  0.  0. ...,  0.  0.  0.]\n",
      " ..., \n",
      " [ 0.  0.  0. ...,  0.  0.  0.]\n",
      " [ 0.  0.  0. ...,  0.  0.  0.]\n",
      " [ 0.  0.  0. ...,  0.  0.  0.]]\n"
     ]
    }
   ],
   "source": [
    "# full svd; note that the first column is dropped since it's the display_id\n",
    "u, s, v = np.linalg.svd(data[:, 1:], full_matrices=False)\n",
    "\n",
    "print(u.shape)\n",
    "print(s.shape)\n",
    "print(v.shape)\n",
    "\n",
    "# these are (nearly) the same, that's the decomposition!\n",
    "print(data[:, 1:])\n",
    "\n",
    "print(np.dot(np.dot(u, np.diag(s)), v)) # the full reconstruction\n"
   ]
  },
  {
   "cell_type": "code",
   "execution_count": 141,
   "metadata": {
    "collapsed": false
   },
   "outputs": [
    {
     "name": "stdout",
     "output_type": "stream",
     "text": [
      "[[ 0.  0.  0. ...,  0.  0.  0.]\n",
      " [ 0.  0.  0. ...,  0.  0.  0.]\n",
      " [ 0.  0.  0. ...,  0.  0.  0.]\n",
      " ..., \n",
      " [ 0.  0.  0. ...,  0.  0.  0.]\n",
      " [ 0.  0.  0. ...,  0.  0.  0.]\n",
      " [ 0.  0.  0. ...,  0.  0.  0.]]\n",
      "0.0\n",
      "0.0\n",
      "0.0\n",
      "0.0\n"
     ]
    }
   ],
   "source": [
    "n_comp = 10\n",
    "\n",
    "# make a new s vector with only the first few values kept\n",
    "s_padded = np.zeros(len(s))\n",
    "s_padded[:n_comp] = s[:n_comp]\n",
    "\n",
    "filled_in = np.dot(np.dot(u, np.diag(s_padded)), v)\n",
    "\n",
    "# Okay, this is bad.  Why are the recommendations all zero?  Too sparse??\n",
    "print(filled_in)\n",
    "\n",
    "# No recommendations!!!\n",
    "print(np.sum(filled_in[0][:]))\n",
    "print(np.sum(filled_in[1][:]))\n",
    "print(np.sum(filled_in[2][:]))\n",
    "print(np.sum(filled_in[3][:]))"
   ]
  },
  {
   "cell_type": "code",
   "execution_count": null,
   "metadata": {
    "collapsed": false
   },
   "outputs": [],
   "source": [
    "\n",
    "#Jay's code ends here"
   ]
  },
  {
   "cell_type": "code",
   "execution_count": null,
   "metadata": {
    "collapsed": false
   },
   "outputs": [],
   "source": []
  },
  {
   "cell_type": "code",
   "execution_count": null,
   "metadata": {
    "collapsed": true
   },
   "outputs": [],
   "source": []
  },
  {
   "cell_type": "code",
   "execution_count": null,
   "metadata": {
    "collapsed": true
   },
   "outputs": [],
   "source": []
  },
  {
   "cell_type": "markdown",
   "metadata": {},
   "source": [
    "## Join clicks_train and events on display_id"
   ]
  },
  {
   "cell_type": "code",
   "execution_count": null,
   "metadata": {
    "collapsed": true
   },
   "outputs": [],
   "source": []
  },
  {
   "cell_type": "code",
   "execution_count": 7,
   "metadata": {
    "collapsed": false
   },
   "outputs": [
    {
     "ename": "ValueError",
     "evalue": "columns overlap but no suffix specified: Index(['display_id'], dtype='object')",
     "output_type": "error",
     "traceback": [
      "\u001b[1;31m---------------------------------------------------------------------------\u001b[0m",
      "\u001b[1;31mValueError\u001b[0m                                Traceback (most recent call last)",
      "\u001b[1;32m<ipython-input-7-afd7b3bbdeb0>\u001b[0m in \u001b[0;36m<module>\u001b[1;34m()\u001b[0m\n\u001b[1;32m----> 1\u001b[1;33m \u001b[0mdata\u001b[0m \u001b[1;33m=\u001b[0m \u001b[0mclicks_train\u001b[0m\u001b[1;33m.\u001b[0m\u001b[0mjoin\u001b[0m\u001b[1;33m(\u001b[0m\u001b[0mevents\u001b[0m\u001b[1;33m)\u001b[0m\u001b[1;33m\u001b[0m\u001b[0m\n\u001b[0m\u001b[0;32m      2\u001b[0m \u001b[0mdata\u001b[0m\u001b[1;33m.\u001b[0m\u001b[0mhead\u001b[0m\u001b[1;33m(\u001b[0m\u001b[1;33m)\u001b[0m\u001b[1;33m\u001b[0m\u001b[0m\n",
      "\u001b[1;32mC:\\Users\\Jay\\Anaconda3\\lib\\site-packages\\pandas\\core\\frame.py\u001b[0m in \u001b[0;36mjoin\u001b[1;34m(self, other, on, how, lsuffix, rsuffix, sort)\u001b[0m\n\u001b[0;32m   4367\u001b[0m         \u001b[1;31m# For SparseDataFrame's benefit\u001b[0m\u001b[1;33m\u001b[0m\u001b[1;33m\u001b[0m\u001b[0m\n\u001b[0;32m   4368\u001b[0m         return self._join_compat(other, on=on, how=how, lsuffix=lsuffix,\n\u001b[1;32m-> 4369\u001b[1;33m                                  rsuffix=rsuffix, sort=sort)\n\u001b[0m\u001b[0;32m   4370\u001b[0m \u001b[1;33m\u001b[0m\u001b[0m\n\u001b[0;32m   4371\u001b[0m     def _join_compat(self, other, on=None, how='left', lsuffix='', rsuffix='',\n",
      "\u001b[1;32mC:\\Users\\Jay\\Anaconda3\\lib\\site-packages\\pandas\\core\\frame.py\u001b[0m in \u001b[0;36m_join_compat\u001b[1;34m(self, other, on, how, lsuffix, rsuffix, sort)\u001b[0m\n\u001b[0;32m   4381\u001b[0m             return merge(self, other, left_on=on, how=how,\n\u001b[0;32m   4382\u001b[0m                          \u001b[0mleft_index\u001b[0m\u001b[1;33m=\u001b[0m\u001b[0mon\u001b[0m \u001b[1;32mis\u001b[0m \u001b[1;32mNone\u001b[0m\u001b[1;33m,\u001b[0m \u001b[0mright_index\u001b[0m\u001b[1;33m=\u001b[0m\u001b[1;32mTrue\u001b[0m\u001b[1;33m,\u001b[0m\u001b[1;33m\u001b[0m\u001b[0m\n\u001b[1;32m-> 4383\u001b[1;33m                          suffixes=(lsuffix, rsuffix), sort=sort)\n\u001b[0m\u001b[0;32m   4384\u001b[0m         \u001b[1;32melse\u001b[0m\u001b[1;33m:\u001b[0m\u001b[1;33m\u001b[0m\u001b[0m\n\u001b[0;32m   4385\u001b[0m             \u001b[1;32mif\u001b[0m \u001b[0mon\u001b[0m \u001b[1;32mis\u001b[0m \u001b[1;32mnot\u001b[0m \u001b[1;32mNone\u001b[0m\u001b[1;33m:\u001b[0m\u001b[1;33m\u001b[0m\u001b[0m\n",
      "\u001b[1;32mC:\\Users\\Jay\\Anaconda3\\lib\\site-packages\\pandas\\tools\\merge.py\u001b[0m in \u001b[0;36mmerge\u001b[1;34m(left, right, how, on, left_on, right_on, left_index, right_index, sort, suffixes, copy, indicator)\u001b[0m\n\u001b[0;32m     33\u001b[0m                          \u001b[0mright_index\u001b[0m\u001b[1;33m=\u001b[0m\u001b[0mright_index\u001b[0m\u001b[1;33m,\u001b[0m \u001b[0msort\u001b[0m\u001b[1;33m=\u001b[0m\u001b[0msort\u001b[0m\u001b[1;33m,\u001b[0m \u001b[0msuffixes\u001b[0m\u001b[1;33m=\u001b[0m\u001b[0msuffixes\u001b[0m\u001b[1;33m,\u001b[0m\u001b[1;33m\u001b[0m\u001b[0m\n\u001b[0;32m     34\u001b[0m                          copy=copy, indicator=indicator)\n\u001b[1;32m---> 35\u001b[1;33m     \u001b[1;32mreturn\u001b[0m \u001b[0mop\u001b[0m\u001b[1;33m.\u001b[0m\u001b[0mget_result\u001b[0m\u001b[1;33m(\u001b[0m\u001b[1;33m)\u001b[0m\u001b[1;33m\u001b[0m\u001b[0m\n\u001b[0m\u001b[0;32m     36\u001b[0m \u001b[1;32mif\u001b[0m \u001b[0m__debug__\u001b[0m\u001b[1;33m:\u001b[0m\u001b[1;33m\u001b[0m\u001b[0m\n\u001b[0;32m     37\u001b[0m     \u001b[0mmerge\u001b[0m\u001b[1;33m.\u001b[0m\u001b[0m__doc__\u001b[0m \u001b[1;33m=\u001b[0m \u001b[0m_merge_doc\u001b[0m \u001b[1;33m%\u001b[0m \u001b[1;34m'\\nleft : DataFrame'\u001b[0m\u001b[1;33m\u001b[0m\u001b[0m\n",
      "\u001b[1;32mC:\\Users\\Jay\\Anaconda3\\lib\\site-packages\\pandas\\tools\\merge.py\u001b[0m in \u001b[0;36mget_result\u001b[1;34m(self)\u001b[0m\n\u001b[0;32m    210\u001b[0m \u001b[1;33m\u001b[0m\u001b[0m\n\u001b[0;32m    211\u001b[0m         llabels, rlabels = items_overlap_with_suffix(ldata.items, lsuf,\n\u001b[1;32m--> 212\u001b[1;33m                                                      rdata.items, rsuf)\n\u001b[0m\u001b[0;32m    213\u001b[0m \u001b[1;33m\u001b[0m\u001b[0m\n\u001b[0;32m    214\u001b[0m         \u001b[0mlindexers\u001b[0m \u001b[1;33m=\u001b[0m \u001b[1;33m{\u001b[0m\u001b[1;36m1\u001b[0m\u001b[1;33m:\u001b[0m \u001b[0mleft_indexer\u001b[0m\u001b[1;33m}\u001b[0m \u001b[1;32mif\u001b[0m \u001b[0mleft_indexer\u001b[0m \u001b[1;32mis\u001b[0m \u001b[1;32mnot\u001b[0m \u001b[1;32mNone\u001b[0m \u001b[1;32melse\u001b[0m \u001b[1;33m{\u001b[0m\u001b[1;33m}\u001b[0m\u001b[1;33m\u001b[0m\u001b[0m\n",
      "\u001b[1;32mC:\\Users\\Jay\\Anaconda3\\lib\\site-packages\\pandas\\core\\internals.py\u001b[0m in \u001b[0;36mitems_overlap_with_suffix\u001b[1;34m(left, lsuffix, right, rsuffix)\u001b[0m\n\u001b[0;32m   4372\u001b[0m         \u001b[1;32mif\u001b[0m \u001b[1;32mnot\u001b[0m \u001b[0mlsuffix\u001b[0m \u001b[1;32mand\u001b[0m \u001b[1;32mnot\u001b[0m \u001b[0mrsuffix\u001b[0m\u001b[1;33m:\u001b[0m\u001b[1;33m\u001b[0m\u001b[0m\n\u001b[0;32m   4373\u001b[0m             raise ValueError('columns overlap but no suffix specified: %s' %\n\u001b[1;32m-> 4374\u001b[1;33m                              to_rename)\n\u001b[0m\u001b[0;32m   4375\u001b[0m \u001b[1;33m\u001b[0m\u001b[0m\n\u001b[0;32m   4376\u001b[0m         \u001b[1;32mdef\u001b[0m \u001b[0mlrenamer\u001b[0m\u001b[1;33m(\u001b[0m\u001b[0mx\u001b[0m\u001b[1;33m)\u001b[0m\u001b[1;33m:\u001b[0m\u001b[1;33m\u001b[0m\u001b[0m\n",
      "\u001b[1;31mValueError\u001b[0m: columns overlap but no suffix specified: Index(['display_id'], dtype='object')"
     ]
    }
   ],
   "source": [
    "data = clicks_train.join(events)\n",
    "data.head()"
   ]
  },
  {
   "cell_type": "markdown",
   "metadata": {},
   "source": [
    "## Promoted"
   ]
  },
  {
   "cell_type": "code",
   "execution_count": 7,
   "metadata": {
    "collapsed": false
   },
   "outputs": [
    {
     "data": {
      "text/plain": [
       "6042"
      ]
     },
     "execution_count": 7,
     "metadata": {},
     "output_type": "execute_result"
    }
   ],
   "source": [
    "len(promoted)"
   ]
  },
  {
   "cell_type": "code",
   "execution_count": 8,
   "metadata": {
    "collapsed": false
   },
   "outputs": [
    {
     "name": "stdout",
     "output_type": "stream",
     "text": [
      "4230\n",
      "7240\n"
     ]
    }
   ],
   "source": [
    "#there is not a one-to-one relationship between document_id in promoted and the master data\n",
    "#This is because the same ad is being shown in different documents I think\n",
    "print(len(promoted[\"document_id\"].unique()))\n",
    "print(len(data[\"document_id\"].unique()))"
   ]
  },
  {
   "cell_type": "code",
   "execution_count": 9,
   "metadata": {
    "collapsed": false
   },
   "outputs": [
    {
     "name": "stdout",
     "output_type": "stream",
     "text": [
      "6042\n",
      "6042\n"
     ]
    }
   ],
   "source": [
    "#there is a one-to-one relationship between ad_id in promoted and the master data\n",
    "print(len(promoted[\"ad_id\"].unique())) #each add can appear more than once\n",
    "print(len(data[\"ad_id\"].unique()))"
   ]
  },
  {
   "cell_type": "code",
   "execution_count": 10,
   "metadata": {
    "collapsed": false
   },
   "outputs": [
    {
     "data": {
      "text/html": [
       "<div>\n",
       "<table border=\"1\" class=\"dataframe\">\n",
       "  <thead>\n",
       "    <tr style=\"text-align: right;\">\n",
       "      <th></th>\n",
       "      <th>ad_id</th>\n",
       "      <th>campaign_id</th>\n",
       "      <th>advertiser_id</th>\n",
       "    </tr>\n",
       "  </thead>\n",
       "  <tbody>\n",
       "    <tr>\n",
       "      <th>0</th>\n",
       "      <td>489</td>\n",
       "      <td>81</td>\n",
       "      <td>116</td>\n",
       "    </tr>\n",
       "    <tr>\n",
       "      <th>1</th>\n",
       "      <td>844</td>\n",
       "      <td>37</td>\n",
       "      <td>63</td>\n",
       "    </tr>\n",
       "    <tr>\n",
       "      <th>2</th>\n",
       "      <td>971</td>\n",
       "      <td>28</td>\n",
       "      <td>45</td>\n",
       "    </tr>\n",
       "    <tr>\n",
       "      <th>3</th>\n",
       "      <td>1117</td>\n",
       "      <td>205</td>\n",
       "      <td>134</td>\n",
       "    </tr>\n",
       "    <tr>\n",
       "      <th>4</th>\n",
       "      <td>1126</td>\n",
       "      <td>209</td>\n",
       "      <td>295</td>\n",
       "    </tr>\n",
       "  </tbody>\n",
       "</table>\n",
       "</div>"
      ],
      "text/plain": [
       "   ad_id  campaign_id  advertiser_id\n",
       "0    489           81            116\n",
       "1    844           37             63\n",
       "2    971           28             45\n",
       "3   1117          205            134\n",
       "4   1126          209            295"
      ]
     },
     "execution_count": 10,
     "metadata": {},
     "output_type": "execute_result"
    }
   ],
   "source": [
    "promoted.head()\n",
    "del promoted[\"Unnamed: 0\"]\n",
    "del promoted['document_id'] #I think all we want from here is the link between ad_id and campaign id\n",
    "promoted.head()"
   ]
  },
  {
   "cell_type": "markdown",
   "metadata": {},
   "source": [
    "## Joining Info about each ad"
   ]
  },
  {
   "cell_type": "markdown",
   "metadata": {},
   "source": [
    "I make a dictionary of the advertiser and campaign id for each ad_id, map that dictionary to the ad id to make the advertizer and campain columns"
   ]
  },
  {
   "cell_type": "code",
   "execution_count": 19,
   "metadata": {
    "collapsed": false
   },
   "outputs": [
    {
     "data": {
      "text/html": [
       "<div>\n",
       "<table border=\"1\" class=\"dataframe\">\n",
       "  <thead>\n",
       "    <tr style=\"text-align: right;\">\n",
       "      <th></th>\n",
       "      <th>ad_id</th>\n",
       "      <th>clicked</th>\n",
       "      <th>uuid</th>\n",
       "      <th>document_id</th>\n",
       "      <th>timestamp</th>\n",
       "      <th>platform</th>\n",
       "      <th>geo_location</th>\n",
       "    </tr>\n",
       "    <tr>\n",
       "      <th>display_id</th>\n",
       "      <th></th>\n",
       "      <th></th>\n",
       "      <th></th>\n",
       "      <th></th>\n",
       "      <th></th>\n",
       "      <th></th>\n",
       "      <th></th>\n",
       "    </tr>\n",
       "  </thead>\n",
       "  <tbody>\n",
       "    <tr>\n",
       "      <th>8112</th>\n",
       "      <td>151682</td>\n",
       "      <td>1</td>\n",
       "      <td>715ddc85c78e39</td>\n",
       "      <td>1792396</td>\n",
       "      <td>559250</td>\n",
       "      <td>2</td>\n",
       "      <td>US&gt;MI&gt;563</td>\n",
       "    </tr>\n",
       "    <tr>\n",
       "      <th>10333</th>\n",
       "      <td>157598</td>\n",
       "      <td>0</td>\n",
       "      <td>ec3841c3250fb6</td>\n",
       "      <td>1405372</td>\n",
       "      <td>716674</td>\n",
       "      <td>2</td>\n",
       "      <td>US&gt;MO&gt;616</td>\n",
       "    </tr>\n",
       "    <tr>\n",
       "      <th>11278</th>\n",
       "      <td>103712</td>\n",
       "      <td>1</td>\n",
       "      <td>324475e5f191c8</td>\n",
       "      <td>1179111</td>\n",
       "      <td>784022</td>\n",
       "      <td>2</td>\n",
       "      <td>US&gt;GA&gt;524</td>\n",
       "    </tr>\n",
       "    <tr>\n",
       "      <th>13320</th>\n",
       "      <td>139944</td>\n",
       "      <td>1</td>\n",
       "      <td>27221a85141108</td>\n",
       "      <td>735143</td>\n",
       "      <td>926961</td>\n",
       "      <td>2</td>\n",
       "      <td>US&gt;CA&gt;807</td>\n",
       "    </tr>\n",
       "    <tr>\n",
       "      <th>13905</th>\n",
       "      <td>173393</td>\n",
       "      <td>0</td>\n",
       "      <td>9ea0907cee579e</td>\n",
       "      <td>1794259</td>\n",
       "      <td>971672</td>\n",
       "      <td>2</td>\n",
       "      <td>US&gt;IL&gt;602</td>\n",
       "    </tr>\n",
       "  </tbody>\n",
       "</table>\n",
       "</div>"
      ],
      "text/plain": [
       "             ad_id  clicked            uuid  document_id  timestamp platform  \\\n",
       "display_id                                                                     \n",
       "8112        151682        1  715ddc85c78e39      1792396     559250        2   \n",
       "10333       157598        0  ec3841c3250fb6      1405372     716674        2   \n",
       "11278       103712        1  324475e5f191c8      1179111     784022        2   \n",
       "13320       139944        1  27221a85141108       735143     926961        2   \n",
       "13905       173393        0  9ea0907cee579e      1794259     971672        2   \n",
       "\n",
       "           geo_location  \n",
       "display_id               \n",
       "8112          US>MI>563  \n",
       "10333         US>MO>616  \n",
       "11278         US>GA>524  \n",
       "13320         US>CA>807  \n",
       "13905         US>IL>602  "
      ]
     },
     "execution_count": 19,
     "metadata": {},
     "output_type": "execute_result"
    }
   ],
   "source": [
    "data.head()"
   ]
  },
  {
   "cell_type": "code",
   "execution_count": 12,
   "metadata": {
    "collapsed": false
   },
   "outputs": [
    {
     "name": "stdout",
     "output_type": "stream",
     "text": [
      "10000\n",
      "6042\n"
     ]
    }
   ],
   "source": [
    "print(len(data))\n",
    "print(len(data[\"ad_id\"].unique())) #adds appear on average slightly more than twice in our minidata set"
   ]
  },
  {
   "cell_type": "code",
   "execution_count": 13,
   "metadata": {
    "collapsed": false
   },
   "outputs": [],
   "source": [
    "#make dictionaries to look up advertizer id and campaign id for each ad_id\n",
    "advertiser_dict = dict(zip(promoted.ad_id, promoted.advertiser_id))\n",
    "campaign_dict = dict(zip(promoted.ad_id, promoted.campaign_id))\n"
   ]
  },
  {
   "cell_type": "code",
   "execution_count": 14,
   "metadata": {
    "collapsed": false
   },
   "outputs": [
    {
     "data": {
      "text/html": [
       "<div>\n",
       "<table border=\"1\" class=\"dataframe\">\n",
       "  <thead>\n",
       "    <tr style=\"text-align: right;\">\n",
       "      <th></th>\n",
       "      <th>ad_id</th>\n",
       "      <th>clicked</th>\n",
       "      <th>uuid</th>\n",
       "      <th>document_id</th>\n",
       "      <th>timestamp</th>\n",
       "      <th>platform</th>\n",
       "      <th>geo_location</th>\n",
       "      <th>campaign_id</th>\n",
       "      <th>advertiser_id</th>\n",
       "    </tr>\n",
       "    <tr>\n",
       "      <th>display_id</th>\n",
       "      <th></th>\n",
       "      <th></th>\n",
       "      <th></th>\n",
       "      <th></th>\n",
       "      <th></th>\n",
       "      <th></th>\n",
       "      <th></th>\n",
       "      <th></th>\n",
       "      <th></th>\n",
       "    </tr>\n",
       "  </thead>\n",
       "  <tbody>\n",
       "    <tr>\n",
       "      <th>8112</th>\n",
       "      <td>151682</td>\n",
       "      <td>1</td>\n",
       "      <td>715ddc85c78e39</td>\n",
       "      <td>1792396</td>\n",
       "      <td>559250</td>\n",
       "      <td>2</td>\n",
       "      <td>US&gt;MI&gt;563</td>\n",
       "      <td>19284</td>\n",
       "      <td>3283</td>\n",
       "    </tr>\n",
       "    <tr>\n",
       "      <th>10333</th>\n",
       "      <td>157598</td>\n",
       "      <td>0</td>\n",
       "      <td>ec3841c3250fb6</td>\n",
       "      <td>1405372</td>\n",
       "      <td>716674</td>\n",
       "      <td>2</td>\n",
       "      <td>US&gt;MO&gt;616</td>\n",
       "      <td>18022</td>\n",
       "      <td>2312</td>\n",
       "    </tr>\n",
       "    <tr>\n",
       "      <th>11278</th>\n",
       "      <td>103712</td>\n",
       "      <td>1</td>\n",
       "      <td>324475e5f191c8</td>\n",
       "      <td>1179111</td>\n",
       "      <td>784022</td>\n",
       "      <td>2</td>\n",
       "      <td>US&gt;GA&gt;524</td>\n",
       "      <td>5081</td>\n",
       "      <td>1759</td>\n",
       "    </tr>\n",
       "    <tr>\n",
       "      <th>13320</th>\n",
       "      <td>139944</td>\n",
       "      <td>1</td>\n",
       "      <td>27221a85141108</td>\n",
       "      <td>735143</td>\n",
       "      <td>926961</td>\n",
       "      <td>2</td>\n",
       "      <td>US&gt;CA&gt;807</td>\n",
       "      <td>17929</td>\n",
       "      <td>1782</td>\n",
       "    </tr>\n",
       "    <tr>\n",
       "      <th>13905</th>\n",
       "      <td>173393</td>\n",
       "      <td>0</td>\n",
       "      <td>9ea0907cee579e</td>\n",
       "      <td>1794259</td>\n",
       "      <td>971672</td>\n",
       "      <td>2</td>\n",
       "      <td>US&gt;IL&gt;602</td>\n",
       "      <td>21143</td>\n",
       "      <td>2876</td>\n",
       "    </tr>\n",
       "  </tbody>\n",
       "</table>\n",
       "</div>"
      ],
      "text/plain": [
       "             ad_id  clicked            uuid  document_id  timestamp  platform  \\\n",
       "display_id                                                                      \n",
       "8112        151682        1  715ddc85c78e39      1792396     559250         2   \n",
       "10333       157598        0  ec3841c3250fb6      1405372     716674         2   \n",
       "11278       103712        1  324475e5f191c8      1179111     784022         2   \n",
       "13320       139944        1  27221a85141108       735143     926961         2   \n",
       "13905       173393        0  9ea0907cee579e      1794259     971672         2   \n",
       "\n",
       "           geo_location  campaign_id  advertiser_id  \n",
       "display_id                                           \n",
       "8112          US>MI>563        19284           3283  \n",
       "10333         US>MO>616        18022           2312  \n",
       "11278         US>GA>524         5081           1759  \n",
       "13320         US>CA>807        17929           1782  \n",
       "13905         US>IL>602        21143           2876  "
      ]
     },
     "execution_count": 14,
     "metadata": {},
     "output_type": "execute_result"
    }
   ],
   "source": [
    "data[\"campaign_id\"] = data[\"ad_id\"].map(campaign_dict)\n",
    "data[\"advertiser_id\"] = data[\"ad_id\"].map(advertiser_dict)\n",
    "data.head()"
   ]
  },
  {
   "cell_type": "code",
   "execution_count": 15,
   "metadata": {
    "collapsed": false
   },
   "outputs": [
    {
     "name": "stdout",
     "output_type": "stream",
     "text": [
      "10000\n",
      "6042\n"
     ]
    }
   ],
   "source": [
    "print(len(data))\n",
    "print(len(data[\"ad_id\"].unique())) #adds appear on average slightly more than twice in our minidata set"
   ]
  },
  {
   "cell_type": "markdown",
   "metadata": {
    "collapsed": false
   },
   "source": [
    "## Working with Page Views"
   ]
  },
  {
   "cell_type": "markdown",
   "metadata": {},
   "source": [
    "Add count of page views to every document in data as a feature, could tell us something about likelihood of ads being clicked"
   ]
  },
  {
   "cell_type": "code",
   "execution_count": 61,
   "metadata": {
    "collapsed": false
   },
   "outputs": [
    {
     "name": "stdout",
     "output_type": "stream",
     "text": [
      "36071\n",
      "23\n"
     ]
    }
   ],
   "source": [
    "print(len(page_views))\n",
    "print(len(page_views['document_id'].unique()))\n",
    "# when we filter our data like this, we only get 23 documents from page_views_sample.. we need the full dataset\n"
   ]
  },
  {
   "cell_type": "markdown",
   "metadata": {
    "collapsed": true
   },
   "source": [
    "## Importing Document Information"
   ]
  },
  {
   "cell_type": "markdown",
   "metadata": {},
   "source": [
    "I'm super stuck on why all the document ids that appear in our data arent in the files with more information about each documents."
   ]
  },
  {
   "cell_type": "code",
   "execution_count": 16,
   "metadata": {
    "collapsed": false
   },
   "outputs": [
    {
     "name": "stdout",
     "output_type": "stream",
     "text": [
      "7240\n",
      "4223\n",
      "3540\n",
      "4230\n",
      "4154\n"
     ]
    }
   ],
   "source": [
    "#Why aren't there the same number of unique documents in each of these\n",
    "print(len(data[\"document_id\"].unique()))\n",
    "print(len(doc_cats[\"document_id\"].unique()))\n",
    "print(len(doc_ents[\"document_id\"].unique()))\n",
    "print(len(doc_meta[\"document_id\"].unique()))\n",
    "print(len(doc_topics[\"document_id\"].unique()))"
   ]
  },
  {
   "cell_type": "code",
   "execution_count": 7,
   "metadata": {
    "collapsed": false
   },
   "outputs": [
    {
     "data": {
      "text/html": [
       "<div>\n",
       "<table border=\"1\" class=\"dataframe\">\n",
       "  <thead>\n",
       "    <tr style=\"text-align: right;\">\n",
       "      <th></th>\n",
       "      <th>document_id</th>\n",
       "      <th>entity_id</th>\n",
       "      <th>confidence_level</th>\n",
       "    </tr>\n",
       "  </thead>\n",
       "  <tbody>\n",
       "    <tr>\n",
       "      <th>72655</th>\n",
       "      <td>1807706</td>\n",
       "      <td>11d5279de0b36011773ee50f75f9b43c</td>\n",
       "      <td>0.495961</td>\n",
       "    </tr>\n",
       "    <tr>\n",
       "      <th>72656</th>\n",
       "      <td>1807706</td>\n",
       "      <td>358c9e8a2ff80f858f6deb063e0bcf8f</td>\n",
       "      <td>0.337521</td>\n",
       "    </tr>\n",
       "    <tr>\n",
       "      <th>72657</th>\n",
       "      <td>1807706</td>\n",
       "      <td>b2a032747f34ec8488b2be2ebe180d9e</td>\n",
       "      <td>0.281354</td>\n",
       "    </tr>\n",
       "    <tr>\n",
       "      <th>72673</th>\n",
       "      <td>1316839</td>\n",
       "      <td>e8493cde7d253c7def5b030a2c94357d</td>\n",
       "      <td>0.977918</td>\n",
       "    </tr>\n",
       "    <tr>\n",
       "      <th>72674</th>\n",
       "      <td>1316839</td>\n",
       "      <td>c5039d9dda9bccb8ed150d8affedd306</td>\n",
       "      <td>0.375150</td>\n",
       "    </tr>\n",
       "  </tbody>\n",
       "</table>\n",
       "</div>"
      ],
      "text/plain": [
       "       document_id                         entity_id  confidence_level\n",
       "72655      1807706  11d5279de0b36011773ee50f75f9b43c          0.495961\n",
       "72656      1807706  358c9e8a2ff80f858f6deb063e0bcf8f          0.337521\n",
       "72657      1807706  b2a032747f34ec8488b2be2ebe180d9e          0.281354\n",
       "72673      1316839  e8493cde7d253c7def5b030a2c94357d          0.977918\n",
       "72674      1316839  c5039d9dda9bccb8ed150d8affedd306          0.375150"
      ]
     },
     "execution_count": 7,
     "metadata": {},
     "output_type": "execute_result"
    }
   ],
   "source": [
    "#each document has multiple possible entities, categories, topics with different confidence level. \n",
    "#maybe we should just for now keep the most likely entity, topic and category? \n",
    "doc_ents.head()"
   ]
  },
  {
   "cell_type": "code",
   "execution_count": 18,
   "metadata": {
    "collapsed": false
   },
   "outputs": [
    {
     "data": {
      "text/html": [
       "<div>\n",
       "<table border=\"1\" class=\"dataframe\">\n",
       "  <thead>\n",
       "    <tr style=\"text-align: right;\">\n",
       "      <th></th>\n",
       "      <th>Unnamed: 0</th>\n",
       "      <th>document_id</th>\n",
       "      <th>category_id</th>\n",
       "      <th>confidence_level</th>\n",
       "    </tr>\n",
       "  </thead>\n",
       "  <tbody>\n",
       "    <tr>\n",
       "      <th>0</th>\n",
       "      <td>51976</td>\n",
       "      <td>1807706</td>\n",
       "      <td>1209</td>\n",
       "      <td>0.92</td>\n",
       "    </tr>\n",
       "    <tr>\n",
       "      <th>1</th>\n",
       "      <td>51977</td>\n",
       "      <td>1807706</td>\n",
       "      <td>1205</td>\n",
       "      <td>0.07</td>\n",
       "    </tr>\n",
       "    <tr>\n",
       "      <th>2</th>\n",
       "      <td>51990</td>\n",
       "      <td>1316839</td>\n",
       "      <td>2003</td>\n",
       "      <td>0.92</td>\n",
       "    </tr>\n",
       "    <tr>\n",
       "      <th>3</th>\n",
       "      <td>51991</td>\n",
       "      <td>1316839</td>\n",
       "      <td>1211</td>\n",
       "      <td>0.07</td>\n",
       "    </tr>\n",
       "    <tr>\n",
       "      <th>4</th>\n",
       "      <td>51994</td>\n",
       "      <td>479029</td>\n",
       "      <td>1205</td>\n",
       "      <td>0.92</td>\n",
       "    </tr>\n",
       "  </tbody>\n",
       "</table>\n",
       "</div>"
      ],
      "text/plain": [
       "   Unnamed: 0  document_id  category_id  confidence_level\n",
       "0       51976      1807706         1209              0.92\n",
       "1       51977      1807706         1205              0.07\n",
       "2       51990      1316839         2003              0.92\n",
       "3       51991      1316839         1211              0.07\n",
       "4       51994       479029         1205              0.92"
      ]
     },
     "execution_count": 18,
     "metadata": {},
     "output_type": "execute_result"
    }
   ],
   "source": [
    "doc_cats.head()"
   ]
  },
  {
   "cell_type": "code",
   "execution_count": 55,
   "metadata": {
    "collapsed": false
   },
   "outputs": [
    {
     "data": {
      "text/html": [
       "<div>\n",
       "<table border=\"1\" class=\"dataframe\">\n",
       "  <thead>\n",
       "    <tr style=\"text-align: right;\">\n",
       "      <th></th>\n",
       "      <th>ad_id</th>\n",
       "      <th>clicked</th>\n",
       "      <th>uuid</th>\n",
       "      <th>document_id</th>\n",
       "      <th>timestamp</th>\n",
       "      <th>platform</th>\n",
       "      <th>geo_location</th>\n",
       "    </tr>\n",
       "    <tr>\n",
       "      <th>display_id</th>\n",
       "      <th></th>\n",
       "      <th></th>\n",
       "      <th></th>\n",
       "      <th></th>\n",
       "      <th></th>\n",
       "      <th></th>\n",
       "      <th></th>\n",
       "    </tr>\n",
       "  </thead>\n",
       "  <tbody>\n",
       "    <tr>\n",
       "      <th>10333</th>\n",
       "      <td>157598</td>\n",
       "      <td>0</td>\n",
       "      <td>ec3841c3250fb6</td>\n",
       "      <td>1405372</td>\n",
       "      <td>716674</td>\n",
       "      <td>2</td>\n",
       "      <td>US&gt;MO&gt;616</td>\n",
       "    </tr>\n",
       "  </tbody>\n",
       "</table>\n",
       "</div>"
      ],
      "text/plain": [
       "             ad_id  clicked            uuid  document_id  timestamp platform  \\\n",
       "display_id                                                                     \n",
       "10333       157598        0  ec3841c3250fb6      1405372     716674        2   \n",
       "\n",
       "           geo_location  \n",
       "display_id               \n",
       "10333         US>MO>616  "
      ]
     },
     "execution_count": 55,
     "metadata": {},
     "output_type": "execute_result"
    }
   ],
   "source": [
    "data[data['document_id']==1405372]"
   ]
  },
  {
   "cell_type": "code",
   "execution_count": 20,
   "metadata": {
    "collapsed": false
   },
   "outputs": [],
   "source": [
    "data[\"geo_location\"] = data[\"geo_location\"].apply(str)"
   ]
  },
  {
   "cell_type": "code",
   "execution_count": 21,
   "metadata": {
    "collapsed": false,
    "scrolled": true
   },
   "outputs": [
    {
     "data": {
      "text/html": [
       "<div>\n",
       "<table border=\"1\" class=\"dataframe\">\n",
       "  <thead>\n",
       "    <tr style=\"text-align: right;\">\n",
       "      <th></th>\n",
       "      <th>ad_id</th>\n",
       "      <th>clicked</th>\n",
       "      <th>uuid</th>\n",
       "      <th>document_id</th>\n",
       "      <th>timestamp</th>\n",
       "      <th>platform</th>\n",
       "      <th>geo_location</th>\n",
       "      <th>campaign_id</th>\n",
       "      <th>advertiser_id</th>\n",
       "      <th>country</th>\n",
       "      <th>state</th>\n",
       "      <th>loc_num</th>\n",
       "    </tr>\n",
       "    <tr>\n",
       "      <th>display_id</th>\n",
       "      <th></th>\n",
       "      <th></th>\n",
       "      <th></th>\n",
       "      <th></th>\n",
       "      <th></th>\n",
       "      <th></th>\n",
       "      <th></th>\n",
       "      <th></th>\n",
       "      <th></th>\n",
       "      <th></th>\n",
       "      <th></th>\n",
       "      <th></th>\n",
       "    </tr>\n",
       "  </thead>\n",
       "  <tbody>\n",
       "    <tr>\n",
       "      <th>8112</th>\n",
       "      <td>151682</td>\n",
       "      <td>1</td>\n",
       "      <td>715ddc85c78e39</td>\n",
       "      <td>1792396</td>\n",
       "      <td>559250</td>\n",
       "      <td>2</td>\n",
       "      <td>US&gt;MI&gt;563</td>\n",
       "      <td>19284</td>\n",
       "      <td>3283</td>\n",
       "      <td>US</td>\n",
       "      <td>MI</td>\n",
       "      <td>563</td>\n",
       "    </tr>\n",
       "    <tr>\n",
       "      <th>10333</th>\n",
       "      <td>157598</td>\n",
       "      <td>0</td>\n",
       "      <td>ec3841c3250fb6</td>\n",
       "      <td>1405372</td>\n",
       "      <td>716674</td>\n",
       "      <td>2</td>\n",
       "      <td>US&gt;MO&gt;616</td>\n",
       "      <td>18022</td>\n",
       "      <td>2312</td>\n",
       "      <td>US</td>\n",
       "      <td>MO</td>\n",
       "      <td>616</td>\n",
       "    </tr>\n",
       "    <tr>\n",
       "      <th>11278</th>\n",
       "      <td>103712</td>\n",
       "      <td>1</td>\n",
       "      <td>324475e5f191c8</td>\n",
       "      <td>1179111</td>\n",
       "      <td>784022</td>\n",
       "      <td>2</td>\n",
       "      <td>US&gt;GA&gt;524</td>\n",
       "      <td>5081</td>\n",
       "      <td>1759</td>\n",
       "      <td>US</td>\n",
       "      <td>GA</td>\n",
       "      <td>524</td>\n",
       "    </tr>\n",
       "    <tr>\n",
       "      <th>13320</th>\n",
       "      <td>139944</td>\n",
       "      <td>1</td>\n",
       "      <td>27221a85141108</td>\n",
       "      <td>735143</td>\n",
       "      <td>926961</td>\n",
       "      <td>2</td>\n",
       "      <td>US&gt;CA&gt;807</td>\n",
       "      <td>17929</td>\n",
       "      <td>1782</td>\n",
       "      <td>US</td>\n",
       "      <td>CA</td>\n",
       "      <td>807</td>\n",
       "    </tr>\n",
       "    <tr>\n",
       "      <th>13905</th>\n",
       "      <td>173393</td>\n",
       "      <td>0</td>\n",
       "      <td>9ea0907cee579e</td>\n",
       "      <td>1794259</td>\n",
       "      <td>971672</td>\n",
       "      <td>2</td>\n",
       "      <td>US&gt;IL&gt;602</td>\n",
       "      <td>21143</td>\n",
       "      <td>2876</td>\n",
       "      <td>US</td>\n",
       "      <td>IL</td>\n",
       "      <td>602</td>\n",
       "    </tr>\n",
       "  </tbody>\n",
       "</table>\n",
       "</div>"
      ],
      "text/plain": [
       "             ad_id  clicked            uuid  document_id  timestamp  platform  \\\n",
       "display_id                                                                      \n",
       "8112        151682        1  715ddc85c78e39      1792396     559250         2   \n",
       "10333       157598        0  ec3841c3250fb6      1405372     716674         2   \n",
       "11278       103712        1  324475e5f191c8      1179111     784022         2   \n",
       "13320       139944        1  27221a85141108       735143     926961         2   \n",
       "13905       173393        0  9ea0907cee579e      1794259     971672         2   \n",
       "\n",
       "           geo_location  campaign_id  advertiser_id country state loc_num  \n",
       "display_id                                                                 \n",
       "8112          US>MI>563        19284           3283      US    MI     563  \n",
       "10333         US>MO>616        18022           2312      US    MO     616  \n",
       "11278         US>GA>524         5081           1759      US    GA     524  \n",
       "13320         US>CA>807        17929           1782      US    CA     807  \n",
       "13905         US>IL>602        21143           2876      US    IL     602  "
      ]
     },
     "execution_count": 21,
     "metadata": {},
     "output_type": "execute_result"
    }
   ],
   "source": [
    "data[\"country\"] = [x[:2] for x in data[\"geo_location\"]]\n",
    "data[\"state\"] = [x[3:5] for x in data[\"geo_location\"]]\n",
    "data[\"loc_num\"]= [x[6:] for x in data[\"geo_location\"]]\n",
    "data[\"loc_num\"] = data[\"loc_num\"].map(str)\n",
    "data.head()"
   ]
  },
  {
   "cell_type": "code",
   "execution_count": 22,
   "metadata": {
    "collapsed": false
   },
   "outputs": [
    {
     "data": {
      "text/html": [
       "<div>\n",
       "<table border=\"1\" class=\"dataframe\">\n",
       "  <thead>\n",
       "    <tr style=\"text-align: right;\">\n",
       "      <th></th>\n",
       "      <th>ad_id</th>\n",
       "      <th>clicked</th>\n",
       "      <th>uuid</th>\n",
       "      <th>document_id</th>\n",
       "      <th>timestamp</th>\n",
       "      <th>platform</th>\n",
       "      <th>geo_location</th>\n",
       "      <th>campaign_id</th>\n",
       "      <th>advertiser_id</th>\n",
       "      <th>country</th>\n",
       "      <th>...</th>\n",
       "      <th>country_TZ</th>\n",
       "      <th>country_UA</th>\n",
       "      <th>country_UG</th>\n",
       "      <th>country_US</th>\n",
       "      <th>country_UZ</th>\n",
       "      <th>country_VI</th>\n",
       "      <th>country_VN</th>\n",
       "      <th>country_ZA</th>\n",
       "      <th>country_ZM</th>\n",
       "      <th>country_ZW</th>\n",
       "    </tr>\n",
       "    <tr>\n",
       "      <th>display_id</th>\n",
       "      <th></th>\n",
       "      <th></th>\n",
       "      <th></th>\n",
       "      <th></th>\n",
       "      <th></th>\n",
       "      <th></th>\n",
       "      <th></th>\n",
       "      <th></th>\n",
       "      <th></th>\n",
       "      <th></th>\n",
       "      <th></th>\n",
       "      <th></th>\n",
       "      <th></th>\n",
       "      <th></th>\n",
       "      <th></th>\n",
       "      <th></th>\n",
       "      <th></th>\n",
       "      <th></th>\n",
       "      <th></th>\n",
       "      <th></th>\n",
       "      <th></th>\n",
       "    </tr>\n",
       "  </thead>\n",
       "  <tbody>\n",
       "    <tr>\n",
       "      <th>8112</th>\n",
       "      <td>151682</td>\n",
       "      <td>1</td>\n",
       "      <td>715ddc85c78e39</td>\n",
       "      <td>1792396</td>\n",
       "      <td>559250</td>\n",
       "      <td>2</td>\n",
       "      <td>US&gt;MI&gt;563</td>\n",
       "      <td>19284</td>\n",
       "      <td>3283</td>\n",
       "      <td>US</td>\n",
       "      <td>...</td>\n",
       "      <td>0</td>\n",
       "      <td>0</td>\n",
       "      <td>0</td>\n",
       "      <td>1</td>\n",
       "      <td>0</td>\n",
       "      <td>0</td>\n",
       "      <td>0</td>\n",
       "      <td>0</td>\n",
       "      <td>0</td>\n",
       "      <td>0</td>\n",
       "    </tr>\n",
       "    <tr>\n",
       "      <th>10333</th>\n",
       "      <td>157598</td>\n",
       "      <td>0</td>\n",
       "      <td>ec3841c3250fb6</td>\n",
       "      <td>1405372</td>\n",
       "      <td>716674</td>\n",
       "      <td>2</td>\n",
       "      <td>US&gt;MO&gt;616</td>\n",
       "      <td>18022</td>\n",
       "      <td>2312</td>\n",
       "      <td>US</td>\n",
       "      <td>...</td>\n",
       "      <td>0</td>\n",
       "      <td>0</td>\n",
       "      <td>0</td>\n",
       "      <td>1</td>\n",
       "      <td>0</td>\n",
       "      <td>0</td>\n",
       "      <td>0</td>\n",
       "      <td>0</td>\n",
       "      <td>0</td>\n",
       "      <td>0</td>\n",
       "    </tr>\n",
       "    <tr>\n",
       "      <th>11278</th>\n",
       "      <td>103712</td>\n",
       "      <td>1</td>\n",
       "      <td>324475e5f191c8</td>\n",
       "      <td>1179111</td>\n",
       "      <td>784022</td>\n",
       "      <td>2</td>\n",
       "      <td>US&gt;GA&gt;524</td>\n",
       "      <td>5081</td>\n",
       "      <td>1759</td>\n",
       "      <td>US</td>\n",
       "      <td>...</td>\n",
       "      <td>0</td>\n",
       "      <td>0</td>\n",
       "      <td>0</td>\n",
       "      <td>1</td>\n",
       "      <td>0</td>\n",
       "      <td>0</td>\n",
       "      <td>0</td>\n",
       "      <td>0</td>\n",
       "      <td>0</td>\n",
       "      <td>0</td>\n",
       "    </tr>\n",
       "    <tr>\n",
       "      <th>13320</th>\n",
       "      <td>139944</td>\n",
       "      <td>1</td>\n",
       "      <td>27221a85141108</td>\n",
       "      <td>735143</td>\n",
       "      <td>926961</td>\n",
       "      <td>2</td>\n",
       "      <td>US&gt;CA&gt;807</td>\n",
       "      <td>17929</td>\n",
       "      <td>1782</td>\n",
       "      <td>US</td>\n",
       "      <td>...</td>\n",
       "      <td>0</td>\n",
       "      <td>0</td>\n",
       "      <td>0</td>\n",
       "      <td>1</td>\n",
       "      <td>0</td>\n",
       "      <td>0</td>\n",
       "      <td>0</td>\n",
       "      <td>0</td>\n",
       "      <td>0</td>\n",
       "      <td>0</td>\n",
       "    </tr>\n",
       "    <tr>\n",
       "      <th>13905</th>\n",
       "      <td>173393</td>\n",
       "      <td>0</td>\n",
       "      <td>9ea0907cee579e</td>\n",
       "      <td>1794259</td>\n",
       "      <td>971672</td>\n",
       "      <td>2</td>\n",
       "      <td>US&gt;IL&gt;602</td>\n",
       "      <td>21143</td>\n",
       "      <td>2876</td>\n",
       "      <td>US</td>\n",
       "      <td>...</td>\n",
       "      <td>0</td>\n",
       "      <td>0</td>\n",
       "      <td>0</td>\n",
       "      <td>1</td>\n",
       "      <td>0</td>\n",
       "      <td>0</td>\n",
       "      <td>0</td>\n",
       "      <td>0</td>\n",
       "      <td>0</td>\n",
       "      <td>0</td>\n",
       "    </tr>\n",
       "  </tbody>\n",
       "</table>\n",
       "<p>5 rows × 5501 columns</p>\n",
       "</div>"
      ],
      "text/plain": [
       "             ad_id  clicked            uuid  document_id  timestamp  platform  \\\n",
       "display_id                                                                      \n",
       "8112        151682        1  715ddc85c78e39      1792396     559250         2   \n",
       "10333       157598        0  ec3841c3250fb6      1405372     716674         2   \n",
       "11278       103712        1  324475e5f191c8      1179111     784022         2   \n",
       "13320       139944        1  27221a85141108       735143     926961         2   \n",
       "13905       173393        0  9ea0907cee579e      1794259     971672         2   \n",
       "\n",
       "           geo_location  campaign_id  advertiser_id country     ...      \\\n",
       "display_id                                                      ...       \n",
       "8112          US>MI>563        19284           3283      US     ...       \n",
       "10333         US>MO>616        18022           2312      US     ...       \n",
       "11278         US>GA>524         5081           1759      US     ...       \n",
       "13320         US>CA>807        17929           1782      US     ...       \n",
       "13905         US>IL>602        21143           2876      US     ...       \n",
       "\n",
       "           country_TZ country_UA  country_UG  country_US  country_UZ  \\\n",
       "display_id                                                             \n",
       "8112                0          0           0           1           0   \n",
       "10333               0          0           0           1           0   \n",
       "11278               0          0           0           1           0   \n",
       "13320               0          0           0           1           0   \n",
       "13905               0          0           0           1           0   \n",
       "\n",
       "            country_VI  country_VN  country_ZA  country_ZM  country_ZW  \n",
       "display_id                                                              \n",
       "8112                 0           0           0           0           0  \n",
       "10333                0           0           0           0           0  \n",
       "11278                0           0           0           0           0  \n",
       "13320                0           0           0           0           0  \n",
       "13905                0           0           0           0           0  \n",
       "\n",
       "[5 rows x 5501 columns]"
      ]
     },
     "execution_count": 22,
     "metadata": {},
     "output_type": "execute_result"
    }
   ],
   "source": [
    "list_to_binarize = [\"advertiser_id\", \"campaign_id\", \"platform\", \"country\"]\n",
    "\n",
    "for i in list_to_binarize:\n",
    "    temp = pd.get_dummies(data[i], prefix = i)\n",
    "    data = data.join(temp)\n",
    "data.head()"
   ]
  },
  {
   "cell_type": "code",
   "execution_count": 34,
   "metadata": {
    "collapsed": false
   },
   "outputs": [
    {
     "data": {
      "text/html": [
       "<div>\n",
       "<table border=\"1\" class=\"dataframe\">\n",
       "  <thead>\n",
       "    <tr style=\"text-align: right;\">\n",
       "      <th></th>\n",
       "      <th>ad_id</th>\n",
       "      <th>clicked</th>\n",
       "      <th>uuid</th>\n",
       "      <th>document_id</th>\n",
       "      <th>timestamp</th>\n",
       "      <th>platform</th>\n",
       "      <th>geo_location</th>\n",
       "      <th>campaign_id</th>\n",
       "      <th>advertiser_id</th>\n",
       "      <th>country</th>\n",
       "      <th>...</th>\n",
       "      <th>country_TZ</th>\n",
       "      <th>country_UA</th>\n",
       "      <th>country_UG</th>\n",
       "      <th>country_US</th>\n",
       "      <th>country_UZ</th>\n",
       "      <th>country_VI</th>\n",
       "      <th>country_VN</th>\n",
       "      <th>country_ZA</th>\n",
       "      <th>country_ZM</th>\n",
       "      <th>country_ZW</th>\n",
       "    </tr>\n",
       "    <tr>\n",
       "      <th>display_id</th>\n",
       "      <th></th>\n",
       "      <th></th>\n",
       "      <th></th>\n",
       "      <th></th>\n",
       "      <th></th>\n",
       "      <th></th>\n",
       "      <th></th>\n",
       "      <th></th>\n",
       "      <th></th>\n",
       "      <th></th>\n",
       "      <th></th>\n",
       "      <th></th>\n",
       "      <th></th>\n",
       "      <th></th>\n",
       "      <th></th>\n",
       "      <th></th>\n",
       "      <th></th>\n",
       "      <th></th>\n",
       "      <th></th>\n",
       "      <th></th>\n",
       "      <th></th>\n",
       "    </tr>\n",
       "  </thead>\n",
       "  <tbody>\n",
       "    <tr>\n",
       "      <th>8112</th>\n",
       "      <td>151682</td>\n",
       "      <td>1</td>\n",
       "      <td>715ddc85c78e39</td>\n",
       "      <td>1792396</td>\n",
       "      <td>559250</td>\n",
       "      <td>2</td>\n",
       "      <td>US&gt;MI&gt;563</td>\n",
       "      <td>19284</td>\n",
       "      <td>3283</td>\n",
       "      <td>US</td>\n",
       "      <td>...</td>\n",
       "      <td>0</td>\n",
       "      <td>0</td>\n",
       "      <td>0</td>\n",
       "      <td>1</td>\n",
       "      <td>0</td>\n",
       "      <td>0</td>\n",
       "      <td>0</td>\n",
       "      <td>0</td>\n",
       "      <td>0</td>\n",
       "      <td>0</td>\n",
       "    </tr>\n",
       "    <tr>\n",
       "      <th>10333</th>\n",
       "      <td>157598</td>\n",
       "      <td>0</td>\n",
       "      <td>ec3841c3250fb6</td>\n",
       "      <td>1405372</td>\n",
       "      <td>716674</td>\n",
       "      <td>2</td>\n",
       "      <td>US&gt;MO&gt;616</td>\n",
       "      <td>18022</td>\n",
       "      <td>2312</td>\n",
       "      <td>US</td>\n",
       "      <td>...</td>\n",
       "      <td>0</td>\n",
       "      <td>0</td>\n",
       "      <td>0</td>\n",
       "      <td>1</td>\n",
       "      <td>0</td>\n",
       "      <td>0</td>\n",
       "      <td>0</td>\n",
       "      <td>0</td>\n",
       "      <td>0</td>\n",
       "      <td>0</td>\n",
       "    </tr>\n",
       "    <tr>\n",
       "      <th>11278</th>\n",
       "      <td>103712</td>\n",
       "      <td>1</td>\n",
       "      <td>324475e5f191c8</td>\n",
       "      <td>1179111</td>\n",
       "      <td>784022</td>\n",
       "      <td>2</td>\n",
       "      <td>US&gt;GA&gt;524</td>\n",
       "      <td>5081</td>\n",
       "      <td>1759</td>\n",
       "      <td>US</td>\n",
       "      <td>...</td>\n",
       "      <td>0</td>\n",
       "      <td>0</td>\n",
       "      <td>0</td>\n",
       "      <td>1</td>\n",
       "      <td>0</td>\n",
       "      <td>0</td>\n",
       "      <td>0</td>\n",
       "      <td>0</td>\n",
       "      <td>0</td>\n",
       "      <td>0</td>\n",
       "    </tr>\n",
       "    <tr>\n",
       "      <th>13320</th>\n",
       "      <td>139944</td>\n",
       "      <td>1</td>\n",
       "      <td>27221a85141108</td>\n",
       "      <td>735143</td>\n",
       "      <td>926961</td>\n",
       "      <td>2</td>\n",
       "      <td>US&gt;CA&gt;807</td>\n",
       "      <td>17929</td>\n",
       "      <td>1782</td>\n",
       "      <td>US</td>\n",
       "      <td>...</td>\n",
       "      <td>0</td>\n",
       "      <td>0</td>\n",
       "      <td>0</td>\n",
       "      <td>1</td>\n",
       "      <td>0</td>\n",
       "      <td>0</td>\n",
       "      <td>0</td>\n",
       "      <td>0</td>\n",
       "      <td>0</td>\n",
       "      <td>0</td>\n",
       "    </tr>\n",
       "    <tr>\n",
       "      <th>13905</th>\n",
       "      <td>173393</td>\n",
       "      <td>0</td>\n",
       "      <td>9ea0907cee579e</td>\n",
       "      <td>1794259</td>\n",
       "      <td>971672</td>\n",
       "      <td>2</td>\n",
       "      <td>US&gt;IL&gt;602</td>\n",
       "      <td>21143</td>\n",
       "      <td>2876</td>\n",
       "      <td>US</td>\n",
       "      <td>...</td>\n",
       "      <td>0</td>\n",
       "      <td>0</td>\n",
       "      <td>0</td>\n",
       "      <td>1</td>\n",
       "      <td>0</td>\n",
       "      <td>0</td>\n",
       "      <td>0</td>\n",
       "      <td>0</td>\n",
       "      <td>0</td>\n",
       "      <td>0</td>\n",
       "    </tr>\n",
       "  </tbody>\n",
       "</table>\n",
       "<p>5 rows × 5501 columns</p>\n",
       "</div>"
      ],
      "text/plain": [
       "             ad_id  clicked            uuid  document_id  timestamp  platform  \\\n",
       "display_id                                                                      \n",
       "8112        151682        1  715ddc85c78e39      1792396     559250         2   \n",
       "10333       157598        0  ec3841c3250fb6      1405372     716674         2   \n",
       "11278       103712        1  324475e5f191c8      1179111     784022         2   \n",
       "13320       139944        1  27221a85141108       735143     926961         2   \n",
       "13905       173393        0  9ea0907cee579e      1794259     971672         2   \n",
       "\n",
       "           geo_location  campaign_id  advertiser_id country     ...      \\\n",
       "display_id                                                      ...       \n",
       "8112          US>MI>563        19284           3283      US     ...       \n",
       "10333         US>MO>616        18022           2312      US     ...       \n",
       "11278         US>GA>524         5081           1759      US     ...       \n",
       "13320         US>CA>807        17929           1782      US     ...       \n",
       "13905         US>IL>602        21143           2876      US     ...       \n",
       "\n",
       "           country_TZ country_UA  country_UG  country_US  country_UZ  \\\n",
       "display_id                                                             \n",
       "8112                0          0           0           1           0   \n",
       "10333               0          0           0           1           0   \n",
       "11278               0          0           0           1           0   \n",
       "13320               0          0           0           1           0   \n",
       "13905               0          0           0           1           0   \n",
       "\n",
       "            country_VI  country_VN  country_ZA  country_ZM  country_ZW  \n",
       "display_id                                                              \n",
       "8112                 0           0           0           0           0  \n",
       "10333                0           0           0           0           0  \n",
       "11278                0           0           0           0           0  \n",
       "13320                0           0           0           0           0  \n",
       "13905                0           0           0           0           0  \n",
       "\n",
       "[5 rows x 5501 columns]"
      ]
     },
     "execution_count": 34,
     "metadata": {},
     "output_type": "execute_result"
    }
   ],
   "source": [
    "clean = copy.deepcopy(data)\n",
    "clean.head()"
   ]
  },
  {
   "cell_type": "code",
   "execution_count": 35,
   "metadata": {
    "collapsed": false
   },
   "outputs": [
    {
     "data": {
      "text/plain": [
       "6042"
      ]
     },
     "execution_count": 35,
     "metadata": {},
     "output_type": "execute_result"
    }
   ],
   "source": [
    "len(data[\"ad_id\"].unique())"
   ]
  },
  {
   "cell_type": "code",
   "execution_count": 36,
   "metadata": {
    "collapsed": false
   },
   "outputs": [
    {
     "data": {
      "text/plain": [
       "7240"
      ]
     },
     "execution_count": 36,
     "metadata": {},
     "output_type": "execute_result"
    }
   ],
   "source": [
    "len(clean['document_id'].unique())"
   ]
  },
  {
   "cell_type": "code",
   "execution_count": 37,
   "metadata": {
    "collapsed": false
   },
   "outputs": [],
   "source": [
    "#drop the non-cleaned up data for now\n",
    "del clean['country'], clean['state'], clean[\"ad_id\"], clean[\"uuid\"], clean[\"document_id\"],clean[\"timestamp\"], clean[\"platform\"], clean[\"geo_location\"], clean['campaign_id'], clean[\"advertiser_id\"]"
   ]
  },
  {
   "cell_type": "code",
   "execution_count": 39,
   "metadata": {
    "collapsed": false
   },
   "outputs": [
    {
     "data": {
      "text/html": [
       "<div>\n",
       "<table border=\"1\" class=\"dataframe\">\n",
       "  <thead>\n",
       "    <tr style=\"text-align: right;\">\n",
       "      <th></th>\n",
       "      <th>clicked</th>\n",
       "      <th>loc_num</th>\n",
       "      <th>advertiser_id_4</th>\n",
       "      <th>advertiser_id_5</th>\n",
       "      <th>advertiser_id_8</th>\n",
       "      <th>advertiser_id_9</th>\n",
       "      <th>advertiser_id_10</th>\n",
       "      <th>advertiser_id_12</th>\n",
       "      <th>advertiser_id_13</th>\n",
       "      <th>advertiser_id_14</th>\n",
       "      <th>...</th>\n",
       "      <th>country_TZ</th>\n",
       "      <th>country_UA</th>\n",
       "      <th>country_UG</th>\n",
       "      <th>country_US</th>\n",
       "      <th>country_UZ</th>\n",
       "      <th>country_VI</th>\n",
       "      <th>country_VN</th>\n",
       "      <th>country_ZA</th>\n",
       "      <th>country_ZM</th>\n",
       "      <th>country_ZW</th>\n",
       "    </tr>\n",
       "    <tr>\n",
       "      <th>display_id</th>\n",
       "      <th></th>\n",
       "      <th></th>\n",
       "      <th></th>\n",
       "      <th></th>\n",
       "      <th></th>\n",
       "      <th></th>\n",
       "      <th></th>\n",
       "      <th></th>\n",
       "      <th></th>\n",
       "      <th></th>\n",
       "      <th></th>\n",
       "      <th></th>\n",
       "      <th></th>\n",
       "      <th></th>\n",
       "      <th></th>\n",
       "      <th></th>\n",
       "      <th></th>\n",
       "      <th></th>\n",
       "      <th></th>\n",
       "      <th></th>\n",
       "      <th></th>\n",
       "    </tr>\n",
       "  </thead>\n",
       "  <tbody>\n",
       "    <tr>\n",
       "      <th>8112</th>\n",
       "      <td>1</td>\n",
       "      <td>563</td>\n",
       "      <td>0</td>\n",
       "      <td>0</td>\n",
       "      <td>0</td>\n",
       "      <td>0</td>\n",
       "      <td>0</td>\n",
       "      <td>0</td>\n",
       "      <td>0</td>\n",
       "      <td>0</td>\n",
       "      <td>...</td>\n",
       "      <td>0</td>\n",
       "      <td>0</td>\n",
       "      <td>0</td>\n",
       "      <td>1</td>\n",
       "      <td>0</td>\n",
       "      <td>0</td>\n",
       "      <td>0</td>\n",
       "      <td>0</td>\n",
       "      <td>0</td>\n",
       "      <td>0</td>\n",
       "    </tr>\n",
       "    <tr>\n",
       "      <th>10333</th>\n",
       "      <td>0</td>\n",
       "      <td>616</td>\n",
       "      <td>0</td>\n",
       "      <td>0</td>\n",
       "      <td>0</td>\n",
       "      <td>0</td>\n",
       "      <td>0</td>\n",
       "      <td>0</td>\n",
       "      <td>0</td>\n",
       "      <td>0</td>\n",
       "      <td>...</td>\n",
       "      <td>0</td>\n",
       "      <td>0</td>\n",
       "      <td>0</td>\n",
       "      <td>1</td>\n",
       "      <td>0</td>\n",
       "      <td>0</td>\n",
       "      <td>0</td>\n",
       "      <td>0</td>\n",
       "      <td>0</td>\n",
       "      <td>0</td>\n",
       "    </tr>\n",
       "    <tr>\n",
       "      <th>11278</th>\n",
       "      <td>1</td>\n",
       "      <td>524</td>\n",
       "      <td>0</td>\n",
       "      <td>0</td>\n",
       "      <td>0</td>\n",
       "      <td>0</td>\n",
       "      <td>0</td>\n",
       "      <td>0</td>\n",
       "      <td>0</td>\n",
       "      <td>0</td>\n",
       "      <td>...</td>\n",
       "      <td>0</td>\n",
       "      <td>0</td>\n",
       "      <td>0</td>\n",
       "      <td>1</td>\n",
       "      <td>0</td>\n",
       "      <td>0</td>\n",
       "      <td>0</td>\n",
       "      <td>0</td>\n",
       "      <td>0</td>\n",
       "      <td>0</td>\n",
       "    </tr>\n",
       "    <tr>\n",
       "      <th>13320</th>\n",
       "      <td>1</td>\n",
       "      <td>807</td>\n",
       "      <td>0</td>\n",
       "      <td>0</td>\n",
       "      <td>0</td>\n",
       "      <td>0</td>\n",
       "      <td>0</td>\n",
       "      <td>0</td>\n",
       "      <td>0</td>\n",
       "      <td>0</td>\n",
       "      <td>...</td>\n",
       "      <td>0</td>\n",
       "      <td>0</td>\n",
       "      <td>0</td>\n",
       "      <td>1</td>\n",
       "      <td>0</td>\n",
       "      <td>0</td>\n",
       "      <td>0</td>\n",
       "      <td>0</td>\n",
       "      <td>0</td>\n",
       "      <td>0</td>\n",
       "    </tr>\n",
       "    <tr>\n",
       "      <th>13905</th>\n",
       "      <td>0</td>\n",
       "      <td>602</td>\n",
       "      <td>0</td>\n",
       "      <td>0</td>\n",
       "      <td>0</td>\n",
       "      <td>0</td>\n",
       "      <td>0</td>\n",
       "      <td>0</td>\n",
       "      <td>0</td>\n",
       "      <td>0</td>\n",
       "      <td>...</td>\n",
       "      <td>0</td>\n",
       "      <td>0</td>\n",
       "      <td>0</td>\n",
       "      <td>1</td>\n",
       "      <td>0</td>\n",
       "      <td>0</td>\n",
       "      <td>0</td>\n",
       "      <td>0</td>\n",
       "      <td>0</td>\n",
       "      <td>0</td>\n",
       "    </tr>\n",
       "  </tbody>\n",
       "</table>\n",
       "<p>5 rows × 5491 columns</p>\n",
       "</div>"
      ],
      "text/plain": [
       "            clicked loc_num  advertiser_id_4  advertiser_id_5  \\\n",
       "display_id                                                      \n",
       "8112              1     563                0                0   \n",
       "10333             0     616                0                0   \n",
       "11278             1     524                0                0   \n",
       "13320             1     807                0                0   \n",
       "13905             0     602                0                0   \n",
       "\n",
       "            advertiser_id_8  advertiser_id_9  advertiser_id_10  \\\n",
       "display_id                                                       \n",
       "8112                      0                0                 0   \n",
       "10333                     0                0                 0   \n",
       "11278                     0                0                 0   \n",
       "13320                     0                0                 0   \n",
       "13905                     0                0                 0   \n",
       "\n",
       "            advertiser_id_12  advertiser_id_13  advertiser_id_14     ...      \\\n",
       "display_id                                                           ...       \n",
       "8112                       0                 0                 0     ...       \n",
       "10333                      0                 0                 0     ...       \n",
       "11278                      0                 0                 0     ...       \n",
       "13320                      0                 0                 0     ...       \n",
       "13905                      0                 0                 0     ...       \n",
       "\n",
       "            country_TZ  country_UA  country_UG  country_US  country_UZ  \\\n",
       "display_id                                                               \n",
       "8112                 0           0           0           1           0   \n",
       "10333                0           0           0           1           0   \n",
       "11278                0           0           0           1           0   \n",
       "13320                0           0           0           1           0   \n",
       "13905                0           0           0           1           0   \n",
       "\n",
       "            country_VI  country_VN  country_ZA  country_ZM  country_ZW  \n",
       "display_id                                                              \n",
       "8112                 0           0           0           0           0  \n",
       "10333                0           0           0           0           0  \n",
       "11278                0           0           0           0           0  \n",
       "13320                0           0           0           0           0  \n",
       "13905                0           0           0           0           0  \n",
       "\n",
       "[5 rows x 5491 columns]"
      ]
     },
     "execution_count": 39,
     "metadata": {},
     "output_type": "execute_result"
    }
   ],
   "source": [
    "len(clean.columns)\n",
    "clean.head()"
   ]
  },
  {
   "cell_type": "markdown",
   "metadata": {},
   "source": [
    "## Make training and test sets"
   ]
  },
  {
   "cell_type": "code",
   "execution_count": 45,
   "metadata": {
    "collapsed": false
   },
   "outputs": [],
   "source": [
    "labels = clean['clicked']\n",
    "labels = labels.values.reshape(-1,1) # check this please! my python is 3.5 and told me to use values.reshape\n",
    "del clean['clicked']"
   ]
  },
  {
   "cell_type": "code",
   "execution_count": 55,
   "metadata": {
    "collapsed": false
   },
   "outputs": [],
   "source": [
    "train_data = clean[:round(.7*len(clean))]\n",
    "train_labels = labels[:round(.7*len(clean))]\n",
    "test_data = clean[round(.7*len(clean)):]\n",
    "test_labels = labels[round(.7*len(clean)):]"
   ]
  },
  {
   "cell_type": "code",
   "execution_count": 56,
   "metadata": {
    "collapsed": false
   },
   "outputs": [
    {
     "ename": "ValueError",
     "evalue": "could not convert string to float: ",
     "output_type": "error",
     "traceback": [
      "\u001b[0;31m---------------------------------------------------------------------------\u001b[0m",
      "\u001b[0;31mValueError\u001b[0m                                Traceback (most recent call last)",
      "\u001b[0;32m<ipython-input-56-402f2cce38e2>\u001b[0m in \u001b[0;36m<module>\u001b[0;34m()\u001b[0m\n\u001b[1;32m      1\u001b[0m \u001b[0mlr\u001b[0m \u001b[0;34m=\u001b[0m \u001b[0mLogisticRegression\u001b[0m\u001b[0;34m(\u001b[0m\u001b[0;34m)\u001b[0m\u001b[0;34m\u001b[0m\u001b[0m\n\u001b[0;32m----> 2\u001b[0;31m \u001b[0mlr\u001b[0m\u001b[0;34m.\u001b[0m\u001b[0mfit\u001b[0m\u001b[0;34m(\u001b[0m\u001b[0mtrain_data\u001b[0m\u001b[0;34m,\u001b[0m \u001b[0mtrain_labels\u001b[0m\u001b[0;34m)\u001b[0m\u001b[0;34m\u001b[0m\u001b[0m\n\u001b[0m\u001b[1;32m      3\u001b[0m \u001b[0mlr\u001b[0m\u001b[0;34m.\u001b[0m\u001b[0mpredict\u001b[0m\u001b[0;34m(\u001b[0m\u001b[0mtest_data\u001b[0m\u001b[0;34m,\u001b[0m \u001b[0mtest_labels\u001b[0m\u001b[0;34m)\u001b[0m\u001b[0;34m\u001b[0m\u001b[0m\n",
      "\u001b[0;32m/Users/nicolelee/miniconda3/lib/python3.5/site-packages/sklearn/linear_model/logistic.py\u001b[0m in \u001b[0;36mfit\u001b[0;34m(self, X, y, sample_weight)\u001b[0m\n\u001b[1;32m   1171\u001b[0m \u001b[0;34m\u001b[0m\u001b[0m\n\u001b[1;32m   1172\u001b[0m         X, y = check_X_y(X, y, accept_sparse='csr', dtype=np.float64,\n\u001b[0;32m-> 1173\u001b[0;31m                          order=\"C\")\n\u001b[0m\u001b[1;32m   1174\u001b[0m         \u001b[0mcheck_classification_targets\u001b[0m\u001b[0;34m(\u001b[0m\u001b[0my\u001b[0m\u001b[0;34m)\u001b[0m\u001b[0;34m\u001b[0m\u001b[0m\n\u001b[1;32m   1175\u001b[0m         \u001b[0mself\u001b[0m\u001b[0;34m.\u001b[0m\u001b[0mclasses_\u001b[0m \u001b[0;34m=\u001b[0m \u001b[0mnp\u001b[0m\u001b[0;34m.\u001b[0m\u001b[0munique\u001b[0m\u001b[0;34m(\u001b[0m\u001b[0my\u001b[0m\u001b[0;34m)\u001b[0m\u001b[0;34m\u001b[0m\u001b[0m\n",
      "\u001b[0;32m/Users/nicolelee/miniconda3/lib/python3.5/site-packages/sklearn/utils/validation.py\u001b[0m in \u001b[0;36mcheck_X_y\u001b[0;34m(X, y, accept_sparse, dtype, order, copy, force_all_finite, ensure_2d, allow_nd, multi_output, ensure_min_samples, ensure_min_features, y_numeric, warn_on_dtype, estimator)\u001b[0m\n\u001b[1;32m    519\u001b[0m     X = check_array(X, accept_sparse, dtype, order, copy, force_all_finite,\n\u001b[1;32m    520\u001b[0m                     \u001b[0mensure_2d\u001b[0m\u001b[0;34m,\u001b[0m \u001b[0mallow_nd\u001b[0m\u001b[0;34m,\u001b[0m \u001b[0mensure_min_samples\u001b[0m\u001b[0;34m,\u001b[0m\u001b[0;34m\u001b[0m\u001b[0m\n\u001b[0;32m--> 521\u001b[0;31m                     ensure_min_features, warn_on_dtype, estimator)\n\u001b[0m\u001b[1;32m    522\u001b[0m     \u001b[0;32mif\u001b[0m \u001b[0mmulti_output\u001b[0m\u001b[0;34m:\u001b[0m\u001b[0;34m\u001b[0m\u001b[0m\n\u001b[1;32m    523\u001b[0m         y = check_array(y, 'csr', force_all_finite=True, ensure_2d=False,\n",
      "\u001b[0;32m/Users/nicolelee/miniconda3/lib/python3.5/site-packages/sklearn/utils/validation.py\u001b[0m in \u001b[0;36mcheck_array\u001b[0;34m(array, accept_sparse, dtype, order, copy, force_all_finite, ensure_2d, allow_nd, ensure_min_samples, ensure_min_features, warn_on_dtype, estimator)\u001b[0m\n\u001b[1;32m    380\u001b[0m                                       force_all_finite)\n\u001b[1;32m    381\u001b[0m     \u001b[0;32melse\u001b[0m\u001b[0;34m:\u001b[0m\u001b[0;34m\u001b[0m\u001b[0m\n\u001b[0;32m--> 382\u001b[0;31m         \u001b[0marray\u001b[0m \u001b[0;34m=\u001b[0m \u001b[0mnp\u001b[0m\u001b[0;34m.\u001b[0m\u001b[0marray\u001b[0m\u001b[0;34m(\u001b[0m\u001b[0marray\u001b[0m\u001b[0;34m,\u001b[0m \u001b[0mdtype\u001b[0m\u001b[0;34m=\u001b[0m\u001b[0mdtype\u001b[0m\u001b[0;34m,\u001b[0m \u001b[0morder\u001b[0m\u001b[0;34m=\u001b[0m\u001b[0morder\u001b[0m\u001b[0;34m,\u001b[0m \u001b[0mcopy\u001b[0m\u001b[0;34m=\u001b[0m\u001b[0mcopy\u001b[0m\u001b[0;34m)\u001b[0m\u001b[0;34m\u001b[0m\u001b[0m\n\u001b[0m\u001b[1;32m    383\u001b[0m \u001b[0;34m\u001b[0m\u001b[0m\n\u001b[1;32m    384\u001b[0m         \u001b[0;32mif\u001b[0m \u001b[0mensure_2d\u001b[0m\u001b[0;34m:\u001b[0m\u001b[0;34m\u001b[0m\u001b[0m\n",
      "\u001b[0;31mValueError\u001b[0m: could not convert string to float: "
     ]
    }
   ],
   "source": [
    "lr = LogisticRegression()\n",
    "lr.fit(train_data, train_labels)\n",
    "lr.predict(test_data, test_labels)\n",
    "\n",
    "# Logistic Regression is not the best model because we have to binarize our features\n",
    "# to make them numeric. This leads to >5000 columns which is unruly and not optimal."
   ]
  },
  {
   "cell_type": "code",
   "execution_count": null,
   "metadata": {
    "collapsed": false
   },
   "outputs": [],
   "source": []
  },
  {
   "cell_type": "code",
   "execution_count": null,
   "metadata": {
    "collapsed": true
   },
   "outputs": [],
   "source": []
  }
 ],
 "metadata": {
  "anaconda-cloud": {},
  "kernelspec": {
   "display_name": "Python 3",
   "language": "python",
   "name": "python3"
  },
  "language_info": {
   "codemirror_mode": {
    "name": "ipython",
    "version": 3
   },
   "file_extension": ".py",
   "mimetype": "text/x-python",
   "name": "python",
   "nbconvert_exporter": "python",
   "pygments_lexer": "ipython3",
   "version": "3.5.1"
  }
 },
 "nbformat": 4,
 "nbformat_minor": 0
}
