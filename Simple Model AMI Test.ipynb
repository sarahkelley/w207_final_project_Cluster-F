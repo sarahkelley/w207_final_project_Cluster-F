{
 "cells": [
  {
   "cell_type": "code",
   "execution_count": 1,
   "metadata": {
    "collapsed": true
   },
   "outputs": [],
   "source": [
    "%matplotlib inline\n",
    "\n",
    "import pandas as pd\n",
    "import scipy as sp\n",
    "import matplotlib.pyplot as plt\n",
    "\n",
    "from sklearn.decomposition import PCA\n",
    "from sklearn.decomposition import KernelPCA\n",
    "from sklearn.decomposition import SparsePCA\n",
    "\n",
    "from sklearn.cluster import AgglomerativeClustering \n",
    "from sklearn.cluster import KMeans "
   ]
  },
  {
   "cell_type": "code",
   "execution_count": 2,
   "metadata": {
    "collapsed": false
   },
   "outputs": [
    {
     "name": "stdout",
     "output_type": "stream",
     "text": [
      "overall average click-rate: 0.19364537296143453\n",
      "\n",
      "This is our prior expectation for the ad click likelihoods based on overall click-rates...\n",
      "          display_id   ad_id          count           sum  likelihood\n",
      "32225159    23120126  145293   25321.000000   4516.000000    0.178343\n",
      "32225160    23120126  201649   51067.000000   4074.000000    0.079776\n",
      "32225161    23120126  292363    7602.000000    589.000000    0.077469\n",
      "32225158    23120126   57097   34294.000000   1261.000000    0.036769\n",
      "32225155    23120125   89725   19390.000000   3991.000000    0.205817\n",
      "32225154    23120125   86281   11425.000000   1852.000000    0.162086\n",
      "32225157    23120125  254698     208.000000     21.000000    0.100478\n",
      "32225156    23120125  187797  108989.000000   9346.000000    0.085751\n",
      "32225150    23120124   83252   18266.000000   5760.000000    0.315323\n",
      "32225151    23120124  162994   11430.000000   2585.000000    0.226139\n",
      "32225153    23120124  489589     642.000000     99.000000    0.153966\n",
      "32225152    23120124  173403  128030.000000  16931.000000    0.132241\n",
      "32225147    23120123  208244   27184.000000   7630.000000    0.280669\n",
      "32225149    23120123  516264       0.193645      0.193645    0.193645\n",
      "32225148    23120123  471443    2585.000000    281.000000    0.108662\n",
      "32225146    23120123  174045    4707.000000    468.000000    0.099405\n",
      "32225141    23120122  148268    7826.000000   3437.000000    0.439121\n",
      "32225144    23120122  386922    5914.000000   1534.000000    0.259341\n",
      "32225138    23120122    5579       0.193645      0.193645    0.193645\n",
      "32225145    23120122  561507       0.193645      0.193645    0.193645\n"
     ]
    }
   ],
   "source": [
    "clicks_train = pd.read_csv(\"../input/clicks_train.csv\")\n",
    "test = pd.read_csv('../input/clicks_test.csv')\n",
    "\n",
    "# Group the ads and count up how many views and clicks\n",
    "ad_likelihood = clicks_train.groupby('ad_id')['clicked'].agg(['count','sum']).reset_index()\n",
    "\n",
    "# Calculate the overall average number of clicks\n",
    "mean_clicked = clicks_train.clicked.mean()\n",
    "print(\"overall average click-rate:\", mean_clicked)\n",
    "# del clicks_train\n",
    "\n",
    "# Calculate the likelihood of an ad click\n",
    "ad_likelihood['likelihood'] = (ad_likelihood['sum']) / (ad_likelihood['count'] + 1)\n",
    "\n",
    "# Left join the ad likelihoods into the training set by ad_id\n",
    "test = test.merge(ad_likelihood,how='left')\n",
    "\n",
    "# Fill in the blanks with the overall average likelihood\n",
    "test.fillna(mean_clicked,inplace=True)\n",
    "\n",
    "# Sort the rows by the likelihood of each ad_id within each display_id\n",
    "test.sort_values(['display_id','likelihood'],inplace=True,ascending=False)\n",
    "\n",
    "print(\"\\nThis is our prior expectation for the ad click likelihoods based on overall click-rates...\")\n",
    "print(test.head(20))\n",
    "\n",
    "# Format the data the way the submission requires\n",
    "output=test.groupby(['display_id'])['ad_id'].apply(lambda x:' '.join(map(str,x))).reset_index()\n",
    "\n",
    "# That's it for the simple solution (prior expectation)!\n",
    "output.to_csv('AMITest.csv',index=False)\n"
   ]
  }
 ],
 "metadata": {
  "kernelspec": {
   "display_name": "Python 3",
   "language": "python",
   "name": "python3"
  },
  "language_info": {
   "codemirror_mode": {
    "name": "ipython",
    "version": 3
   },
   "file_extension": ".py",
   "mimetype": "text/x-python",
   "name": "python",
   "nbconvert_exporter": "python",
   "pygments_lexer": "ipython3",
   "version": "3.5.1"
  }
 },
 "nbformat": 4,
 "nbformat_minor": 0
}
