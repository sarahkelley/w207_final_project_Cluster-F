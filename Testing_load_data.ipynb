{
 "cells": [
  {
   "cell_type": "code",
   "execution_count": null,
   "metadata": {
    "collapsed": true
   },
   "outputs": [],
   "source": [
    "import pandas as pd\n",
    "import numpy as np\n",
    "import copy\n",
    "from sklearn.linear_model import LinearRegression\n",
    "from sklearn.linear_model import LogisticRegression"
   ]
  },
  {
   "cell_type": "code",
   "execution_count": null,
   "metadata": {
    "collapsed": true
   },
   "outputs": [],
   "source": [
    "clicks_train_og = pd.read_csv(\"../input/clicks_train.csv\")\n",
    "promoted_content_og = pd.read_csv(\"../input/promoted_content.csv\")\n",
    "doc_cats_og = pd.read_csv(\"../input/documents_categories.csv\")\n",
    "doc_ents_og = pd.read_csv(\"../input/documents_entities.csv\")\n",
    "doc_meta_og = pd.read_csv(\"../input/documents_meta.csv\")\n",
    "doc_topics_og = pd.read_csv(\"../input/documents_topics.csv\")\n",
    "events_og = pd.read_csv(\"../input/events.csv\")\n",
    "page_views_og = pd.read_csv(\"../input/page_views_sample.csv\")"
   ]
  },
  {
   "cell_type": "code",
   "execution_count": null,
   "metadata": {
    "collapsed": true
   },
   "outputs": [],
   "source": [
    "# FOR TESTING WITH MINI DATASET\n",
    "\n",
    "doc_ids = set(page_views_og['document_id']) & set(promoted_content_og['document_id'])\n",
    "# pull in the content that is in both page_views and promoted_content\n",
    "\n",
    "promoted_content = promoted_content_og[promoted_content_og['document_id'].isin(doc_ids)]\n",
    "clicks_train = clicks_train_og[clicks_train_og['ad_id'].isin(promoted_content_og['ad_id'])]\n",
    "doc_cats = doc_cats_og[doc_cats_og['document_id'].isin(doc_ids)]\n",
    "doc_ents = doc_ents_og[doc_ents_og['document_id'].isin(doc_ids)]\n",
    "doc_meta = doc_meta_og[doc_meta_og['document_id'].isin(doc_ids)]\n",
    "doc_topics = doc_topics_og[doc_topics_og['document_id'].isin(doc_ids)]\n",
    "events = events_og[events_og['display_id'].isin(clicks_train_og['display_id'])]\n",
    "page_views = page_views_og[page_views_og['document_id'].isin(doc_ids)]"
   ]
  }
 ],
 "metadata": {
  "kernelspec": {
   "display_name": "Python 3",
   "language": "python",
   "name": "python3"
  },
  "language_info": {
   "codemirror_mode": {
    "name": "ipython",
    "version": 3
   },
   "file_extension": ".py",
   "mimetype": "text/x-python",
   "name": "python",
   "nbconvert_exporter": "python",
   "pygments_lexer": "ipython3",
   "version": "3.5.2"
  }
 },
 "nbformat": 4,
 "nbformat_minor": 2
}
