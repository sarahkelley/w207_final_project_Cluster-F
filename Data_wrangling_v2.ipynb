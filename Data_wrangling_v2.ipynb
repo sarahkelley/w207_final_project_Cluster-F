{
 "cells": [
  {
   "cell_type": "markdown",
   "metadata": {},
   "source": [
    "# Mini-Data Set Preparation"
   ]
  },
  {
   "cell_type": "markdown",
   "metadata": {},
   "source": [
    "After the Kaggle Script \"Making a mini-data set\" is run (FYI, it takes about 2 minutes to run) to reduce the size of the data to 40,000 instances, run this script to organize data into a single dataframe. \n",
    "\n",
    "Run this with the 8 csv files produced by the Kaggle Script in the same directory. "
   ]
  },
  {
   "cell_type": "markdown",
   "metadata": {},
   "source": [
    "Note: This is a Python3 script because that is what Kaggle uses. "
   ]
  },
  {
   "cell_type": "code",
   "execution_count": 1,
   "metadata": {
    "collapsed": true
   },
   "outputs": [],
   "source": [
    "import pandas as pd\n",
    "import numpy as np\n",
    "import copy\n",
    "from sklearn.linear_model import LinearRegression\n",
    "from sklearn.linear_model import LogisticRegression"
   ]
  },
  {
   "cell_type": "code",
   "execution_count": 13,
   "metadata": {
    "collapsed": false
   },
   "outputs": [
    {
     "name": "stdout",
     "output_type": "stream",
     "text": [
      "3595\n",
      "3239\n"
     ]
    },
    {
     "name": "stderr",
     "output_type": "stream",
     "text": [
      "/Users/Nicole/anaconda/lib/python3.5/site-packages/IPython/core/interactiveshell.py:2723: DtypeWarning: Columns (4) have mixed types. Specify dtype option on import or set low_memory=False.\n",
      "  interactivity=interactivity, compiler=compiler, result=result)\n"
     ]
    },
    {
     "name": "stdout",
     "output_type": "stream",
     "text": [
      "298197\n"
     ]
    }
   ],
   "source": [
    "page_views_sample = pd.read_csv(\"../input/page_views_sample.csv\")\n",
    "page_views_sample = page_views_sample.sample(500000, random_state = 0)\n",
    "# 1 million sample page views\n",
    "print(len(page_views_sample['document_id'].unique()))\n",
    "\n",
    "promoted = pd.read_csv(\"../input/promoted_content.csv\")\n",
    "promoted = promoted[promoted[\"document_id\"].isin(page_views_sample[\"document_id\"])]\n",
    "# find advertisements in the documents in the sample page views\n",
    "\n",
    "print(len(promoted['document_id'].unique()))\n",
    "print(len(promoted['ad_id'].unique()))\n",
    "# there's only 580 documents that are in the smaller sample of page views\n",
    "# theres 3,804 unique ads from promoted_content that are in the page views sample\n",
    "\n",
    "clicks_train = pd.read_csv(\"../input/clicks_train.csv\")\n",
    "clicks_train = clicks_train[clicks_train['ad_id'].isin(promoted['ad_id'])]\n",
    "print(len(clicks_train['ad_id'].unique()))\n",
    "# filter only the clicks associated with the ads/documents in our page_views_sample\n",
    "\n",
    "doc_cats = pd.read_csv(\"../input/documents_categories.csv\")\n",
    "doc_cats = doc_cats[doc_cats[\"document_id\"].isin(promoted[\"document_id\"])]\n",
    "print(len(doc_cats['document_id'].unique()))\n",
    "\n",
    "doc_ents = pd.read_csv(\"../input/documents_entities.csv\")\n",
    "doc_ents = doc_ents[doc_ents[\"document_id\"].isin(promoted[\"document_id\"])]\n",
    "print(len(doc_ents['document_id'].unique()))\n",
    "\n",
    "doc_meta = pd.read_csv(\"../input/documents_meta.csv\")\n",
    "doc_meta = doc_meta[doc_meta[\"document_id\"].isin(promoted[\"document_id\"])]\n",
    "print(len(doc_meta['document_id'].unique()))\n",
    "\n",
    "doc_topics = pd.read_csv(\"../input/documents_topics.csv\")\n",
    "doc_topics = doc_topics[doc_topics[\"document_id\"].isin(promoted[\"document_id\"])]\n",
    "print(len(doc_topics['document_id'].unique()))\n",
    "\n",
    "events = pd.read_csv(\"../input/events.csv\")\n",
    "events = events[events[\"display_id\"].isin(clicks_train[\"display_id\"])]\n",
    "print(len(events['display_id'].unique()))\n",
    "\n"
   ]
  },
  {
   "cell_type": "markdown",
   "metadata": {},
   "source": [
    "## Join clicks_train and events on display_id"
   ]
  },
  {
   "cell_type": "code",
   "execution_count": 40,
   "metadata": {
    "collapsed": false
   },
   "outputs": [
    {
     "name": "stdout",
     "output_type": "stream",
     "text": [
      "300788\n",
      "   display_id   ad_id  clicked            uuid  document_id  timestamp  \\\n",
      "0          16  273567        1  30c0ad12b36375      1727882       1033   \n",
      "1          44  269739        1  7804739ae4f351      1747897       3157   \n",
      "2         132  125384        0  69f8e7151d7204      1789548      10079   \n",
      "3         136  150813        0  2028b0a2ad323e       225790      10443   \n",
      "4         170  125375        0  b2778a037a571e      1773530      12840   \n",
      "\n",
      "  platform geo_location  \n",
      "0        1    US>FL>561  \n",
      "1        2    US>CA>825  \n",
      "2        2    US>FL>534  \n",
      "3        1    US>CO>751  \n",
      "4        1    US>TN>640  \n"
     ]
    }
   ],
   "source": [
    "data = clicks_train.merge(events, on='display_id')\n",
    "\n",
    "print(len(data))\n",
    "print(data.head())\n"
   ]
  },
  {
   "cell_type": "markdown",
   "metadata": {},
   "source": [
    "## Promoted"
   ]
  },
  {
   "cell_type": "code",
   "execution_count": 41,
   "metadata": {
    "collapsed": false
   },
   "outputs": [
    {
     "data": {
      "text/plain": [
       "3595"
      ]
     },
     "execution_count": 41,
     "metadata": {},
     "output_type": "execute_result"
    }
   ],
   "source": [
    "len(promoted)"
   ]
  },
  {
   "cell_type": "code",
   "execution_count": 42,
   "metadata": {
    "collapsed": false
   },
   "outputs": [
    {
     "name": "stdout",
     "output_type": "stream",
     "text": [
      "440\n",
      "69033\n"
     ]
    }
   ],
   "source": [
    "#there is not a one-to-one relationship between document_id in promoted and the master data\n",
    "#This is because the same ad is being shown in different documents I think\n",
    "print(len(promoted[\"document_id\"].unique()))\n",
    "print(len(data[\"document_id\"].unique()))"
   ]
  },
  {
   "cell_type": "code",
   "execution_count": 44,
   "metadata": {
    "collapsed": false
   },
   "outputs": [
    {
     "name": "stdout",
     "output_type": "stream",
     "text": [
      "3595\n",
      "3239\n",
      "      ad_id  document_id  campaign_id  advertiser_id\n",
      "554     556        89577           37             63\n",
      "560     562        90859           37             63\n",
      "618     621       129575           37             63\n",
      "935     938       154717           37             63\n",
      "2131   2149       269511           37             63\n"
     ]
    }
   ],
   "source": [
    "#there is a one-to-one relationship between ad_id in promoted and the master data\n",
    "print(len(promoted[\"ad_id\"].unique())) #each add can appear more than once\n",
    "print(len(data[\"ad_id\"].unique()))\n",
    "print(promoted.head())"
   ]
  },
  {
   "cell_type": "code",
   "execution_count": 45,
   "metadata": {
    "collapsed": false
   },
   "outputs": [
    {
     "data": {
      "text/html": [
       "<div>\n",
       "<table border=\"1\" class=\"dataframe\">\n",
       "  <thead>\n",
       "    <tr style=\"text-align: right;\">\n",
       "      <th></th>\n",
       "      <th>ad_id</th>\n",
       "      <th>campaign_id</th>\n",
       "      <th>advertiser_id</th>\n",
       "    </tr>\n",
       "  </thead>\n",
       "  <tbody>\n",
       "    <tr>\n",
       "      <th>554</th>\n",
       "      <td>556</td>\n",
       "      <td>37</td>\n",
       "      <td>63</td>\n",
       "    </tr>\n",
       "    <tr>\n",
       "      <th>560</th>\n",
       "      <td>562</td>\n",
       "      <td>37</td>\n",
       "      <td>63</td>\n",
       "    </tr>\n",
       "    <tr>\n",
       "      <th>618</th>\n",
       "      <td>621</td>\n",
       "      <td>37</td>\n",
       "      <td>63</td>\n",
       "    </tr>\n",
       "    <tr>\n",
       "      <th>935</th>\n",
       "      <td>938</td>\n",
       "      <td>37</td>\n",
       "      <td>63</td>\n",
       "    </tr>\n",
       "    <tr>\n",
       "      <th>2131</th>\n",
       "      <td>2149</td>\n",
       "      <td>37</td>\n",
       "      <td>63</td>\n",
       "    </tr>\n",
       "  </tbody>\n",
       "</table>\n",
       "</div>"
      ],
      "text/plain": [
       "      ad_id  campaign_id  advertiser_id\n",
       "554     556           37             63\n",
       "560     562           37             63\n",
       "618     621           37             63\n",
       "935     938           37             63\n",
       "2131   2149           37             63"
      ]
     },
     "execution_count": 45,
     "metadata": {},
     "output_type": "execute_result"
    }
   ],
   "source": [
    "promoted.head()\n",
    "del promoted['document_id'] #I think all we want from here is the link between ad_id and campaign id\n",
    "promoted.head()"
   ]
  },
  {
   "cell_type": "markdown",
   "metadata": {},
   "source": [
    "## Joining Info about each ad"
   ]
  },
  {
   "cell_type": "markdown",
   "metadata": {},
   "source": [
    "I make a dictionary of the advertiser and campaign id for each ad_id, map that dictionary to the ad id to make the advertizer and campain columns"
   ]
  },
  {
   "cell_type": "code",
   "execution_count": 46,
   "metadata": {
    "collapsed": false
   },
   "outputs": [
    {
     "data": {
      "text/html": [
       "<div>\n",
       "<table border=\"1\" class=\"dataframe\">\n",
       "  <thead>\n",
       "    <tr style=\"text-align: right;\">\n",
       "      <th></th>\n",
       "      <th>display_id</th>\n",
       "      <th>ad_id</th>\n",
       "      <th>clicked</th>\n",
       "      <th>uuid</th>\n",
       "      <th>document_id</th>\n",
       "      <th>timestamp</th>\n",
       "      <th>platform</th>\n",
       "      <th>geo_location</th>\n",
       "    </tr>\n",
       "  </thead>\n",
       "  <tbody>\n",
       "    <tr>\n",
       "      <th>0</th>\n",
       "      <td>16</td>\n",
       "      <td>273567</td>\n",
       "      <td>1</td>\n",
       "      <td>30c0ad12b36375</td>\n",
       "      <td>1727882</td>\n",
       "      <td>1033</td>\n",
       "      <td>1</td>\n",
       "      <td>US&gt;FL&gt;561</td>\n",
       "    </tr>\n",
       "    <tr>\n",
       "      <th>1</th>\n",
       "      <td>44</td>\n",
       "      <td>269739</td>\n",
       "      <td>1</td>\n",
       "      <td>7804739ae4f351</td>\n",
       "      <td>1747897</td>\n",
       "      <td>3157</td>\n",
       "      <td>2</td>\n",
       "      <td>US&gt;CA&gt;825</td>\n",
       "    </tr>\n",
       "    <tr>\n",
       "      <th>2</th>\n",
       "      <td>132</td>\n",
       "      <td>125384</td>\n",
       "      <td>0</td>\n",
       "      <td>69f8e7151d7204</td>\n",
       "      <td>1789548</td>\n",
       "      <td>10079</td>\n",
       "      <td>2</td>\n",
       "      <td>US&gt;FL&gt;534</td>\n",
       "    </tr>\n",
       "    <tr>\n",
       "      <th>3</th>\n",
       "      <td>136</td>\n",
       "      <td>150813</td>\n",
       "      <td>0</td>\n",
       "      <td>2028b0a2ad323e</td>\n",
       "      <td>225790</td>\n",
       "      <td>10443</td>\n",
       "      <td>1</td>\n",
       "      <td>US&gt;CO&gt;751</td>\n",
       "    </tr>\n",
       "    <tr>\n",
       "      <th>4</th>\n",
       "      <td>170</td>\n",
       "      <td>125375</td>\n",
       "      <td>0</td>\n",
       "      <td>b2778a037a571e</td>\n",
       "      <td>1773530</td>\n",
       "      <td>12840</td>\n",
       "      <td>1</td>\n",
       "      <td>US&gt;TN&gt;640</td>\n",
       "    </tr>\n",
       "  </tbody>\n",
       "</table>\n",
       "</div>"
      ],
      "text/plain": [
       "   display_id   ad_id  clicked            uuid  document_id  timestamp  \\\n",
       "0          16  273567        1  30c0ad12b36375      1727882       1033   \n",
       "1          44  269739        1  7804739ae4f351      1747897       3157   \n",
       "2         132  125384        0  69f8e7151d7204      1789548      10079   \n",
       "3         136  150813        0  2028b0a2ad323e       225790      10443   \n",
       "4         170  125375        0  b2778a037a571e      1773530      12840   \n",
       "\n",
       "  platform geo_location  \n",
       "0        1    US>FL>561  \n",
       "1        2    US>CA>825  \n",
       "2        2    US>FL>534  \n",
       "3        1    US>CO>751  \n",
       "4        1    US>TN>640  "
      ]
     },
     "execution_count": 46,
     "metadata": {},
     "output_type": "execute_result"
    }
   ],
   "source": [
    "data.head()"
   ]
  },
  {
   "cell_type": "code",
   "execution_count": 47,
   "metadata": {
    "collapsed": false
   },
   "outputs": [
    {
     "name": "stdout",
     "output_type": "stream",
     "text": [
      "300788\n",
      "3239\n"
     ]
    }
   ],
   "source": [
    "print(len(data))\n",
    "print(len(data[\"ad_id\"].unique())) #adds appear on average slightly more than twice in our minidata set"
   ]
  },
  {
   "cell_type": "code",
   "execution_count": 48,
   "metadata": {
    "collapsed": false
   },
   "outputs": [],
   "source": [
    "#make dictionaries to look up advertizer id and campaign id for each ad_id\n",
    "advertiser_dict = dict(zip(promoted.ad_id, promoted.advertiser_id))\n",
    "campaign_dict = dict(zip(promoted.ad_id, promoted.campaign_id))\n"
   ]
  },
  {
   "cell_type": "code",
   "execution_count": 53,
   "metadata": {
    "collapsed": false
   },
   "outputs": [
    {
     "data": {
      "text/html": [
       "<div>\n",
       "<table border=\"1\" class=\"dataframe\">\n",
       "  <thead>\n",
       "    <tr style=\"text-align: right;\">\n",
       "      <th></th>\n",
       "      <th>display_id</th>\n",
       "      <th>ad_id</th>\n",
       "      <th>clicked</th>\n",
       "      <th>uuid</th>\n",
       "      <th>document_id</th>\n",
       "      <th>timestamp</th>\n",
       "      <th>platform</th>\n",
       "      <th>geo_location</th>\n",
       "      <th>campaign_id</th>\n",
       "      <th>advertiser_id</th>\n",
       "    </tr>\n",
       "  </thead>\n",
       "  <tbody>\n",
       "    <tr>\n",
       "      <th>0</th>\n",
       "      <td>16</td>\n",
       "      <td>273567</td>\n",
       "      <td>1</td>\n",
       "      <td>30c0ad12b36375</td>\n",
       "      <td>1727882</td>\n",
       "      <td>1033</td>\n",
       "      <td>1</td>\n",
       "      <td>US&gt;FL&gt;561</td>\n",
       "      <td>25885</td>\n",
       "      <td>112</td>\n",
       "    </tr>\n",
       "    <tr>\n",
       "      <th>1</th>\n",
       "      <td>44</td>\n",
       "      <td>269739</td>\n",
       "      <td>1</td>\n",
       "      <td>7804739ae4f351</td>\n",
       "      <td>1747897</td>\n",
       "      <td>3157</td>\n",
       "      <td>2</td>\n",
       "      <td>US&gt;CA&gt;825</td>\n",
       "      <td>6395</td>\n",
       "      <td>177</td>\n",
       "    </tr>\n",
       "    <tr>\n",
       "      <th>2</th>\n",
       "      <td>132</td>\n",
       "      <td>125384</td>\n",
       "      <td>0</td>\n",
       "      <td>69f8e7151d7204</td>\n",
       "      <td>1789548</td>\n",
       "      <td>10079</td>\n",
       "      <td>2</td>\n",
       "      <td>US&gt;FL&gt;534</td>\n",
       "      <td>16062</td>\n",
       "      <td>3001</td>\n",
       "    </tr>\n",
       "    <tr>\n",
       "      <th>3</th>\n",
       "      <td>136</td>\n",
       "      <td>150813</td>\n",
       "      <td>0</td>\n",
       "      <td>2028b0a2ad323e</td>\n",
       "      <td>225790</td>\n",
       "      <td>10443</td>\n",
       "      <td>1</td>\n",
       "      <td>US&gt;CO&gt;751</td>\n",
       "      <td>19188</td>\n",
       "      <td>2407</td>\n",
       "    </tr>\n",
       "    <tr>\n",
       "      <th>4</th>\n",
       "      <td>170</td>\n",
       "      <td>125375</td>\n",
       "      <td>0</td>\n",
       "      <td>b2778a037a571e</td>\n",
       "      <td>1773530</td>\n",
       "      <td>12840</td>\n",
       "      <td>1</td>\n",
       "      <td>US&gt;TN&gt;640</td>\n",
       "      <td>16061</td>\n",
       "      <td>3001</td>\n",
       "    </tr>\n",
       "  </tbody>\n",
       "</table>\n",
       "</div>"
      ],
      "text/plain": [
       "   display_id   ad_id  clicked            uuid  document_id  timestamp  \\\n",
       "0          16  273567        1  30c0ad12b36375      1727882       1033   \n",
       "1          44  269739        1  7804739ae4f351      1747897       3157   \n",
       "2         132  125384        0  69f8e7151d7204      1789548      10079   \n",
       "3         136  150813        0  2028b0a2ad323e       225790      10443   \n",
       "4         170  125375        0  b2778a037a571e      1773530      12840   \n",
       "\n",
       "  platform geo_location  campaign_id  advertiser_id  \n",
       "0        1    US>FL>561        25885            112  \n",
       "1        2    US>CA>825         6395            177  \n",
       "2        2    US>FL>534        16062           3001  \n",
       "3        1    US>CO>751        19188           2407  \n",
       "4        1    US>TN>640        16061           3001  "
      ]
     },
     "execution_count": 53,
     "metadata": {},
     "output_type": "execute_result"
    }
   ],
   "source": [
    "data[\"campaign_id\"] = data[\"ad_id\"].map(campaign_dict)\n",
    "data[\"advertiser_id\"] = data[\"ad_id\"].map(advertiser_dict)\n",
    "data.head()"
   ]
  },
  {
   "cell_type": "code",
   "execution_count": 54,
   "metadata": {
    "collapsed": false
   },
   "outputs": [
    {
     "name": "stdout",
     "output_type": "stream",
     "text": [
      "300788\n",
      "3239\n"
     ]
    }
   ],
   "source": [
    "print(len(data))\n",
    "print(len(data[\"ad_id\"].unique())) #adds appear on average slightly more than twice in our minidata set"
   ]
  },
  {
   "cell_type": "markdown",
   "metadata": {
    "collapsed": true
   },
   "source": [
    "## Importing Document Information"
   ]
  },
  {
   "cell_type": "markdown",
   "metadata": {},
   "source": [
    "I'm super stuck on why all the document ids that appear in our data arent in the files with more information about each documents."
   ]
  },
  {
   "cell_type": "code",
   "execution_count": 55,
   "metadata": {
    "collapsed": false
   },
   "outputs": [
    {
     "name": "stdout",
     "output_type": "stream",
     "text": [
      "69033\n",
      "440\n",
      "360\n",
      "440\n",
      "440\n"
     ]
    }
   ],
   "source": [
    "#Why aren't there the same number of unique documents in each of these\n",
    "print(len(data[\"document_id\"].unique()))\n",
    "print(len(doc_cats[\"document_id\"].unique()))\n",
    "print(len(doc_ents[\"document_id\"].unique()))\n",
    "print(len(doc_meta[\"document_id\"].unique()))\n",
    "print(len(doc_topics[\"document_id\"].unique()))"
   ]
  },
  {
   "cell_type": "code",
   "execution_count": 56,
   "metadata": {
    "collapsed": false
   },
   "outputs": [
    {
     "data": {
      "text/html": [
       "<div>\n",
       "<table border=\"1\" class=\"dataframe\">\n",
       "  <thead>\n",
       "    <tr style=\"text-align: right;\">\n",
       "      <th></th>\n",
       "      <th>document_id</th>\n",
       "      <th>entity_id</th>\n",
       "      <th>confidence_level</th>\n",
       "    </tr>\n",
       "  </thead>\n",
       "  <tbody>\n",
       "    <tr>\n",
       "      <th>96193</th>\n",
       "      <td>1028468</td>\n",
       "      <td>31ac3cc32333d4e2d683582cc9a0f178</td>\n",
       "      <td>0.938636</td>\n",
       "    </tr>\n",
       "    <tr>\n",
       "      <th>96194</th>\n",
       "      <td>1028468</td>\n",
       "      <td>255e3f1965267728e2d1881dc48a492f</td>\n",
       "      <td>0.846911</td>\n",
       "    </tr>\n",
       "    <tr>\n",
       "      <th>96195</th>\n",
       "      <td>1028468</td>\n",
       "      <td>20eab4b758f91327bd00bcbe1a94399e</td>\n",
       "      <td>0.282334</td>\n",
       "    </tr>\n",
       "    <tr>\n",
       "      <th>96367</th>\n",
       "      <td>996578</td>\n",
       "      <td>a6c3be9e0b97cac5eaffee76b84c6904</td>\n",
       "      <td>0.807709</td>\n",
       "    </tr>\n",
       "    <tr>\n",
       "      <th>96368</th>\n",
       "      <td>996578</td>\n",
       "      <td>255e3f1965267728e2d1881dc48a492f</td>\n",
       "      <td>0.683944</td>\n",
       "    </tr>\n",
       "  </tbody>\n",
       "</table>\n",
       "</div>"
      ],
      "text/plain": [
       "       document_id                         entity_id  confidence_level\n",
       "96193      1028468  31ac3cc32333d4e2d683582cc9a0f178          0.938636\n",
       "96194      1028468  255e3f1965267728e2d1881dc48a492f          0.846911\n",
       "96195      1028468  20eab4b758f91327bd00bcbe1a94399e          0.282334\n",
       "96367       996578  a6c3be9e0b97cac5eaffee76b84c6904          0.807709\n",
       "96368       996578  255e3f1965267728e2d1881dc48a492f          0.683944"
      ]
     },
     "execution_count": 56,
     "metadata": {},
     "output_type": "execute_result"
    }
   ],
   "source": [
    "#each document has multiple possible entities, categories, topics with different confidence level. \n",
    "#maybe we should just for now keep the most likely entity, topic and category? \n",
    "doc_ents.head()"
   ]
  },
  {
   "cell_type": "code",
   "execution_count": 57,
   "metadata": {
    "collapsed": false
   },
   "outputs": [
    {
     "data": {
      "text/html": [
       "<div>\n",
       "<table border=\"1\" class=\"dataframe\">\n",
       "  <thead>\n",
       "    <tr style=\"text-align: right;\">\n",
       "      <th></th>\n",
       "      <th>document_id</th>\n",
       "      <th>category_id</th>\n",
       "      <th>confidence_level</th>\n",
       "    </tr>\n",
       "  </thead>\n",
       "  <tbody>\n",
       "    <tr>\n",
       "      <th>69729</th>\n",
       "      <td>1028468</td>\n",
       "      <td>2004</td>\n",
       "      <td>0.92</td>\n",
       "    </tr>\n",
       "    <tr>\n",
       "      <th>69730</th>\n",
       "      <td>1028468</td>\n",
       "      <td>1904</td>\n",
       "      <td>0.07</td>\n",
       "    </tr>\n",
       "    <tr>\n",
       "      <th>69815</th>\n",
       "      <td>996578</td>\n",
       "      <td>2004</td>\n",
       "      <td>0.92</td>\n",
       "    </tr>\n",
       "    <tr>\n",
       "      <th>69816</th>\n",
       "      <td>996578</td>\n",
       "      <td>1703</td>\n",
       "      <td>0.07</td>\n",
       "    </tr>\n",
       "    <tr>\n",
       "      <th>71593</th>\n",
       "      <td>23920</td>\n",
       "      <td>2004</td>\n",
       "      <td>0.92</td>\n",
       "    </tr>\n",
       "  </tbody>\n",
       "</table>\n",
       "</div>"
      ],
      "text/plain": [
       "       document_id  category_id  confidence_level\n",
       "69729      1028468         2004              0.92\n",
       "69730      1028468         1904              0.07\n",
       "69815       996578         2004              0.92\n",
       "69816       996578         1703              0.07\n",
       "71593        23920         2004              0.92"
      ]
     },
     "execution_count": 57,
     "metadata": {},
     "output_type": "execute_result"
    }
   ],
   "source": [
    "doc_cats.head()"
   ]
  },
  {
   "cell_type": "code",
   "execution_count": 58,
   "metadata": {
    "collapsed": false
   },
   "outputs": [
    {
     "data": {
      "text/html": [
       "<div>\n",
       "<table border=\"1\" class=\"dataframe\">\n",
       "  <thead>\n",
       "    <tr style=\"text-align: right;\">\n",
       "      <th></th>\n",
       "      <th>display_id</th>\n",
       "      <th>ad_id</th>\n",
       "      <th>clicked</th>\n",
       "      <th>uuid</th>\n",
       "      <th>document_id</th>\n",
       "      <th>timestamp</th>\n",
       "      <th>platform</th>\n",
       "      <th>geo_location</th>\n",
       "      <th>campaign_id</th>\n",
       "      <th>advertiser_id</th>\n",
       "    </tr>\n",
       "  </thead>\n",
       "  <tbody>\n",
       "    <tr>\n",
       "      <th>0</th>\n",
       "      <td>16</td>\n",
       "      <td>273567</td>\n",
       "      <td>1</td>\n",
       "      <td>30c0ad12b36375</td>\n",
       "      <td>1727882</td>\n",
       "      <td>1033</td>\n",
       "      <td>1</td>\n",
       "      <td>US&gt;FL&gt;561</td>\n",
       "      <td>25885</td>\n",
       "      <td>112</td>\n",
       "    </tr>\n",
       "    <tr>\n",
       "      <th>1</th>\n",
       "      <td>44</td>\n",
       "      <td>269739</td>\n",
       "      <td>1</td>\n",
       "      <td>7804739ae4f351</td>\n",
       "      <td>1747897</td>\n",
       "      <td>3157</td>\n",
       "      <td>2</td>\n",
       "      <td>US&gt;CA&gt;825</td>\n",
       "      <td>6395</td>\n",
       "      <td>177</td>\n",
       "    </tr>\n",
       "    <tr>\n",
       "      <th>2</th>\n",
       "      <td>132</td>\n",
       "      <td>125384</td>\n",
       "      <td>0</td>\n",
       "      <td>69f8e7151d7204</td>\n",
       "      <td>1789548</td>\n",
       "      <td>10079</td>\n",
       "      <td>2</td>\n",
       "      <td>US&gt;FL&gt;534</td>\n",
       "      <td>16062</td>\n",
       "      <td>3001</td>\n",
       "    </tr>\n",
       "    <tr>\n",
       "      <th>3</th>\n",
       "      <td>136</td>\n",
       "      <td>150813</td>\n",
       "      <td>0</td>\n",
       "      <td>2028b0a2ad323e</td>\n",
       "      <td>225790</td>\n",
       "      <td>10443</td>\n",
       "      <td>1</td>\n",
       "      <td>US&gt;CO&gt;751</td>\n",
       "      <td>19188</td>\n",
       "      <td>2407</td>\n",
       "    </tr>\n",
       "    <tr>\n",
       "      <th>4</th>\n",
       "      <td>170</td>\n",
       "      <td>125375</td>\n",
       "      <td>0</td>\n",
       "      <td>b2778a037a571e</td>\n",
       "      <td>1773530</td>\n",
       "      <td>12840</td>\n",
       "      <td>1</td>\n",
       "      <td>US&gt;TN&gt;640</td>\n",
       "      <td>16061</td>\n",
       "      <td>3001</td>\n",
       "    </tr>\n",
       "  </tbody>\n",
       "</table>\n",
       "</div>"
      ],
      "text/plain": [
       "   display_id   ad_id  clicked            uuid  document_id  timestamp  \\\n",
       "0          16  273567        1  30c0ad12b36375      1727882       1033   \n",
       "1          44  269739        1  7804739ae4f351      1747897       3157   \n",
       "2         132  125384        0  69f8e7151d7204      1789548      10079   \n",
       "3         136  150813        0  2028b0a2ad323e       225790      10443   \n",
       "4         170  125375        0  b2778a037a571e      1773530      12840   \n",
       "\n",
       "  platform geo_location  campaign_id  advertiser_id  \n",
       "0        1    US>FL>561        25885            112  \n",
       "1        2    US>CA>825         6395            177  \n",
       "2        2    US>FL>534        16062           3001  \n",
       "3        1    US>CO>751        19188           2407  \n",
       "4        1    US>TN>640        16061           3001  "
      ]
     },
     "execution_count": 58,
     "metadata": {},
     "output_type": "execute_result"
    }
   ],
   "source": [
    "data.head()"
   ]
  },
  {
   "cell_type": "code",
   "execution_count": 59,
   "metadata": {
    "collapsed": false
   },
   "outputs": [],
   "source": [
    "data[\"geo_location\"] = data[\"geo_location\"].apply(str)"
   ]
  },
  {
   "cell_type": "code",
   "execution_count": 66,
   "metadata": {
    "collapsed": false
   },
   "outputs": [
    {
     "name": "stdout",
     "output_type": "stream",
     "text": [
      "   display_id   ad_id  clicked            uuid  document_id  timestamp  \\\n",
      "0          16  273567        1  30c0ad12b36375      1727882       1033   \n",
      "1          44  269739        1  7804739ae4f351      1747897       3157   \n",
      "2         132  125384        0  69f8e7151d7204      1789548      10079   \n",
      "3         136  150813        0  2028b0a2ad323e       225790      10443   \n",
      "4         170  125375        0  b2778a037a571e      1773530      12840   \n",
      "\n",
      "  platform geo_location  campaign_id  advertiser_id    ...    state_Y9  \\\n",
      "0        1    US>FL>561        25885            112    ...         0.0   \n",
      "1        2    US>CA>825         6395            177    ...         0.0   \n",
      "2        2    US>FL>534        16062           3001    ...         0.0   \n",
      "3        1    US>CO>751        19188           2407    ...         0.0   \n",
      "4        1    US>TN>640        16061           3001    ...         0.0   \n",
      "\n",
      "  state_YT state_Z1  state_Z2  state_Z3  state_Z4  state_Z5  state_Z6  \\\n",
      "0      0.0      0.0       0.0       0.0       0.0       0.0       0.0   \n",
      "1      0.0      0.0       0.0       0.0       0.0       0.0       0.0   \n",
      "2      0.0      0.0       0.0       0.0       0.0       0.0       0.0   \n",
      "3      0.0      0.0       0.0       0.0       0.0       0.0       0.0   \n",
      "4      0.0      0.0       0.0       0.0       0.0       0.0       0.0   \n",
      "\n",
      "   state_Z7  state_Z8  \n",
      "0       0.0       0.0  \n",
      "1       0.0       0.0  \n",
      "2       0.0       0.0  \n",
      "3       0.0       0.0  \n",
      "4       0.0       0.0  \n",
      "\n",
      "[5 rows x 789 columns]\n"
     ]
    }
   ],
   "source": [
    "print(data.head())\n"
   ]
  },
  {
   "cell_type": "code",
   "execution_count": 61,
   "metadata": {
    "collapsed": false,
    "scrolled": true
   },
   "outputs": [
    {
     "name": "stdout",
     "output_type": "stream",
     "text": [
      "   display_id   ad_id  clicked            uuid  document_id  timestamp  \\\n",
      "0          16  273567        1  30c0ad12b36375      1727882       1033   \n",
      "1          44  269739        1  7804739ae4f351      1747897       3157   \n",
      "2         132  125384        0  69f8e7151d7204      1789548      10079   \n",
      "3         136  150813        0  2028b0a2ad323e       225790      10443   \n",
      "4         170  125375        0  b2778a037a571e      1773530      12840   \n",
      "\n",
      "  platform geo_location  campaign_id  advertiser_id country state loc_num  \n",
      "0        1    US>FL>561        25885            112      US    FL     561  \n",
      "1        2    US>CA>825         6395            177      US    CA     825  \n",
      "2        2    US>FL>534        16062           3001      US    FL     534  \n",
      "3        1    US>CO>751        19188           2407      US    CO     751  \n",
      "4        1    US>TN>640        16061           3001      US    TN     640  \n"
     ]
    }
   ],
   "source": [
    "data[\"country\"] = [x[:2] for x in data[\"geo_location\"]]\n",
    "data[\"state\"] = [x[3:5] for x in data[\"geo_location\"]]\n",
    "data[\"loc_num\"]= [x[6:] for x in data[\"geo_location\"]]\n",
    "data[\"loc_num\"] = data[\"loc_num\"].map(str)\n",
    "print(data.head())"
   ]
  },
  {
   "cell_type": "code",
   "execution_count": 64,
   "metadata": {
    "collapsed": false
   },
   "outputs": [
    {
     "data": {
      "text/plain": [
       "(300788, 789)"
      ]
     },
     "execution_count": 64,
     "metadata": {},
     "output_type": "execute_result"
    }
   ],
   "source": [
    "list_to_binarize = [\"advertiser_id\", \"campaign_id\", \"platform\", \"country\",\"state\"]\n",
    "\n",
    "for i in list_to_binarize:\n",
    "    temp = pd.get_dummies(data[i], prefix = i)\n",
    "    data = data.join(temp)\n",
    "data.head()\n",
    "\n",
    "data.shape"
   ]
  },
  {
   "cell_type": "code",
   "execution_count": 67,
   "metadata": {
    "collapsed": false
   },
   "outputs": [
    {
     "data": {
      "text/html": [
       "<div>\n",
       "<table border=\"1\" class=\"dataframe\">\n",
       "  <thead>\n",
       "    <tr style=\"text-align: right;\">\n",
       "      <th></th>\n",
       "      <th>display_id</th>\n",
       "      <th>ad_id</th>\n",
       "      <th>clicked</th>\n",
       "      <th>uuid</th>\n",
       "      <th>document_id</th>\n",
       "      <th>timestamp</th>\n",
       "      <th>platform</th>\n",
       "      <th>geo_location</th>\n",
       "      <th>campaign_id</th>\n",
       "      <th>advertiser_id</th>\n",
       "      <th>...</th>\n",
       "      <th>state_Y9</th>\n",
       "      <th>state_YT</th>\n",
       "      <th>state_Z1</th>\n",
       "      <th>state_Z2</th>\n",
       "      <th>state_Z3</th>\n",
       "      <th>state_Z4</th>\n",
       "      <th>state_Z5</th>\n",
       "      <th>state_Z6</th>\n",
       "      <th>state_Z7</th>\n",
       "      <th>state_Z8</th>\n",
       "    </tr>\n",
       "  </thead>\n",
       "  <tbody>\n",
       "    <tr>\n",
       "      <th>0</th>\n",
       "      <td>16</td>\n",
       "      <td>273567</td>\n",
       "      <td>1</td>\n",
       "      <td>30c0ad12b36375</td>\n",
       "      <td>1727882</td>\n",
       "      <td>1033</td>\n",
       "      <td>1</td>\n",
       "      <td>US&gt;FL&gt;561</td>\n",
       "      <td>25885</td>\n",
       "      <td>112</td>\n",
       "      <td>...</td>\n",
       "      <td>0.0</td>\n",
       "      <td>0.0</td>\n",
       "      <td>0.0</td>\n",
       "      <td>0.0</td>\n",
       "      <td>0.0</td>\n",
       "      <td>0.0</td>\n",
       "      <td>0.0</td>\n",
       "      <td>0.0</td>\n",
       "      <td>0.0</td>\n",
       "      <td>0.0</td>\n",
       "    </tr>\n",
       "    <tr>\n",
       "      <th>1</th>\n",
       "      <td>44</td>\n",
       "      <td>269739</td>\n",
       "      <td>1</td>\n",
       "      <td>7804739ae4f351</td>\n",
       "      <td>1747897</td>\n",
       "      <td>3157</td>\n",
       "      <td>2</td>\n",
       "      <td>US&gt;CA&gt;825</td>\n",
       "      <td>6395</td>\n",
       "      <td>177</td>\n",
       "      <td>...</td>\n",
       "      <td>0.0</td>\n",
       "      <td>0.0</td>\n",
       "      <td>0.0</td>\n",
       "      <td>0.0</td>\n",
       "      <td>0.0</td>\n",
       "      <td>0.0</td>\n",
       "      <td>0.0</td>\n",
       "      <td>0.0</td>\n",
       "      <td>0.0</td>\n",
       "      <td>0.0</td>\n",
       "    </tr>\n",
       "    <tr>\n",
       "      <th>2</th>\n",
       "      <td>132</td>\n",
       "      <td>125384</td>\n",
       "      <td>0</td>\n",
       "      <td>69f8e7151d7204</td>\n",
       "      <td>1789548</td>\n",
       "      <td>10079</td>\n",
       "      <td>2</td>\n",
       "      <td>US&gt;FL&gt;534</td>\n",
       "      <td>16062</td>\n",
       "      <td>3001</td>\n",
       "      <td>...</td>\n",
       "      <td>0.0</td>\n",
       "      <td>0.0</td>\n",
       "      <td>0.0</td>\n",
       "      <td>0.0</td>\n",
       "      <td>0.0</td>\n",
       "      <td>0.0</td>\n",
       "      <td>0.0</td>\n",
       "      <td>0.0</td>\n",
       "      <td>0.0</td>\n",
       "      <td>0.0</td>\n",
       "    </tr>\n",
       "    <tr>\n",
       "      <th>3</th>\n",
       "      <td>136</td>\n",
       "      <td>150813</td>\n",
       "      <td>0</td>\n",
       "      <td>2028b0a2ad323e</td>\n",
       "      <td>225790</td>\n",
       "      <td>10443</td>\n",
       "      <td>1</td>\n",
       "      <td>US&gt;CO&gt;751</td>\n",
       "      <td>19188</td>\n",
       "      <td>2407</td>\n",
       "      <td>...</td>\n",
       "      <td>0.0</td>\n",
       "      <td>0.0</td>\n",
       "      <td>0.0</td>\n",
       "      <td>0.0</td>\n",
       "      <td>0.0</td>\n",
       "      <td>0.0</td>\n",
       "      <td>0.0</td>\n",
       "      <td>0.0</td>\n",
       "      <td>0.0</td>\n",
       "      <td>0.0</td>\n",
       "    </tr>\n",
       "    <tr>\n",
       "      <th>4</th>\n",
       "      <td>170</td>\n",
       "      <td>125375</td>\n",
       "      <td>0</td>\n",
       "      <td>b2778a037a571e</td>\n",
       "      <td>1773530</td>\n",
       "      <td>12840</td>\n",
       "      <td>1</td>\n",
       "      <td>US&gt;TN&gt;640</td>\n",
       "      <td>16061</td>\n",
       "      <td>3001</td>\n",
       "      <td>...</td>\n",
       "      <td>0.0</td>\n",
       "      <td>0.0</td>\n",
       "      <td>0.0</td>\n",
       "      <td>0.0</td>\n",
       "      <td>0.0</td>\n",
       "      <td>0.0</td>\n",
       "      <td>0.0</td>\n",
       "      <td>0.0</td>\n",
       "      <td>0.0</td>\n",
       "      <td>0.0</td>\n",
       "    </tr>\n",
       "  </tbody>\n",
       "</table>\n",
       "<p>5 rows × 789 columns</p>\n",
       "</div>"
      ],
      "text/plain": [
       "   display_id   ad_id  clicked            uuid  document_id  timestamp  \\\n",
       "0          16  273567        1  30c0ad12b36375      1727882       1033   \n",
       "1          44  269739        1  7804739ae4f351      1747897       3157   \n",
       "2         132  125384        0  69f8e7151d7204      1789548      10079   \n",
       "3         136  150813        0  2028b0a2ad323e       225790      10443   \n",
       "4         170  125375        0  b2778a037a571e      1773530      12840   \n",
       "\n",
       "  platform geo_location  campaign_id  advertiser_id    ...    state_Y9  \\\n",
       "0        1    US>FL>561        25885            112    ...         0.0   \n",
       "1        2    US>CA>825         6395            177    ...         0.0   \n",
       "2        2    US>FL>534        16062           3001    ...         0.0   \n",
       "3        1    US>CO>751        19188           2407    ...         0.0   \n",
       "4        1    US>TN>640        16061           3001    ...         0.0   \n",
       "\n",
       "  state_YT state_Z1  state_Z2  state_Z3  state_Z4  state_Z5  state_Z6  \\\n",
       "0      0.0      0.0       0.0       0.0       0.0       0.0       0.0   \n",
       "1      0.0      0.0       0.0       0.0       0.0       0.0       0.0   \n",
       "2      0.0      0.0       0.0       0.0       0.0       0.0       0.0   \n",
       "3      0.0      0.0       0.0       0.0       0.0       0.0       0.0   \n",
       "4      0.0      0.0       0.0       0.0       0.0       0.0       0.0   \n",
       "\n",
       "   state_Z7  state_Z8  \n",
       "0       0.0       0.0  \n",
       "1       0.0       0.0  \n",
       "2       0.0       0.0  \n",
       "3       0.0       0.0  \n",
       "4       0.0       0.0  \n",
       "\n",
       "[5 rows x 789 columns]"
      ]
     },
     "execution_count": 67,
     "metadata": {},
     "output_type": "execute_result"
    }
   ],
   "source": [
    "clean = copy.deepcopy(data)\n",
    "clean.head()"
   ]
  },
  {
   "cell_type": "code",
   "execution_count": 81,
   "metadata": {
    "collapsed": false
   },
   "outputs": [
    {
     "data": {
      "text/plain": [
       "3239"
      ]
     },
     "execution_count": 81,
     "metadata": {},
     "output_type": "execute_result"
    }
   ],
   "source": [
    "len(data[\"ad_id\"].unique())"
   ]
  },
  {
   "cell_type": "code",
   "execution_count": 82,
   "metadata": {
    "collapsed": false
   },
   "outputs": [
    {
     "data": {
      "text/plain": [
       "69033"
      ]
     },
     "execution_count": 82,
     "metadata": {},
     "output_type": "execute_result"
    }
   ],
   "source": [
    "len(clean['document_id'].unique())"
   ]
  },
  {
   "cell_type": "code",
   "execution_count": 83,
   "metadata": {
    "collapsed": false
   },
   "outputs": [],
   "source": [
    "#drop the non-cleaned up data for now\n",
    "del clean['country'], clean['state'], clean[\"ad_id\"], clean[\"uuid\"], clean[\"document_id\"],clean[\"timestamp\"], clean[\"platform\"], clean[\"geo_location\"], clean['campaign_id'], clean[\"advertiser_id\"]"
   ]
  },
  {
   "cell_type": "code",
   "execution_count": 84,
   "metadata": {
    "collapsed": false
   },
   "outputs": [
    {
     "data": {
      "text/plain": [
       "779"
      ]
     },
     "execution_count": 84,
     "metadata": {},
     "output_type": "execute_result"
    }
   ],
   "source": [
    "len(clean.columns)"
   ]
  },
  {
   "cell_type": "markdown",
   "metadata": {},
   "source": [
    "## Make training and test sets"
   ]
  },
  {
   "cell_type": "code",
   "execution_count": 87,
   "metadata": {
    "collapsed": false
   },
   "outputs": [
    {
     "data": {
      "text/plain": [
       "210551.59999999998"
      ]
     },
     "execution_count": 87,
     "metadata": {},
     "output_type": "execute_result"
    }
   ],
   "source": [
    "labels = clean['clicked']\n",
    "labels = labels.reshape(-1,1)\n",
    "del clean['clicked']\n"
   ]
  },
  {
   "cell_type": "code",
   "execution_count": 88,
   "metadata": {
    "collapsed": false
   },
   "outputs": [],
   "source": [
    "train_data = clean[:21000]\n",
    "train_labels = labels[:21000]\n",
    "test_data = clean[21000:]\n",
    "test_labels = labels[21000:]"
   ]
  },
  {
   "cell_type": "code",
   "execution_count": 89,
   "metadata": {
    "collapsed": false
   },
   "outputs": [
    {
     "ename": "ValueError",
     "evalue": "could not convert string to float: ",
     "output_type": "error",
     "traceback": [
      "\u001b[0;31m---------------------------------------------------------------------------\u001b[0m",
      "\u001b[0;31mValueError\u001b[0m                                Traceback (most recent call last)",
      "\u001b[0;32m<ipython-input-89-402f2cce38e2>\u001b[0m in \u001b[0;36m<module>\u001b[0;34m()\u001b[0m\n\u001b[1;32m      1\u001b[0m \u001b[0mlr\u001b[0m \u001b[0;34m=\u001b[0m \u001b[0mLogisticRegression\u001b[0m\u001b[0;34m(\u001b[0m\u001b[0;34m)\u001b[0m\u001b[0;34m\u001b[0m\u001b[0m\n\u001b[0;32m----> 2\u001b[0;31m \u001b[0mlr\u001b[0m\u001b[0;34m.\u001b[0m\u001b[0mfit\u001b[0m\u001b[0;34m(\u001b[0m\u001b[0mtrain_data\u001b[0m\u001b[0;34m,\u001b[0m \u001b[0mtrain_labels\u001b[0m\u001b[0;34m)\u001b[0m\u001b[0;34m\u001b[0m\u001b[0m\n\u001b[0m\u001b[1;32m      3\u001b[0m \u001b[0mlr\u001b[0m\u001b[0;34m.\u001b[0m\u001b[0mpredict\u001b[0m\u001b[0;34m(\u001b[0m\u001b[0mtest_data\u001b[0m\u001b[0;34m,\u001b[0m \u001b[0mtest_labels\u001b[0m\u001b[0;34m)\u001b[0m\u001b[0;34m\u001b[0m\u001b[0m\n",
      "\u001b[0;32m/Users/Nicole/anaconda/lib/python3.5/site-packages/sklearn/linear_model/logistic.py\u001b[0m in \u001b[0;36mfit\u001b[0;34m(self, X, y, sample_weight)\u001b[0m\n\u001b[1;32m   1140\u001b[0m \u001b[0;34m\u001b[0m\u001b[0m\n\u001b[1;32m   1141\u001b[0m         X, y = check_X_y(X, y, accept_sparse='csr', dtype=np.float64, \n\u001b[0;32m-> 1142\u001b[0;31m                          order=\"C\")\n\u001b[0m\u001b[1;32m   1143\u001b[0m         \u001b[0mcheck_classification_targets\u001b[0m\u001b[0;34m(\u001b[0m\u001b[0my\u001b[0m\u001b[0;34m)\u001b[0m\u001b[0;34m\u001b[0m\u001b[0m\n\u001b[1;32m   1144\u001b[0m         \u001b[0mself\u001b[0m\u001b[0;34m.\u001b[0m\u001b[0mclasses_\u001b[0m \u001b[0;34m=\u001b[0m \u001b[0mnp\u001b[0m\u001b[0;34m.\u001b[0m\u001b[0munique\u001b[0m\u001b[0;34m(\u001b[0m\u001b[0my\u001b[0m\u001b[0;34m)\u001b[0m\u001b[0;34m\u001b[0m\u001b[0m\n",
      "\u001b[0;32m/Users/Nicole/anaconda/lib/python3.5/site-packages/sklearn/utils/validation.py\u001b[0m in \u001b[0;36mcheck_X_y\u001b[0;34m(X, y, accept_sparse, dtype, order, copy, force_all_finite, ensure_2d, allow_nd, multi_output, ensure_min_samples, ensure_min_features, y_numeric, warn_on_dtype, estimator)\u001b[0m\n\u001b[1;32m    508\u001b[0m     X = check_array(X, accept_sparse, dtype, order, copy, force_all_finite,\n\u001b[1;32m    509\u001b[0m                     \u001b[0mensure_2d\u001b[0m\u001b[0;34m,\u001b[0m \u001b[0mallow_nd\u001b[0m\u001b[0;34m,\u001b[0m \u001b[0mensure_min_samples\u001b[0m\u001b[0;34m,\u001b[0m\u001b[0;34m\u001b[0m\u001b[0m\n\u001b[0;32m--> 510\u001b[0;31m                     ensure_min_features, warn_on_dtype, estimator)\n\u001b[0m\u001b[1;32m    511\u001b[0m     \u001b[0;32mif\u001b[0m \u001b[0mmulti_output\u001b[0m\u001b[0;34m:\u001b[0m\u001b[0;34m\u001b[0m\u001b[0m\n\u001b[1;32m    512\u001b[0m         y = check_array(y, 'csr', force_all_finite=True, ensure_2d=False,\n",
      "\u001b[0;32m/Users/Nicole/anaconda/lib/python3.5/site-packages/sklearn/utils/validation.py\u001b[0m in \u001b[0;36mcheck_array\u001b[0;34m(array, accept_sparse, dtype, order, copy, force_all_finite, ensure_2d, allow_nd, ensure_min_samples, ensure_min_features, warn_on_dtype, estimator)\u001b[0m\n\u001b[1;32m    371\u001b[0m                                       force_all_finite)\n\u001b[1;32m    372\u001b[0m     \u001b[0;32melse\u001b[0m\u001b[0;34m:\u001b[0m\u001b[0;34m\u001b[0m\u001b[0m\n\u001b[0;32m--> 373\u001b[0;31m         \u001b[0marray\u001b[0m \u001b[0;34m=\u001b[0m \u001b[0mnp\u001b[0m\u001b[0;34m.\u001b[0m\u001b[0marray\u001b[0m\u001b[0;34m(\u001b[0m\u001b[0marray\u001b[0m\u001b[0;34m,\u001b[0m \u001b[0mdtype\u001b[0m\u001b[0;34m=\u001b[0m\u001b[0mdtype\u001b[0m\u001b[0;34m,\u001b[0m \u001b[0morder\u001b[0m\u001b[0;34m=\u001b[0m\u001b[0morder\u001b[0m\u001b[0;34m,\u001b[0m \u001b[0mcopy\u001b[0m\u001b[0;34m=\u001b[0m\u001b[0mcopy\u001b[0m\u001b[0;34m)\u001b[0m\u001b[0;34m\u001b[0m\u001b[0m\n\u001b[0m\u001b[1;32m    374\u001b[0m \u001b[0;34m\u001b[0m\u001b[0m\n\u001b[1;32m    375\u001b[0m         \u001b[0;32mif\u001b[0m \u001b[0mensure_2d\u001b[0m\u001b[0;34m:\u001b[0m\u001b[0;34m\u001b[0m\u001b[0m\n",
      "\u001b[0;31mValueError\u001b[0m: could not convert string to float: "
     ]
    }
   ],
   "source": [
    "lr = LogisticRegression()\n",
    "lr.fit(train_data, train_labels)\n",
    "lr.predict(test_data, test_labels)"
   ]
  },
  {
   "cell_type": "code",
   "execution_count": null,
   "metadata": {
    "collapsed": true
   },
   "outputs": [],
   "source": []
  }
 ],
 "metadata": {
  "kernelspec": {
   "display_name": "Python 3",
   "language": "python",
   "name": "python3"
  },
  "language_info": {
   "codemirror_mode": {
    "name": "ipython",
    "version": 3
   },
   "file_extension": ".py",
   "mimetype": "text/x-python",
   "name": "python",
   "nbconvert_exporter": "python",
   "pygments_lexer": "ipython3",
   "version": "3.5.2"
  }
 },
 "nbformat": 4,
 "nbformat_minor": 0
}
