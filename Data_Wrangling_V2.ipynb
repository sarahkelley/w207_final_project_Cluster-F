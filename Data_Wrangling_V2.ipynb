{
 "cells": [
  {
   "cell_type": "markdown",
   "metadata": {},
   "source": [
    "# Mini-Data Set Preparation"
   ]
  },
  {
   "cell_type": "markdown",
   "metadata": {},
   "source": [
    "After the Kaggle Script \"Making a mini-data set\" is run (FYI, it takes about 2 minutes to run) to reduce the size of the data to 40,000 instances, run this script to organize data into a single dataframe. \n",
    "\n",
    "Run this with the 8 csv files produced by the Kaggle Script in the same directory. "
   ]
  },
  {
   "cell_type": "markdown",
   "metadata": {},
   "source": [
    "Note: This is a Python3 script because that is what Kaggle uses. "
   ]
  },
  {
   "cell_type": "code",
   "execution_count": 3,
   "metadata": {
    "collapsed": true
   },
   "outputs": [],
   "source": [
    "import pandas as pd\n",
    "import numpy as np\n",
    "import copy\n",
    "from sklearn.linear_model import LinearRegression\n",
    "from sklearn.linear_model import LogisticRegression"
   ]
  },
  {
   "cell_type": "code",
   "execution_count": 33,
   "metadata": {
    "collapsed": false
   },
   "outputs": [
    {
     "name": "stderr",
     "output_type": "stream",
     "text": [
      "/Users/nicolelee/miniconda3/lib/python3.5/site-packages/IPython/core/interactiveshell.py:2717: DtypeWarning: Columns (4) have mixed types. Specify dtype option on import or set low_memory=False.\n",
      "  interactivity=interactivity, compiler=compiler, result=result)\n"
     ]
    }
   ],
   "source": [
    "clicks_train_og = pd.read_csv(\"../input/clicks_train.csv\")\n",
    "promoted_content_og = pd.read_csv(\"../input/promoted_content.csv\")\n",
    "doc_cats_og = pd.read_csv(\"../input/documents_categories.csv\")\n",
    "doc_ents_og = pd.read_csv(\"../input/documents_entities.csv\")\n",
    "doc_meta_og = pd.read_csv(\"../input/documents_meta.csv\")\n",
    "doc_topics_og = pd.read_csv(\"../input/documents_topics.csv\")\n",
    "events_og = pd.read_csv(\"../input/events.csv\")\n",
    "page_views_og = pd.read_csv(\"../input/page_views_sample.csv\")"
   ]
  },
  {
   "cell_type": "code",
   "execution_count": null,
   "metadata": {
    "collapsed": false
   },
   "outputs": [],
   "source": [
    "# FOR TESTING WITH MINI DATASET\n",
    "\n",
    "doc_ids = set(page_views_og['document_id']) & set(promoted_content_og['document_id'])\n",
    "# pull in the content that is in both page_views and promoted_content\n",
    "\n",
    "promoted_content = promoted_content_og[promoted_content_og['document_id'].isin(doc_ids)]\n",
    "clicks_train = clicks_train_og[clicks_train_og['ad_id'].isin(promoted_content_og['ad_id'])]\n",
    "doc_cats = doc_cats_og[doc_cats_og['document_id'].isin(doc_ids)]\n",
    "doc_ents = doc_ents_og[doc_ents_og['document_id'].isin(doc_ids)]\n",
    "doc_meta = doc_meta_og[doc_meta_og['document_id'].isin(doc_ids)]\n",
    "doc_topics = doc_topics_og[doc_topics_og['document_id'].isin(doc_ids)]\n",
    "events = events_og[events_og['display_id'].isin(clicks_train_og['display_id'])]\n",
    "page_views = page_views_og[page_views_og['document_id'].isin(doc_ids)]"
   ]
  },
  {
   "cell_type": "code",
   "execution_count": 96,
   "metadata": {
    "collapsed": false
   },
   "outputs": [
    {
     "name": "stderr",
     "output_type": "stream",
     "text": [
      "/Users/nicolelee/miniconda3/lib/python3.5/site-packages/IPython/core/interactiveshell.py:2717: DtypeWarning: Columns (4) have mixed types. Specify dtype option on import or set low_memory=False.\n",
      "  interactivity=interactivity, compiler=compiler, result=result)\n"
     ]
    }
   ],
   "source": [
    "# # FOR FULL DATASET ON AWS\n",
    "\n",
    "# display_sample = np.random.choice(clicks_train[\"display_id\"].unique(), 4000) # change this if too many rows\n",
    "# clicks_train = clicks_train[clicks_train[\"display_id\"].isin(display_sample)]\n",
    "# # select 4000 random display id's and grab all rows in click_train with that display\n",
    "# # every display has multiple ads and only 1 ad in every display is clicked\n",
    "# promoted = promoted_content[promoted_content[\"ad_id\"].isin(clicks_train[\"ad_id\"])]\n",
    "# # same ad can show up in multiple displays, so length of unique ads < length of unique displays\n",
    "# doc_cats = doc_cats[doc_cats[\"document_id\"].isin(promoted[\"document_id\"])]\n",
    "# doc_ents = doc_ents[doc_ents[\"document_id\"].isin(promoted[\"document_id\"])]\n",
    "# doc_meta = doc_meta[doc_meta[\"document_id\"].isin(promoted[\"document_id\"])]\n",
    "# doc_topics = doc_topics[doc_topics[\"document_id\"].isin(promoted[\"document_id\"])]\n",
    "# events = events[events[\"display_id\"].isin(clicks_train[\"display_id\"])]\n",
    "# page_views = page_views[page_views[\"document_id\"].isin(promoted[\"document_id\"])]\n",
    "# # platform & traffic source need to be either all integers or all strings (right now its mixed)\n"
   ]
  },
  {
   "cell_type": "markdown",
   "metadata": {},
   "source": [
    "## Join clicks_train and events on display_id"
   ]
  },
  {
   "cell_type": "code",
   "execution_count": 7,
   "metadata": {
    "collapsed": false
   },
   "outputs": [],
   "source": [
    "events['platform'] = events['platform'].astype(object)\n",
    "page_views['platform'] = page_views['platform'].astype(object)\n",
    "page_views['traffic_source'] = page_views['traffic_source'].astype(object)"
   ]
  },
  {
   "cell_type": "code",
   "execution_count": 32,
   "metadata": {
    "collapsed": false
   },
   "outputs": [
    {
     "data": {
      "text/plain": [
       "70457"
      ]
     },
     "execution_count": 32,
     "metadata": {},
     "output_type": "execute_result"
    }
   ],
   "source": [
    "print(events.head())\n",
    "print(page_views.head())"
   ]
  },
  {
   "cell_type": "code",
   "execution_count": 18,
   "metadata": {
    "collapsed": false
   },
   "outputs": [
    {
     "data": {
      "text/html": [
       "<div>\n",
       "<table border=\"1\" class=\"dataframe\">\n",
       "  <thead>\n",
       "    <tr style=\"text-align: right;\">\n",
       "      <th></th>\n",
       "      <th>ad_id</th>\n",
       "      <th>clicked</th>\n",
       "      <th>uuid</th>\n",
       "      <th>document_id</th>\n",
       "      <th>timestamp</th>\n",
       "      <th>platform</th>\n",
       "      <th>geo_location</th>\n",
       "    </tr>\n",
       "    <tr>\n",
       "      <th>display_id</th>\n",
       "      <th></th>\n",
       "      <th></th>\n",
       "      <th></th>\n",
       "      <th></th>\n",
       "      <th></th>\n",
       "      <th></th>\n",
       "      <th></th>\n",
       "    </tr>\n",
       "  </thead>\n",
       "  <tbody>\n",
       "    <tr>\n",
       "      <th>8112</th>\n",
       "      <td>151682</td>\n",
       "      <td>1</td>\n",
       "      <td>715ddc85c78e39</td>\n",
       "      <td>1792396</td>\n",
       "      <td>559250</td>\n",
       "      <td>2</td>\n",
       "      <td>US&gt;MI&gt;563</td>\n",
       "    </tr>\n",
       "    <tr>\n",
       "      <th>10333</th>\n",
       "      <td>157598</td>\n",
       "      <td>0</td>\n",
       "      <td>ec3841c3250fb6</td>\n",
       "      <td>1405372</td>\n",
       "      <td>716674</td>\n",
       "      <td>2</td>\n",
       "      <td>US&gt;MO&gt;616</td>\n",
       "    </tr>\n",
       "    <tr>\n",
       "      <th>11278</th>\n",
       "      <td>103712</td>\n",
       "      <td>1</td>\n",
       "      <td>324475e5f191c8</td>\n",
       "      <td>1179111</td>\n",
       "      <td>784022</td>\n",
       "      <td>2</td>\n",
       "      <td>US&gt;GA&gt;524</td>\n",
       "    </tr>\n",
       "    <tr>\n",
       "      <th>13320</th>\n",
       "      <td>139944</td>\n",
       "      <td>1</td>\n",
       "      <td>27221a85141108</td>\n",
       "      <td>735143</td>\n",
       "      <td>926961</td>\n",
       "      <td>2</td>\n",
       "      <td>US&gt;CA&gt;807</td>\n",
       "    </tr>\n",
       "    <tr>\n",
       "      <th>13905</th>\n",
       "      <td>173393</td>\n",
       "      <td>0</td>\n",
       "      <td>9ea0907cee579e</td>\n",
       "      <td>1794259</td>\n",
       "      <td>971672</td>\n",
       "      <td>2</td>\n",
       "      <td>US&gt;IL&gt;602</td>\n",
       "    </tr>\n",
       "  </tbody>\n",
       "</table>\n",
       "</div>"
      ],
      "text/plain": [
       "             ad_id  clicked            uuid  document_id  timestamp platform  \\\n",
       "display_id                                                                     \n",
       "8112        151682        1  715ddc85c78e39      1792396     559250        2   \n",
       "10333       157598        0  ec3841c3250fb6      1405372     716674        2   \n",
       "11278       103712        1  324475e5f191c8      1179111     784022        2   \n",
       "13320       139944        1  27221a85141108       735143     926961        2   \n",
       "13905       173393        0  9ea0907cee579e      1794259     971672        2   \n",
       "\n",
       "           geo_location  \n",
       "display_id               \n",
       "8112          US>MI>563  \n",
       "10333         US>MO>616  \n",
       "11278         US>GA>524  \n",
       "13320         US>CA>807  \n",
       "13905         US>IL>602  "
      ]
     },
     "execution_count": 18,
     "metadata": {},
     "output_type": "execute_result"
    }
   ],
   "source": [
    "data = clicks_train.join(events)\n",
    "data.head()"
   ]
  },
  {
   "cell_type": "markdown",
   "metadata": {},
   "source": [
    "## Promoted"
   ]
  },
  {
   "cell_type": "code",
   "execution_count": 7,
   "metadata": {
    "collapsed": false
   },
   "outputs": [
    {
     "data": {
      "text/plain": [
       "6042"
      ]
     },
     "execution_count": 7,
     "metadata": {},
     "output_type": "execute_result"
    }
   ],
   "source": [
    "len(promoted)"
   ]
  },
  {
   "cell_type": "code",
   "execution_count": 8,
   "metadata": {
    "collapsed": false
   },
   "outputs": [
    {
     "name": "stdout",
     "output_type": "stream",
     "text": [
      "4230\n",
      "7240\n"
     ]
    }
   ],
   "source": [
    "#there is not a one-to-one relationship between document_id in promoted and the master data\n",
    "#This is because the same ad is being shown in different documents I think\n",
    "print(len(promoted[\"document_id\"].unique()))\n",
    "print(len(data[\"document_id\"].unique()))"
   ]
  },
  {
   "cell_type": "code",
   "execution_count": 9,
   "metadata": {
    "collapsed": false
   },
   "outputs": [
    {
     "name": "stdout",
     "output_type": "stream",
     "text": [
      "6042\n",
      "6042\n"
     ]
    }
   ],
   "source": [
    "#there is a one-to-one relationship between ad_id in promoted and the master data\n",
    "print(len(promoted[\"ad_id\"].unique())) #each add can appear more than once\n",
    "print(len(data[\"ad_id\"].unique()))"
   ]
  },
  {
   "cell_type": "code",
   "execution_count": 10,
   "metadata": {
    "collapsed": false
   },
   "outputs": [
    {
     "data": {
      "text/html": [
       "<div>\n",
       "<table border=\"1\" class=\"dataframe\">\n",
       "  <thead>\n",
       "    <tr style=\"text-align: right;\">\n",
       "      <th></th>\n",
       "      <th>ad_id</th>\n",
       "      <th>campaign_id</th>\n",
       "      <th>advertiser_id</th>\n",
       "    </tr>\n",
       "  </thead>\n",
       "  <tbody>\n",
       "    <tr>\n",
       "      <th>0</th>\n",
       "      <td>489</td>\n",
       "      <td>81</td>\n",
       "      <td>116</td>\n",
       "    </tr>\n",
       "    <tr>\n",
       "      <th>1</th>\n",
       "      <td>844</td>\n",
       "      <td>37</td>\n",
       "      <td>63</td>\n",
       "    </tr>\n",
       "    <tr>\n",
       "      <th>2</th>\n",
       "      <td>971</td>\n",
       "      <td>28</td>\n",
       "      <td>45</td>\n",
       "    </tr>\n",
       "    <tr>\n",
       "      <th>3</th>\n",
       "      <td>1117</td>\n",
       "      <td>205</td>\n",
       "      <td>134</td>\n",
       "    </tr>\n",
       "    <tr>\n",
       "      <th>4</th>\n",
       "      <td>1126</td>\n",
       "      <td>209</td>\n",
       "      <td>295</td>\n",
       "    </tr>\n",
       "  </tbody>\n",
       "</table>\n",
       "</div>"
      ],
      "text/plain": [
       "   ad_id  campaign_id  advertiser_id\n",
       "0    489           81            116\n",
       "1    844           37             63\n",
       "2    971           28             45\n",
       "3   1117          205            134\n",
       "4   1126          209            295"
      ]
     },
     "execution_count": 10,
     "metadata": {},
     "output_type": "execute_result"
    }
   ],
   "source": [
    "promoted.head()\n",
    "del promoted[\"Unnamed: 0\"]\n",
    "del promoted['document_id'] #I think all we want from here is the link between ad_id and campaign id\n",
    "promoted.head()"
   ]
  },
  {
   "cell_type": "markdown",
   "metadata": {},
   "source": [
    "## Joining Info about each ad"
   ]
  },
  {
   "cell_type": "markdown",
   "metadata": {},
   "source": [
    "I make a dictionary of the advertiser and campaign id for each ad_id, map that dictionary to the ad id to make the advertizer and campain columns"
   ]
  },
  {
   "cell_type": "code",
   "execution_count": 19,
   "metadata": {
    "collapsed": false
   },
   "outputs": [
    {
     "data": {
      "text/html": [
       "<div>\n",
       "<table border=\"1\" class=\"dataframe\">\n",
       "  <thead>\n",
       "    <tr style=\"text-align: right;\">\n",
       "      <th></th>\n",
       "      <th>ad_id</th>\n",
       "      <th>clicked</th>\n",
       "      <th>uuid</th>\n",
       "      <th>document_id</th>\n",
       "      <th>timestamp</th>\n",
       "      <th>platform</th>\n",
       "      <th>geo_location</th>\n",
       "    </tr>\n",
       "    <tr>\n",
       "      <th>display_id</th>\n",
       "      <th></th>\n",
       "      <th></th>\n",
       "      <th></th>\n",
       "      <th></th>\n",
       "      <th></th>\n",
       "      <th></th>\n",
       "      <th></th>\n",
       "    </tr>\n",
       "  </thead>\n",
       "  <tbody>\n",
       "    <tr>\n",
       "      <th>8112</th>\n",
       "      <td>151682</td>\n",
       "      <td>1</td>\n",
       "      <td>715ddc85c78e39</td>\n",
       "      <td>1792396</td>\n",
       "      <td>559250</td>\n",
       "      <td>2</td>\n",
       "      <td>US&gt;MI&gt;563</td>\n",
       "    </tr>\n",
       "    <tr>\n",
       "      <th>10333</th>\n",
       "      <td>157598</td>\n",
       "      <td>0</td>\n",
       "      <td>ec3841c3250fb6</td>\n",
       "      <td>1405372</td>\n",
       "      <td>716674</td>\n",
       "      <td>2</td>\n",
       "      <td>US&gt;MO&gt;616</td>\n",
       "    </tr>\n",
       "    <tr>\n",
       "      <th>11278</th>\n",
       "      <td>103712</td>\n",
       "      <td>1</td>\n",
       "      <td>324475e5f191c8</td>\n",
       "      <td>1179111</td>\n",
       "      <td>784022</td>\n",
       "      <td>2</td>\n",
       "      <td>US&gt;GA&gt;524</td>\n",
       "    </tr>\n",
       "    <tr>\n",
       "      <th>13320</th>\n",
       "      <td>139944</td>\n",
       "      <td>1</td>\n",
       "      <td>27221a85141108</td>\n",
       "      <td>735143</td>\n",
       "      <td>926961</td>\n",
       "      <td>2</td>\n",
       "      <td>US&gt;CA&gt;807</td>\n",
       "    </tr>\n",
       "    <tr>\n",
       "      <th>13905</th>\n",
       "      <td>173393</td>\n",
       "      <td>0</td>\n",
       "      <td>9ea0907cee579e</td>\n",
       "      <td>1794259</td>\n",
       "      <td>971672</td>\n",
       "      <td>2</td>\n",
       "      <td>US&gt;IL&gt;602</td>\n",
       "    </tr>\n",
       "  </tbody>\n",
       "</table>\n",
       "</div>"
      ],
      "text/plain": [
       "             ad_id  clicked            uuid  document_id  timestamp platform  \\\n",
       "display_id                                                                     \n",
       "8112        151682        1  715ddc85c78e39      1792396     559250        2   \n",
       "10333       157598        0  ec3841c3250fb6      1405372     716674        2   \n",
       "11278       103712        1  324475e5f191c8      1179111     784022        2   \n",
       "13320       139944        1  27221a85141108       735143     926961        2   \n",
       "13905       173393        0  9ea0907cee579e      1794259     971672        2   \n",
       "\n",
       "           geo_location  \n",
       "display_id               \n",
       "8112          US>MI>563  \n",
       "10333         US>MO>616  \n",
       "11278         US>GA>524  \n",
       "13320         US>CA>807  \n",
       "13905         US>IL>602  "
      ]
     },
     "execution_count": 19,
     "metadata": {},
     "output_type": "execute_result"
    }
   ],
   "source": [
    "data.head()"
   ]
  },
  {
   "cell_type": "code",
   "execution_count": 12,
   "metadata": {
    "collapsed": false
   },
   "outputs": [
    {
     "name": "stdout",
     "output_type": "stream",
     "text": [
      "10000\n",
      "6042\n"
     ]
    }
   ],
   "source": [
    "print(len(data))\n",
    "print(len(data[\"ad_id\"].unique())) #adds appear on average slightly more than twice in our minidata set"
   ]
  },
  {
   "cell_type": "code",
   "execution_count": 13,
   "metadata": {
    "collapsed": false
   },
   "outputs": [],
   "source": [
    "#make dictionaries to look up advertizer id and campaign id for each ad_id\n",
    "advertiser_dict = dict(zip(promoted.ad_id, promoted.advertiser_id))\n",
    "campaign_dict = dict(zip(promoted.ad_id, promoted.campaign_id))\n"
   ]
  },
  {
   "cell_type": "code",
   "execution_count": 14,
   "metadata": {
    "collapsed": false
   },
   "outputs": [
    {
     "data": {
      "text/html": [
       "<div>\n",
       "<table border=\"1\" class=\"dataframe\">\n",
       "  <thead>\n",
       "    <tr style=\"text-align: right;\">\n",
       "      <th></th>\n",
       "      <th>ad_id</th>\n",
       "      <th>clicked</th>\n",
       "      <th>uuid</th>\n",
       "      <th>document_id</th>\n",
       "      <th>timestamp</th>\n",
       "      <th>platform</th>\n",
       "      <th>geo_location</th>\n",
       "      <th>campaign_id</th>\n",
       "      <th>advertiser_id</th>\n",
       "    </tr>\n",
       "    <tr>\n",
       "      <th>display_id</th>\n",
       "      <th></th>\n",
       "      <th></th>\n",
       "      <th></th>\n",
       "      <th></th>\n",
       "      <th></th>\n",
       "      <th></th>\n",
       "      <th></th>\n",
       "      <th></th>\n",
       "      <th></th>\n",
       "    </tr>\n",
       "  </thead>\n",
       "  <tbody>\n",
       "    <tr>\n",
       "      <th>8112</th>\n",
       "      <td>151682</td>\n",
       "      <td>1</td>\n",
       "      <td>715ddc85c78e39</td>\n",
       "      <td>1792396</td>\n",
       "      <td>559250</td>\n",
       "      <td>2</td>\n",
       "      <td>US&gt;MI&gt;563</td>\n",
       "      <td>19284</td>\n",
       "      <td>3283</td>\n",
       "    </tr>\n",
       "    <tr>\n",
       "      <th>10333</th>\n",
       "      <td>157598</td>\n",
       "      <td>0</td>\n",
       "      <td>ec3841c3250fb6</td>\n",
       "      <td>1405372</td>\n",
       "      <td>716674</td>\n",
       "      <td>2</td>\n",
       "      <td>US&gt;MO&gt;616</td>\n",
       "      <td>18022</td>\n",
       "      <td>2312</td>\n",
       "    </tr>\n",
       "    <tr>\n",
       "      <th>11278</th>\n",
       "      <td>103712</td>\n",
       "      <td>1</td>\n",
       "      <td>324475e5f191c8</td>\n",
       "      <td>1179111</td>\n",
       "      <td>784022</td>\n",
       "      <td>2</td>\n",
       "      <td>US&gt;GA&gt;524</td>\n",
       "      <td>5081</td>\n",
       "      <td>1759</td>\n",
       "    </tr>\n",
       "    <tr>\n",
       "      <th>13320</th>\n",
       "      <td>139944</td>\n",
       "      <td>1</td>\n",
       "      <td>27221a85141108</td>\n",
       "      <td>735143</td>\n",
       "      <td>926961</td>\n",
       "      <td>2</td>\n",
       "      <td>US&gt;CA&gt;807</td>\n",
       "      <td>17929</td>\n",
       "      <td>1782</td>\n",
       "    </tr>\n",
       "    <tr>\n",
       "      <th>13905</th>\n",
       "      <td>173393</td>\n",
       "      <td>0</td>\n",
       "      <td>9ea0907cee579e</td>\n",
       "      <td>1794259</td>\n",
       "      <td>971672</td>\n",
       "      <td>2</td>\n",
       "      <td>US&gt;IL&gt;602</td>\n",
       "      <td>21143</td>\n",
       "      <td>2876</td>\n",
       "    </tr>\n",
       "  </tbody>\n",
       "</table>\n",
       "</div>"
      ],
      "text/plain": [
       "             ad_id  clicked            uuid  document_id  timestamp  platform  \\\n",
       "display_id                                                                      \n",
       "8112        151682        1  715ddc85c78e39      1792396     559250         2   \n",
       "10333       157598        0  ec3841c3250fb6      1405372     716674         2   \n",
       "11278       103712        1  324475e5f191c8      1179111     784022         2   \n",
       "13320       139944        1  27221a85141108       735143     926961         2   \n",
       "13905       173393        0  9ea0907cee579e      1794259     971672         2   \n",
       "\n",
       "           geo_location  campaign_id  advertiser_id  \n",
       "display_id                                           \n",
       "8112          US>MI>563        19284           3283  \n",
       "10333         US>MO>616        18022           2312  \n",
       "11278         US>GA>524         5081           1759  \n",
       "13320         US>CA>807        17929           1782  \n",
       "13905         US>IL>602        21143           2876  "
      ]
     },
     "execution_count": 14,
     "metadata": {},
     "output_type": "execute_result"
    }
   ],
   "source": [
    "data[\"campaign_id\"] = data[\"ad_id\"].map(campaign_dict)\n",
    "data[\"advertiser_id\"] = data[\"ad_id\"].map(advertiser_dict)\n",
    "data.head()"
   ]
  },
  {
   "cell_type": "code",
   "execution_count": 15,
   "metadata": {
    "collapsed": false
   },
   "outputs": [
    {
     "name": "stdout",
     "output_type": "stream",
     "text": [
      "10000\n",
      "6042\n"
     ]
    }
   ],
   "source": [
    "print(len(data))\n",
    "print(len(data[\"ad_id\"].unique())) #adds appear on average slightly more than twice in our minidata set"
   ]
  },
  {
   "cell_type": "markdown",
   "metadata": {
    "collapsed": false
   },
   "source": [
    "## Working with Page Views"
   ]
  },
  {
   "cell_type": "markdown",
   "metadata": {},
   "source": [
    "Add count of page views to every document in data as a feature, could tell us something about likelihood of ads being clicked"
   ]
  },
  {
   "cell_type": "code",
   "execution_count": 61,
   "metadata": {
    "collapsed": false
   },
   "outputs": [
    {
     "name": "stdout",
     "output_type": "stream",
     "text": [
      "36071\n",
      "23\n"
     ]
    }
   ],
   "source": [
    "print(len(page_views))\n",
    "print(len(page_views['document_id'].unique()))\n",
    "# when we filter our data like this, we only get 23 documents from page_views_sample.. we need the full dataset\n"
   ]
  },
  {
   "cell_type": "markdown",
   "metadata": {
    "collapsed": true
   },
   "source": [
    "## Importing Document Information"
   ]
  },
  {
   "cell_type": "markdown",
   "metadata": {},
   "source": [
    "I'm super stuck on why all the document ids that appear in our data arent in the files with more information about each documents."
   ]
  },
  {
   "cell_type": "code",
   "execution_count": 16,
   "metadata": {
    "collapsed": false
   },
   "outputs": [
    {
     "name": "stdout",
     "output_type": "stream",
     "text": [
      "7240\n",
      "4223\n",
      "3540\n",
      "4230\n",
      "4154\n"
     ]
    }
   ],
   "source": [
    "#Why aren't there the same number of unique documents in each of these\n",
    "print(len(data[\"document_id\"].unique()))\n",
    "print(len(doc_cats[\"document_id\"].unique()))\n",
    "print(len(doc_ents[\"document_id\"].unique()))\n",
    "print(len(doc_meta[\"document_id\"].unique()))\n",
    "print(len(doc_topics[\"document_id\"].unique()))"
   ]
  },
  {
   "cell_type": "code",
   "execution_count": 7,
   "metadata": {
    "collapsed": false
   },
   "outputs": [
    {
     "data": {
      "text/html": [
       "<div>\n",
       "<table border=\"1\" class=\"dataframe\">\n",
       "  <thead>\n",
       "    <tr style=\"text-align: right;\">\n",
       "      <th></th>\n",
       "      <th>document_id</th>\n",
       "      <th>entity_id</th>\n",
       "      <th>confidence_level</th>\n",
       "    </tr>\n",
       "  </thead>\n",
       "  <tbody>\n",
       "    <tr>\n",
       "      <th>72655</th>\n",
       "      <td>1807706</td>\n",
       "      <td>11d5279de0b36011773ee50f75f9b43c</td>\n",
       "      <td>0.495961</td>\n",
       "    </tr>\n",
       "    <tr>\n",
       "      <th>72656</th>\n",
       "      <td>1807706</td>\n",
       "      <td>358c9e8a2ff80f858f6deb063e0bcf8f</td>\n",
       "      <td>0.337521</td>\n",
       "    </tr>\n",
       "    <tr>\n",
       "      <th>72657</th>\n",
       "      <td>1807706</td>\n",
       "      <td>b2a032747f34ec8488b2be2ebe180d9e</td>\n",
       "      <td>0.281354</td>\n",
       "    </tr>\n",
       "    <tr>\n",
       "      <th>72673</th>\n",
       "      <td>1316839</td>\n",
       "      <td>e8493cde7d253c7def5b030a2c94357d</td>\n",
       "      <td>0.977918</td>\n",
       "    </tr>\n",
       "    <tr>\n",
       "      <th>72674</th>\n",
       "      <td>1316839</td>\n",
       "      <td>c5039d9dda9bccb8ed150d8affedd306</td>\n",
       "      <td>0.375150</td>\n",
       "    </tr>\n",
       "  </tbody>\n",
       "</table>\n",
       "</div>"
      ],
      "text/plain": [
       "       document_id                         entity_id  confidence_level\n",
       "72655      1807706  11d5279de0b36011773ee50f75f9b43c          0.495961\n",
       "72656      1807706  358c9e8a2ff80f858f6deb063e0bcf8f          0.337521\n",
       "72657      1807706  b2a032747f34ec8488b2be2ebe180d9e          0.281354\n",
       "72673      1316839  e8493cde7d253c7def5b030a2c94357d          0.977918\n",
       "72674      1316839  c5039d9dda9bccb8ed150d8affedd306          0.375150"
      ]
     },
     "execution_count": 7,
     "metadata": {},
     "output_type": "execute_result"
    }
   ],
   "source": [
    "#each document has multiple possible entities, categories, topics with different confidence level. \n",
    "#maybe we should just for now keep the most likely entity, topic and category? \n",
    "doc_ents.head()"
   ]
  },
  {
   "cell_type": "code",
   "execution_count": 18,
   "metadata": {
    "collapsed": false
   },
   "outputs": [
    {
     "data": {
      "text/html": [
       "<div>\n",
       "<table border=\"1\" class=\"dataframe\">\n",
       "  <thead>\n",
       "    <tr style=\"text-align: right;\">\n",
       "      <th></th>\n",
       "      <th>Unnamed: 0</th>\n",
       "      <th>document_id</th>\n",
       "      <th>category_id</th>\n",
       "      <th>confidence_level</th>\n",
       "    </tr>\n",
       "  </thead>\n",
       "  <tbody>\n",
       "    <tr>\n",
       "      <th>0</th>\n",
       "      <td>51976</td>\n",
       "      <td>1807706</td>\n",
       "      <td>1209</td>\n",
       "      <td>0.92</td>\n",
       "    </tr>\n",
       "    <tr>\n",
       "      <th>1</th>\n",
       "      <td>51977</td>\n",
       "      <td>1807706</td>\n",
       "      <td>1205</td>\n",
       "      <td>0.07</td>\n",
       "    </tr>\n",
       "    <tr>\n",
       "      <th>2</th>\n",
       "      <td>51990</td>\n",
       "      <td>1316839</td>\n",
       "      <td>2003</td>\n",
       "      <td>0.92</td>\n",
       "    </tr>\n",
       "    <tr>\n",
       "      <th>3</th>\n",
       "      <td>51991</td>\n",
       "      <td>1316839</td>\n",
       "      <td>1211</td>\n",
       "      <td>0.07</td>\n",
       "    </tr>\n",
       "    <tr>\n",
       "      <th>4</th>\n",
       "      <td>51994</td>\n",
       "      <td>479029</td>\n",
       "      <td>1205</td>\n",
       "      <td>0.92</td>\n",
       "    </tr>\n",
       "  </tbody>\n",
       "</table>\n",
       "</div>"
      ],
      "text/plain": [
       "   Unnamed: 0  document_id  category_id  confidence_level\n",
       "0       51976      1807706         1209              0.92\n",
       "1       51977      1807706         1205              0.07\n",
       "2       51990      1316839         2003              0.92\n",
       "3       51991      1316839         1211              0.07\n",
       "4       51994       479029         1205              0.92"
      ]
     },
     "execution_count": 18,
     "metadata": {},
     "output_type": "execute_result"
    }
   ],
   "source": [
    "doc_cats.head()"
   ]
  },
  {
   "cell_type": "code",
   "execution_count": 55,
   "metadata": {
    "collapsed": false
   },
   "outputs": [
    {
     "data": {
      "text/html": [
       "<div>\n",
       "<table border=\"1\" class=\"dataframe\">\n",
       "  <thead>\n",
       "    <tr style=\"text-align: right;\">\n",
       "      <th></th>\n",
       "      <th>ad_id</th>\n",
       "      <th>clicked</th>\n",
       "      <th>uuid</th>\n",
       "      <th>document_id</th>\n",
       "      <th>timestamp</th>\n",
       "      <th>platform</th>\n",
       "      <th>geo_location</th>\n",
       "    </tr>\n",
       "    <tr>\n",
       "      <th>display_id</th>\n",
       "      <th></th>\n",
       "      <th></th>\n",
       "      <th></th>\n",
       "      <th></th>\n",
       "      <th></th>\n",
       "      <th></th>\n",
       "      <th></th>\n",
       "    </tr>\n",
       "  </thead>\n",
       "  <tbody>\n",
       "    <tr>\n",
       "      <th>10333</th>\n",
       "      <td>157598</td>\n",
       "      <td>0</td>\n",
       "      <td>ec3841c3250fb6</td>\n",
       "      <td>1405372</td>\n",
       "      <td>716674</td>\n",
       "      <td>2</td>\n",
       "      <td>US&gt;MO&gt;616</td>\n",
       "    </tr>\n",
       "  </tbody>\n",
       "</table>\n",
       "</div>"
      ],
      "text/plain": [
       "             ad_id  clicked            uuid  document_id  timestamp platform  \\\n",
       "display_id                                                                     \n",
       "10333       157598        0  ec3841c3250fb6      1405372     716674        2   \n",
       "\n",
       "           geo_location  \n",
       "display_id               \n",
       "10333         US>MO>616  "
      ]
     },
     "execution_count": 55,
     "metadata": {},
     "output_type": "execute_result"
    }
   ],
   "source": [
    "data[data['document_id']==1405372]"
   ]
  },
  {
   "cell_type": "code",
   "execution_count": 20,
   "metadata": {
    "collapsed": false
   },
   "outputs": [],
   "source": [
    "data[\"geo_location\"] = data[\"geo_location\"].apply(str)"
   ]
  },
  {
   "cell_type": "code",
   "execution_count": 21,
   "metadata": {
    "collapsed": false,
    "scrolled": true
   },
   "outputs": [
    {
     "data": {
      "text/html": [
       "<div>\n",
       "<table border=\"1\" class=\"dataframe\">\n",
       "  <thead>\n",
       "    <tr style=\"text-align: right;\">\n",
       "      <th></th>\n",
       "      <th>ad_id</th>\n",
       "      <th>clicked</th>\n",
       "      <th>uuid</th>\n",
       "      <th>document_id</th>\n",
       "      <th>timestamp</th>\n",
       "      <th>platform</th>\n",
       "      <th>geo_location</th>\n",
       "      <th>campaign_id</th>\n",
       "      <th>advertiser_id</th>\n",
       "      <th>country</th>\n",
       "      <th>state</th>\n",
       "      <th>loc_num</th>\n",
       "    </tr>\n",
       "    <tr>\n",
       "      <th>display_id</th>\n",
       "      <th></th>\n",
       "      <th></th>\n",
       "      <th></th>\n",
       "      <th></th>\n",
       "      <th></th>\n",
       "      <th></th>\n",
       "      <th></th>\n",
       "      <th></th>\n",
       "      <th></th>\n",
       "      <th></th>\n",
       "      <th></th>\n",
       "      <th></th>\n",
       "    </tr>\n",
       "  </thead>\n",
       "  <tbody>\n",
       "    <tr>\n",
       "      <th>8112</th>\n",
       "      <td>151682</td>\n",
       "      <td>1</td>\n",
       "      <td>715ddc85c78e39</td>\n",
       "      <td>1792396</td>\n",
       "      <td>559250</td>\n",
       "      <td>2</td>\n",
       "      <td>US&gt;MI&gt;563</td>\n",
       "      <td>19284</td>\n",
       "      <td>3283</td>\n",
       "      <td>US</td>\n",
       "      <td>MI</td>\n",
       "      <td>563</td>\n",
       "    </tr>\n",
       "    <tr>\n",
       "      <th>10333</th>\n",
       "      <td>157598</td>\n",
       "      <td>0</td>\n",
       "      <td>ec3841c3250fb6</td>\n",
       "      <td>1405372</td>\n",
       "      <td>716674</td>\n",
       "      <td>2</td>\n",
       "      <td>US&gt;MO&gt;616</td>\n",
       "      <td>18022</td>\n",
       "      <td>2312</td>\n",
       "      <td>US</td>\n",
       "      <td>MO</td>\n",
       "      <td>616</td>\n",
       "    </tr>\n",
       "    <tr>\n",
       "      <th>11278</th>\n",
       "      <td>103712</td>\n",
       "      <td>1</td>\n",
       "      <td>324475e5f191c8</td>\n",
       "      <td>1179111</td>\n",
       "      <td>784022</td>\n",
       "      <td>2</td>\n",
       "      <td>US&gt;GA&gt;524</td>\n",
       "      <td>5081</td>\n",
       "      <td>1759</td>\n",
       "      <td>US</td>\n",
       "      <td>GA</td>\n",
       "      <td>524</td>\n",
       "    </tr>\n",
       "    <tr>\n",
       "      <th>13320</th>\n",
       "      <td>139944</td>\n",
       "      <td>1</td>\n",
       "      <td>27221a85141108</td>\n",
       "      <td>735143</td>\n",
       "      <td>926961</td>\n",
       "      <td>2</td>\n",
       "      <td>US&gt;CA&gt;807</td>\n",
       "      <td>17929</td>\n",
       "      <td>1782</td>\n",
       "      <td>US</td>\n",
       "      <td>CA</td>\n",
       "      <td>807</td>\n",
       "    </tr>\n",
       "    <tr>\n",
       "      <th>13905</th>\n",
       "      <td>173393</td>\n",
       "      <td>0</td>\n",
       "      <td>9ea0907cee579e</td>\n",
       "      <td>1794259</td>\n",
       "      <td>971672</td>\n",
       "      <td>2</td>\n",
       "      <td>US&gt;IL&gt;602</td>\n",
       "      <td>21143</td>\n",
       "      <td>2876</td>\n",
       "      <td>US</td>\n",
       "      <td>IL</td>\n",
       "      <td>602</td>\n",
       "    </tr>\n",
       "  </tbody>\n",
       "</table>\n",
       "</div>"
      ],
      "text/plain": [
       "             ad_id  clicked            uuid  document_id  timestamp  platform  \\\n",
       "display_id                                                                      \n",
       "8112        151682        1  715ddc85c78e39      1792396     559250         2   \n",
       "10333       157598        0  ec3841c3250fb6      1405372     716674         2   \n",
       "11278       103712        1  324475e5f191c8      1179111     784022         2   \n",
       "13320       139944        1  27221a85141108       735143     926961         2   \n",
       "13905       173393        0  9ea0907cee579e      1794259     971672         2   \n",
       "\n",
       "           geo_location  campaign_id  advertiser_id country state loc_num  \n",
       "display_id                                                                 \n",
       "8112          US>MI>563        19284           3283      US    MI     563  \n",
       "10333         US>MO>616        18022           2312      US    MO     616  \n",
       "11278         US>GA>524         5081           1759      US    GA     524  \n",
       "13320         US>CA>807        17929           1782      US    CA     807  \n",
       "13905         US>IL>602        21143           2876      US    IL     602  "
      ]
     },
     "execution_count": 21,
     "metadata": {},
     "output_type": "execute_result"
    }
   ],
   "source": [
    "data[\"country\"] = [x[:2] for x in data[\"geo_location\"]]\n",
    "data[\"state\"] = [x[3:5] for x in data[\"geo_location\"]]\n",
    "data[\"loc_num\"]= [x[6:] for x in data[\"geo_location\"]]\n",
    "data[\"loc_num\"] = data[\"loc_num\"].map(str)\n",
    "data.head()"
   ]
  },
  {
   "cell_type": "code",
   "execution_count": 22,
   "metadata": {
    "collapsed": false
   },
   "outputs": [
    {
     "data": {
      "text/html": [
       "<div>\n",
       "<table border=\"1\" class=\"dataframe\">\n",
       "  <thead>\n",
       "    <tr style=\"text-align: right;\">\n",
       "      <th></th>\n",
       "      <th>ad_id</th>\n",
       "      <th>clicked</th>\n",
       "      <th>uuid</th>\n",
       "      <th>document_id</th>\n",
       "      <th>timestamp</th>\n",
       "      <th>platform</th>\n",
       "      <th>geo_location</th>\n",
       "      <th>campaign_id</th>\n",
       "      <th>advertiser_id</th>\n",
       "      <th>country</th>\n",
       "      <th>...</th>\n",
       "      <th>country_TZ</th>\n",
       "      <th>country_UA</th>\n",
       "      <th>country_UG</th>\n",
       "      <th>country_US</th>\n",
       "      <th>country_UZ</th>\n",
       "      <th>country_VI</th>\n",
       "      <th>country_VN</th>\n",
       "      <th>country_ZA</th>\n",
       "      <th>country_ZM</th>\n",
       "      <th>country_ZW</th>\n",
       "    </tr>\n",
       "    <tr>\n",
       "      <th>display_id</th>\n",
       "      <th></th>\n",
       "      <th></th>\n",
       "      <th></th>\n",
       "      <th></th>\n",
       "      <th></th>\n",
       "      <th></th>\n",
       "      <th></th>\n",
       "      <th></th>\n",
       "      <th></th>\n",
       "      <th></th>\n",
       "      <th></th>\n",
       "      <th></th>\n",
       "      <th></th>\n",
       "      <th></th>\n",
       "      <th></th>\n",
       "      <th></th>\n",
       "      <th></th>\n",
       "      <th></th>\n",
       "      <th></th>\n",
       "      <th></th>\n",
       "      <th></th>\n",
       "    </tr>\n",
       "  </thead>\n",
       "  <tbody>\n",
       "    <tr>\n",
       "      <th>8112</th>\n",
       "      <td>151682</td>\n",
       "      <td>1</td>\n",
       "      <td>715ddc85c78e39</td>\n",
       "      <td>1792396</td>\n",
       "      <td>559250</td>\n",
       "      <td>2</td>\n",
       "      <td>US&gt;MI&gt;563</td>\n",
       "      <td>19284</td>\n",
       "      <td>3283</td>\n",
       "      <td>US</td>\n",
       "      <td>...</td>\n",
       "      <td>0</td>\n",
       "      <td>0</td>\n",
       "      <td>0</td>\n",
       "      <td>1</td>\n",
       "      <td>0</td>\n",
       "      <td>0</td>\n",
       "      <td>0</td>\n",
       "      <td>0</td>\n",
       "      <td>0</td>\n",
       "      <td>0</td>\n",
       "    </tr>\n",
       "    <tr>\n",
       "      <th>10333</th>\n",
       "      <td>157598</td>\n",
       "      <td>0</td>\n",
       "      <td>ec3841c3250fb6</td>\n",
       "      <td>1405372</td>\n",
       "      <td>716674</td>\n",
       "      <td>2</td>\n",
       "      <td>US&gt;MO&gt;616</td>\n",
       "      <td>18022</td>\n",
       "      <td>2312</td>\n",
       "      <td>US</td>\n",
       "      <td>...</td>\n",
       "      <td>0</td>\n",
       "      <td>0</td>\n",
       "      <td>0</td>\n",
       "      <td>1</td>\n",
       "      <td>0</td>\n",
       "      <td>0</td>\n",
       "      <td>0</td>\n",
       "      <td>0</td>\n",
       "      <td>0</td>\n",
       "      <td>0</td>\n",
       "    </tr>\n",
       "    <tr>\n",
       "      <th>11278</th>\n",
       "      <td>103712</td>\n",
       "      <td>1</td>\n",
       "      <td>324475e5f191c8</td>\n",
       "      <td>1179111</td>\n",
       "      <td>784022</td>\n",
       "      <td>2</td>\n",
       "      <td>US&gt;GA&gt;524</td>\n",
       "      <td>5081</td>\n",
       "      <td>1759</td>\n",
       "      <td>US</td>\n",
       "      <td>...</td>\n",
       "      <td>0</td>\n",
       "      <td>0</td>\n",
       "      <td>0</td>\n",
       "      <td>1</td>\n",
       "      <td>0</td>\n",
       "      <td>0</td>\n",
       "      <td>0</td>\n",
       "      <td>0</td>\n",
       "      <td>0</td>\n",
       "      <td>0</td>\n",
       "    </tr>\n",
       "    <tr>\n",
       "      <th>13320</th>\n",
       "      <td>139944</td>\n",
       "      <td>1</td>\n",
       "      <td>27221a85141108</td>\n",
       "      <td>735143</td>\n",
       "      <td>926961</td>\n",
       "      <td>2</td>\n",
       "      <td>US&gt;CA&gt;807</td>\n",
       "      <td>17929</td>\n",
       "      <td>1782</td>\n",
       "      <td>US</td>\n",
       "      <td>...</td>\n",
       "      <td>0</td>\n",
       "      <td>0</td>\n",
       "      <td>0</td>\n",
       "      <td>1</td>\n",
       "      <td>0</td>\n",
       "      <td>0</td>\n",
       "      <td>0</td>\n",
       "      <td>0</td>\n",
       "      <td>0</td>\n",
       "      <td>0</td>\n",
       "    </tr>\n",
       "    <tr>\n",
       "      <th>13905</th>\n",
       "      <td>173393</td>\n",
       "      <td>0</td>\n",
       "      <td>9ea0907cee579e</td>\n",
       "      <td>1794259</td>\n",
       "      <td>971672</td>\n",
       "      <td>2</td>\n",
       "      <td>US&gt;IL&gt;602</td>\n",
       "      <td>21143</td>\n",
       "      <td>2876</td>\n",
       "      <td>US</td>\n",
       "      <td>...</td>\n",
       "      <td>0</td>\n",
       "      <td>0</td>\n",
       "      <td>0</td>\n",
       "      <td>1</td>\n",
       "      <td>0</td>\n",
       "      <td>0</td>\n",
       "      <td>0</td>\n",
       "      <td>0</td>\n",
       "      <td>0</td>\n",
       "      <td>0</td>\n",
       "    </tr>\n",
       "  </tbody>\n",
       "</table>\n",
       "<p>5 rows × 5501 columns</p>\n",
       "</div>"
      ],
      "text/plain": [
       "             ad_id  clicked            uuid  document_id  timestamp  platform  \\\n",
       "display_id                                                                      \n",
       "8112        151682        1  715ddc85c78e39      1792396     559250         2   \n",
       "10333       157598        0  ec3841c3250fb6      1405372     716674         2   \n",
       "11278       103712        1  324475e5f191c8      1179111     784022         2   \n",
       "13320       139944        1  27221a85141108       735143     926961         2   \n",
       "13905       173393        0  9ea0907cee579e      1794259     971672         2   \n",
       "\n",
       "           geo_location  campaign_id  advertiser_id country     ...      \\\n",
       "display_id                                                      ...       \n",
       "8112          US>MI>563        19284           3283      US     ...       \n",
       "10333         US>MO>616        18022           2312      US     ...       \n",
       "11278         US>GA>524         5081           1759      US     ...       \n",
       "13320         US>CA>807        17929           1782      US     ...       \n",
       "13905         US>IL>602        21143           2876      US     ...       \n",
       "\n",
       "           country_TZ country_UA  country_UG  country_US  country_UZ  \\\n",
       "display_id                                                             \n",
       "8112                0          0           0           1           0   \n",
       "10333               0          0           0           1           0   \n",
       "11278               0          0           0           1           0   \n",
       "13320               0          0           0           1           0   \n",
       "13905               0          0           0           1           0   \n",
       "\n",
       "            country_VI  country_VN  country_ZA  country_ZM  country_ZW  \n",
       "display_id                                                              \n",
       "8112                 0           0           0           0           0  \n",
       "10333                0           0           0           0           0  \n",
       "11278                0           0           0           0           0  \n",
       "13320                0           0           0           0           0  \n",
       "13905                0           0           0           0           0  \n",
       "\n",
       "[5 rows x 5501 columns]"
      ]
     },
     "execution_count": 22,
     "metadata": {},
     "output_type": "execute_result"
    }
   ],
   "source": [
    "list_to_binarize = [\"advertiser_id\", \"campaign_id\", \"platform\", \"country\"]\n",
    "\n",
    "for i in list_to_binarize:\n",
    "    temp = pd.get_dummies(data[i], prefix = i)\n",
    "    data = data.join(temp)\n",
    "data.head()"
   ]
  },
  {
   "cell_type": "code",
   "execution_count": 34,
   "metadata": {
    "collapsed": false
   },
   "outputs": [
    {
     "data": {
      "text/html": [
       "<div>\n",
       "<table border=\"1\" class=\"dataframe\">\n",
       "  <thead>\n",
       "    <tr style=\"text-align: right;\">\n",
       "      <th></th>\n",
       "      <th>ad_id</th>\n",
       "      <th>clicked</th>\n",
       "      <th>uuid</th>\n",
       "      <th>document_id</th>\n",
       "      <th>timestamp</th>\n",
       "      <th>platform</th>\n",
       "      <th>geo_location</th>\n",
       "      <th>campaign_id</th>\n",
       "      <th>advertiser_id</th>\n",
       "      <th>country</th>\n",
       "      <th>...</th>\n",
       "      <th>country_TZ</th>\n",
       "      <th>country_UA</th>\n",
       "      <th>country_UG</th>\n",
       "      <th>country_US</th>\n",
       "      <th>country_UZ</th>\n",
       "      <th>country_VI</th>\n",
       "      <th>country_VN</th>\n",
       "      <th>country_ZA</th>\n",
       "      <th>country_ZM</th>\n",
       "      <th>country_ZW</th>\n",
       "    </tr>\n",
       "    <tr>\n",
       "      <th>display_id</th>\n",
       "      <th></th>\n",
       "      <th></th>\n",
       "      <th></th>\n",
       "      <th></th>\n",
       "      <th></th>\n",
       "      <th></th>\n",
       "      <th></th>\n",
       "      <th></th>\n",
       "      <th></th>\n",
       "      <th></th>\n",
       "      <th></th>\n",
       "      <th></th>\n",
       "      <th></th>\n",
       "      <th></th>\n",
       "      <th></th>\n",
       "      <th></th>\n",
       "      <th></th>\n",
       "      <th></th>\n",
       "      <th></th>\n",
       "      <th></th>\n",
       "      <th></th>\n",
       "    </tr>\n",
       "  </thead>\n",
       "  <tbody>\n",
       "    <tr>\n",
       "      <th>8112</th>\n",
       "      <td>151682</td>\n",
       "      <td>1</td>\n",
       "      <td>715ddc85c78e39</td>\n",
       "      <td>1792396</td>\n",
       "      <td>559250</td>\n",
       "      <td>2</td>\n",
       "      <td>US&gt;MI&gt;563</td>\n",
       "      <td>19284</td>\n",
       "      <td>3283</td>\n",
       "      <td>US</td>\n",
       "      <td>...</td>\n",
       "      <td>0</td>\n",
       "      <td>0</td>\n",
       "      <td>0</td>\n",
       "      <td>1</td>\n",
       "      <td>0</td>\n",
       "      <td>0</td>\n",
       "      <td>0</td>\n",
       "      <td>0</td>\n",
       "      <td>0</td>\n",
       "      <td>0</td>\n",
       "    </tr>\n",
       "    <tr>\n",
       "      <th>10333</th>\n",
       "      <td>157598</td>\n",
       "      <td>0</td>\n",
       "      <td>ec3841c3250fb6</td>\n",
       "      <td>1405372</td>\n",
       "      <td>716674</td>\n",
       "      <td>2</td>\n",
       "      <td>US&gt;MO&gt;616</td>\n",
       "      <td>18022</td>\n",
       "      <td>2312</td>\n",
       "      <td>US</td>\n",
       "      <td>...</td>\n",
       "      <td>0</td>\n",
       "      <td>0</td>\n",
       "      <td>0</td>\n",
       "      <td>1</td>\n",
       "      <td>0</td>\n",
       "      <td>0</td>\n",
       "      <td>0</td>\n",
       "      <td>0</td>\n",
       "      <td>0</td>\n",
       "      <td>0</td>\n",
       "    </tr>\n",
       "    <tr>\n",
       "      <th>11278</th>\n",
       "      <td>103712</td>\n",
       "      <td>1</td>\n",
       "      <td>324475e5f191c8</td>\n",
       "      <td>1179111</td>\n",
       "      <td>784022</td>\n",
       "      <td>2</td>\n",
       "      <td>US&gt;GA&gt;524</td>\n",
       "      <td>5081</td>\n",
       "      <td>1759</td>\n",
       "      <td>US</td>\n",
       "      <td>...</td>\n",
       "      <td>0</td>\n",
       "      <td>0</td>\n",
       "      <td>0</td>\n",
       "      <td>1</td>\n",
       "      <td>0</td>\n",
       "      <td>0</td>\n",
       "      <td>0</td>\n",
       "      <td>0</td>\n",
       "      <td>0</td>\n",
       "      <td>0</td>\n",
       "    </tr>\n",
       "    <tr>\n",
       "      <th>13320</th>\n",
       "      <td>139944</td>\n",
       "      <td>1</td>\n",
       "      <td>27221a85141108</td>\n",
       "      <td>735143</td>\n",
       "      <td>926961</td>\n",
       "      <td>2</td>\n",
       "      <td>US&gt;CA&gt;807</td>\n",
       "      <td>17929</td>\n",
       "      <td>1782</td>\n",
       "      <td>US</td>\n",
       "      <td>...</td>\n",
       "      <td>0</td>\n",
       "      <td>0</td>\n",
       "      <td>0</td>\n",
       "      <td>1</td>\n",
       "      <td>0</td>\n",
       "      <td>0</td>\n",
       "      <td>0</td>\n",
       "      <td>0</td>\n",
       "      <td>0</td>\n",
       "      <td>0</td>\n",
       "    </tr>\n",
       "    <tr>\n",
       "      <th>13905</th>\n",
       "      <td>173393</td>\n",
       "      <td>0</td>\n",
       "      <td>9ea0907cee579e</td>\n",
       "      <td>1794259</td>\n",
       "      <td>971672</td>\n",
       "      <td>2</td>\n",
       "      <td>US&gt;IL&gt;602</td>\n",
       "      <td>21143</td>\n",
       "      <td>2876</td>\n",
       "      <td>US</td>\n",
       "      <td>...</td>\n",
       "      <td>0</td>\n",
       "      <td>0</td>\n",
       "      <td>0</td>\n",
       "      <td>1</td>\n",
       "      <td>0</td>\n",
       "      <td>0</td>\n",
       "      <td>0</td>\n",
       "      <td>0</td>\n",
       "      <td>0</td>\n",
       "      <td>0</td>\n",
       "    </tr>\n",
       "  </tbody>\n",
       "</table>\n",
       "<p>5 rows × 5501 columns</p>\n",
       "</div>"
      ],
      "text/plain": [
       "             ad_id  clicked            uuid  document_id  timestamp  platform  \\\n",
       "display_id                                                                      \n",
       "8112        151682        1  715ddc85c78e39      1792396     559250         2   \n",
       "10333       157598        0  ec3841c3250fb6      1405372     716674         2   \n",
       "11278       103712        1  324475e5f191c8      1179111     784022         2   \n",
       "13320       139944        1  27221a85141108       735143     926961         2   \n",
       "13905       173393        0  9ea0907cee579e      1794259     971672         2   \n",
       "\n",
       "           geo_location  campaign_id  advertiser_id country     ...      \\\n",
       "display_id                                                      ...       \n",
       "8112          US>MI>563        19284           3283      US     ...       \n",
       "10333         US>MO>616        18022           2312      US     ...       \n",
       "11278         US>GA>524         5081           1759      US     ...       \n",
       "13320         US>CA>807        17929           1782      US     ...       \n",
       "13905         US>IL>602        21143           2876      US     ...       \n",
       "\n",
       "           country_TZ country_UA  country_UG  country_US  country_UZ  \\\n",
       "display_id                                                             \n",
       "8112                0          0           0           1           0   \n",
       "10333               0          0           0           1           0   \n",
       "11278               0          0           0           1           0   \n",
       "13320               0          0           0           1           0   \n",
       "13905               0          0           0           1           0   \n",
       "\n",
       "            country_VI  country_VN  country_ZA  country_ZM  country_ZW  \n",
       "display_id                                                              \n",
       "8112                 0           0           0           0           0  \n",
       "10333                0           0           0           0           0  \n",
       "11278                0           0           0           0           0  \n",
       "13320                0           0           0           0           0  \n",
       "13905                0           0           0           0           0  \n",
       "\n",
       "[5 rows x 5501 columns]"
      ]
     },
     "execution_count": 34,
     "metadata": {},
     "output_type": "execute_result"
    }
   ],
   "source": [
    "clean = copy.deepcopy(data)\n",
    "clean.head()"
   ]
  },
  {
   "cell_type": "code",
   "execution_count": 35,
   "metadata": {
    "collapsed": false
   },
   "outputs": [
    {
     "data": {
      "text/plain": [
       "6042"
      ]
     },
     "execution_count": 35,
     "metadata": {},
     "output_type": "execute_result"
    }
   ],
   "source": [
    "len(data[\"ad_id\"].unique())"
   ]
  },
  {
   "cell_type": "code",
   "execution_count": 36,
   "metadata": {
    "collapsed": false
   },
   "outputs": [
    {
     "data": {
      "text/plain": [
       "7240"
      ]
     },
     "execution_count": 36,
     "metadata": {},
     "output_type": "execute_result"
    }
   ],
   "source": [
    "len(clean['document_id'].unique())"
   ]
  },
  {
   "cell_type": "code",
   "execution_count": 37,
   "metadata": {
    "collapsed": false
   },
   "outputs": [],
   "source": [
    "#drop the non-cleaned up data for now\n",
    "del clean['country'], clean['state'], clean[\"ad_id\"], clean[\"uuid\"], clean[\"document_id\"],clean[\"timestamp\"], clean[\"platform\"], clean[\"geo_location\"], clean['campaign_id'], clean[\"advertiser_id\"]"
   ]
  },
  {
   "cell_type": "code",
   "execution_count": 39,
   "metadata": {
    "collapsed": false
   },
   "outputs": [
    {
     "data": {
      "text/html": [
       "<div>\n",
       "<table border=\"1\" class=\"dataframe\">\n",
       "  <thead>\n",
       "    <tr style=\"text-align: right;\">\n",
       "      <th></th>\n",
       "      <th>clicked</th>\n",
       "      <th>loc_num</th>\n",
       "      <th>advertiser_id_4</th>\n",
       "      <th>advertiser_id_5</th>\n",
       "      <th>advertiser_id_8</th>\n",
       "      <th>advertiser_id_9</th>\n",
       "      <th>advertiser_id_10</th>\n",
       "      <th>advertiser_id_12</th>\n",
       "      <th>advertiser_id_13</th>\n",
       "      <th>advertiser_id_14</th>\n",
       "      <th>...</th>\n",
       "      <th>country_TZ</th>\n",
       "      <th>country_UA</th>\n",
       "      <th>country_UG</th>\n",
       "      <th>country_US</th>\n",
       "      <th>country_UZ</th>\n",
       "      <th>country_VI</th>\n",
       "      <th>country_VN</th>\n",
       "      <th>country_ZA</th>\n",
       "      <th>country_ZM</th>\n",
       "      <th>country_ZW</th>\n",
       "    </tr>\n",
       "    <tr>\n",
       "      <th>display_id</th>\n",
       "      <th></th>\n",
       "      <th></th>\n",
       "      <th></th>\n",
       "      <th></th>\n",
       "      <th></th>\n",
       "      <th></th>\n",
       "      <th></th>\n",
       "      <th></th>\n",
       "      <th></th>\n",
       "      <th></th>\n",
       "      <th></th>\n",
       "      <th></th>\n",
       "      <th></th>\n",
       "      <th></th>\n",
       "      <th></th>\n",
       "      <th></th>\n",
       "      <th></th>\n",
       "      <th></th>\n",
       "      <th></th>\n",
       "      <th></th>\n",
       "      <th></th>\n",
       "    </tr>\n",
       "  </thead>\n",
       "  <tbody>\n",
       "    <tr>\n",
       "      <th>8112</th>\n",
       "      <td>1</td>\n",
       "      <td>563</td>\n",
       "      <td>0</td>\n",
       "      <td>0</td>\n",
       "      <td>0</td>\n",
       "      <td>0</td>\n",
       "      <td>0</td>\n",
       "      <td>0</td>\n",
       "      <td>0</td>\n",
       "      <td>0</td>\n",
       "      <td>...</td>\n",
       "      <td>0</td>\n",
       "      <td>0</td>\n",
       "      <td>0</td>\n",
       "      <td>1</td>\n",
       "      <td>0</td>\n",
       "      <td>0</td>\n",
       "      <td>0</td>\n",
       "      <td>0</td>\n",
       "      <td>0</td>\n",
       "      <td>0</td>\n",
       "    </tr>\n",
       "    <tr>\n",
       "      <th>10333</th>\n",
       "      <td>0</td>\n",
       "      <td>616</td>\n",
       "      <td>0</td>\n",
       "      <td>0</td>\n",
       "      <td>0</td>\n",
       "      <td>0</td>\n",
       "      <td>0</td>\n",
       "      <td>0</td>\n",
       "      <td>0</td>\n",
       "      <td>0</td>\n",
       "      <td>...</td>\n",
       "      <td>0</td>\n",
       "      <td>0</td>\n",
       "      <td>0</td>\n",
       "      <td>1</td>\n",
       "      <td>0</td>\n",
       "      <td>0</td>\n",
       "      <td>0</td>\n",
       "      <td>0</td>\n",
       "      <td>0</td>\n",
       "      <td>0</td>\n",
       "    </tr>\n",
       "    <tr>\n",
       "      <th>11278</th>\n",
       "      <td>1</td>\n",
       "      <td>524</td>\n",
       "      <td>0</td>\n",
       "      <td>0</td>\n",
       "      <td>0</td>\n",
       "      <td>0</td>\n",
       "      <td>0</td>\n",
       "      <td>0</td>\n",
       "      <td>0</td>\n",
       "      <td>0</td>\n",
       "      <td>...</td>\n",
       "      <td>0</td>\n",
       "      <td>0</td>\n",
       "      <td>0</td>\n",
       "      <td>1</td>\n",
       "      <td>0</td>\n",
       "      <td>0</td>\n",
       "      <td>0</td>\n",
       "      <td>0</td>\n",
       "      <td>0</td>\n",
       "      <td>0</td>\n",
       "    </tr>\n",
       "    <tr>\n",
       "      <th>13320</th>\n",
       "      <td>1</td>\n",
       "      <td>807</td>\n",
       "      <td>0</td>\n",
       "      <td>0</td>\n",
       "      <td>0</td>\n",
       "      <td>0</td>\n",
       "      <td>0</td>\n",
       "      <td>0</td>\n",
       "      <td>0</td>\n",
       "      <td>0</td>\n",
       "      <td>...</td>\n",
       "      <td>0</td>\n",
       "      <td>0</td>\n",
       "      <td>0</td>\n",
       "      <td>1</td>\n",
       "      <td>0</td>\n",
       "      <td>0</td>\n",
       "      <td>0</td>\n",
       "      <td>0</td>\n",
       "      <td>0</td>\n",
       "      <td>0</td>\n",
       "    </tr>\n",
       "    <tr>\n",
       "      <th>13905</th>\n",
       "      <td>0</td>\n",
       "      <td>602</td>\n",
       "      <td>0</td>\n",
       "      <td>0</td>\n",
       "      <td>0</td>\n",
       "      <td>0</td>\n",
       "      <td>0</td>\n",
       "      <td>0</td>\n",
       "      <td>0</td>\n",
       "      <td>0</td>\n",
       "      <td>...</td>\n",
       "      <td>0</td>\n",
       "      <td>0</td>\n",
       "      <td>0</td>\n",
       "      <td>1</td>\n",
       "      <td>0</td>\n",
       "      <td>0</td>\n",
       "      <td>0</td>\n",
       "      <td>0</td>\n",
       "      <td>0</td>\n",
       "      <td>0</td>\n",
       "    </tr>\n",
       "  </tbody>\n",
       "</table>\n",
       "<p>5 rows × 5491 columns</p>\n",
       "</div>"
      ],
      "text/plain": [
       "            clicked loc_num  advertiser_id_4  advertiser_id_5  \\\n",
       "display_id                                                      \n",
       "8112              1     563                0                0   \n",
       "10333             0     616                0                0   \n",
       "11278             1     524                0                0   \n",
       "13320             1     807                0                0   \n",
       "13905             0     602                0                0   \n",
       "\n",
       "            advertiser_id_8  advertiser_id_9  advertiser_id_10  \\\n",
       "display_id                                                       \n",
       "8112                      0                0                 0   \n",
       "10333                     0                0                 0   \n",
       "11278                     0                0                 0   \n",
       "13320                     0                0                 0   \n",
       "13905                     0                0                 0   \n",
       "\n",
       "            advertiser_id_12  advertiser_id_13  advertiser_id_14     ...      \\\n",
       "display_id                                                           ...       \n",
       "8112                       0                 0                 0     ...       \n",
       "10333                      0                 0                 0     ...       \n",
       "11278                      0                 0                 0     ...       \n",
       "13320                      0                 0                 0     ...       \n",
       "13905                      0                 0                 0     ...       \n",
       "\n",
       "            country_TZ  country_UA  country_UG  country_US  country_UZ  \\\n",
       "display_id                                                               \n",
       "8112                 0           0           0           1           0   \n",
       "10333                0           0           0           1           0   \n",
       "11278                0           0           0           1           0   \n",
       "13320                0           0           0           1           0   \n",
       "13905                0           0           0           1           0   \n",
       "\n",
       "            country_VI  country_VN  country_ZA  country_ZM  country_ZW  \n",
       "display_id                                                              \n",
       "8112                 0           0           0           0           0  \n",
       "10333                0           0           0           0           0  \n",
       "11278                0           0           0           0           0  \n",
       "13320                0           0           0           0           0  \n",
       "13905                0           0           0           0           0  \n",
       "\n",
       "[5 rows x 5491 columns]"
      ]
     },
     "execution_count": 39,
     "metadata": {},
     "output_type": "execute_result"
    }
   ],
   "source": [
    "len(clean.columns)\n",
    "clean.head()"
   ]
  },
  {
   "cell_type": "markdown",
   "metadata": {},
   "source": [
    "## Make training and test sets"
   ]
  },
  {
   "cell_type": "code",
   "execution_count": 45,
   "metadata": {
    "collapsed": false
   },
   "outputs": [],
   "source": [
    "labels = clean['clicked']\n",
    "labels = labels.values.reshape(-1,1) # check this please! my python is 3.5 and told me to use values.reshape\n",
    "del clean['clicked']"
   ]
  },
  {
   "cell_type": "code",
   "execution_count": 55,
   "metadata": {
    "collapsed": false
   },
   "outputs": [],
   "source": [
    "train_data = clean[:round(.7*len(clean))]\n",
    "train_labels = labels[:round(.7*len(clean))]\n",
    "test_data = clean[round(.7*len(clean)):]\n",
    "test_labels = labels[round(.7*len(clean)):]"
   ]
  },
  {
   "cell_type": "code",
   "execution_count": 56,
   "metadata": {
    "collapsed": false
   },
   "outputs": [
    {
     "ename": "ValueError",
     "evalue": "could not convert string to float: ",
     "output_type": "error",
     "traceback": [
      "\u001b[0;31m---------------------------------------------------------------------------\u001b[0m",
      "\u001b[0;31mValueError\u001b[0m                                Traceback (most recent call last)",
      "\u001b[0;32m<ipython-input-56-402f2cce38e2>\u001b[0m in \u001b[0;36m<module>\u001b[0;34m()\u001b[0m\n\u001b[1;32m      1\u001b[0m \u001b[0mlr\u001b[0m \u001b[0;34m=\u001b[0m \u001b[0mLogisticRegression\u001b[0m\u001b[0;34m(\u001b[0m\u001b[0;34m)\u001b[0m\u001b[0;34m\u001b[0m\u001b[0m\n\u001b[0;32m----> 2\u001b[0;31m \u001b[0mlr\u001b[0m\u001b[0;34m.\u001b[0m\u001b[0mfit\u001b[0m\u001b[0;34m(\u001b[0m\u001b[0mtrain_data\u001b[0m\u001b[0;34m,\u001b[0m \u001b[0mtrain_labels\u001b[0m\u001b[0;34m)\u001b[0m\u001b[0;34m\u001b[0m\u001b[0m\n\u001b[0m\u001b[1;32m      3\u001b[0m \u001b[0mlr\u001b[0m\u001b[0;34m.\u001b[0m\u001b[0mpredict\u001b[0m\u001b[0;34m(\u001b[0m\u001b[0mtest_data\u001b[0m\u001b[0;34m,\u001b[0m \u001b[0mtest_labels\u001b[0m\u001b[0;34m)\u001b[0m\u001b[0;34m\u001b[0m\u001b[0m\n",
      "\u001b[0;32m/Users/nicolelee/miniconda3/lib/python3.5/site-packages/sklearn/linear_model/logistic.py\u001b[0m in \u001b[0;36mfit\u001b[0;34m(self, X, y, sample_weight)\u001b[0m\n\u001b[1;32m   1171\u001b[0m \u001b[0;34m\u001b[0m\u001b[0m\n\u001b[1;32m   1172\u001b[0m         X, y = check_X_y(X, y, accept_sparse='csr', dtype=np.float64,\n\u001b[0;32m-> 1173\u001b[0;31m                          order=\"C\")\n\u001b[0m\u001b[1;32m   1174\u001b[0m         \u001b[0mcheck_classification_targets\u001b[0m\u001b[0;34m(\u001b[0m\u001b[0my\u001b[0m\u001b[0;34m)\u001b[0m\u001b[0;34m\u001b[0m\u001b[0m\n\u001b[1;32m   1175\u001b[0m         \u001b[0mself\u001b[0m\u001b[0;34m.\u001b[0m\u001b[0mclasses_\u001b[0m \u001b[0;34m=\u001b[0m \u001b[0mnp\u001b[0m\u001b[0;34m.\u001b[0m\u001b[0munique\u001b[0m\u001b[0;34m(\u001b[0m\u001b[0my\u001b[0m\u001b[0;34m)\u001b[0m\u001b[0;34m\u001b[0m\u001b[0m\n",
      "\u001b[0;32m/Users/nicolelee/miniconda3/lib/python3.5/site-packages/sklearn/utils/validation.py\u001b[0m in \u001b[0;36mcheck_X_y\u001b[0;34m(X, y, accept_sparse, dtype, order, copy, force_all_finite, ensure_2d, allow_nd, multi_output, ensure_min_samples, ensure_min_features, y_numeric, warn_on_dtype, estimator)\u001b[0m\n\u001b[1;32m    519\u001b[0m     X = check_array(X, accept_sparse, dtype, order, copy, force_all_finite,\n\u001b[1;32m    520\u001b[0m                     \u001b[0mensure_2d\u001b[0m\u001b[0;34m,\u001b[0m \u001b[0mallow_nd\u001b[0m\u001b[0;34m,\u001b[0m \u001b[0mensure_min_samples\u001b[0m\u001b[0;34m,\u001b[0m\u001b[0;34m\u001b[0m\u001b[0m\n\u001b[0;32m--> 521\u001b[0;31m                     ensure_min_features, warn_on_dtype, estimator)\n\u001b[0m\u001b[1;32m    522\u001b[0m     \u001b[0;32mif\u001b[0m \u001b[0mmulti_output\u001b[0m\u001b[0;34m:\u001b[0m\u001b[0;34m\u001b[0m\u001b[0m\n\u001b[1;32m    523\u001b[0m         y = check_array(y, 'csr', force_all_finite=True, ensure_2d=False,\n",
      "\u001b[0;32m/Users/nicolelee/miniconda3/lib/python3.5/site-packages/sklearn/utils/validation.py\u001b[0m in \u001b[0;36mcheck_array\u001b[0;34m(array, accept_sparse, dtype, order, copy, force_all_finite, ensure_2d, allow_nd, ensure_min_samples, ensure_min_features, warn_on_dtype, estimator)\u001b[0m\n\u001b[1;32m    380\u001b[0m                                       force_all_finite)\n\u001b[1;32m    381\u001b[0m     \u001b[0;32melse\u001b[0m\u001b[0;34m:\u001b[0m\u001b[0;34m\u001b[0m\u001b[0m\n\u001b[0;32m--> 382\u001b[0;31m         \u001b[0marray\u001b[0m \u001b[0;34m=\u001b[0m \u001b[0mnp\u001b[0m\u001b[0;34m.\u001b[0m\u001b[0marray\u001b[0m\u001b[0;34m(\u001b[0m\u001b[0marray\u001b[0m\u001b[0;34m,\u001b[0m \u001b[0mdtype\u001b[0m\u001b[0;34m=\u001b[0m\u001b[0mdtype\u001b[0m\u001b[0;34m,\u001b[0m \u001b[0morder\u001b[0m\u001b[0;34m=\u001b[0m\u001b[0morder\u001b[0m\u001b[0;34m,\u001b[0m \u001b[0mcopy\u001b[0m\u001b[0;34m=\u001b[0m\u001b[0mcopy\u001b[0m\u001b[0;34m)\u001b[0m\u001b[0;34m\u001b[0m\u001b[0m\n\u001b[0m\u001b[1;32m    383\u001b[0m \u001b[0;34m\u001b[0m\u001b[0m\n\u001b[1;32m    384\u001b[0m         \u001b[0;32mif\u001b[0m \u001b[0mensure_2d\u001b[0m\u001b[0;34m:\u001b[0m\u001b[0;34m\u001b[0m\u001b[0m\n",
      "\u001b[0;31mValueError\u001b[0m: could not convert string to float: "
     ]
    }
   ],
   "source": [
    "lr = LogisticRegression()\n",
    "lr.fit(train_data, train_labels)\n",
    "lr.predict(test_data, test_labels)\n",
    "\n",
    "# Logistic Regression is not the best model because we have to binarize our features\n",
    "# to make them numeric. This leads to >5000 columns which is unruly and not optimal."
   ]
  },
  {
   "cell_type": "code",
   "execution_count": null,
   "metadata": {
    "collapsed": false
   },
   "outputs": [],
   "source": []
  },
  {
   "cell_type": "code",
   "execution_count": null,
   "metadata": {
    "collapsed": true
   },
   "outputs": [],
   "source": []
  }
 ],
 "metadata": {
  "anaconda-cloud": {},
  "kernelspec": {
   "display_name": "Python 3",
   "language": "python",
   "name": "python3"
  },
  "language_info": {
   "codemirror_mode": {
    "name": "ipython",
    "version": 3
   },
   "file_extension": ".py",
   "mimetype": "text/x-python",
   "name": "python",
   "nbconvert_exporter": "python",
   "pygments_lexer": "ipython3",
   "version": "3.5.2"
  }
 },
 "nbformat": 4,
 "nbformat_minor": 0
}
