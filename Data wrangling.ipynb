{
 "cells": [
  {
   "cell_type": "markdown",
   "metadata": {},
   "source": [
    "# Mini-Data Set Preparation"
   ]
  },
  {
   "cell_type": "markdown",
   "metadata": {},
   "source": [
    "After the Kaggle Script \"Making a mini-data set\" is run (FYI, it takes about 2 minutes to run) to reduce the size of the data to 40,000 instances, run this script to organize data into a single dataframe. \n",
    "\n",
    "Run this with the 8 csv files produced by the Kaggle Script in the same directory. "
   ]
  },
  {
   "cell_type": "markdown",
   "metadata": {},
   "source": [
    "Note: This is a Python3 script because that is what Kaggle uses. "
   ]
  },
  {
   "cell_type": "code",
   "execution_count": 52,
   "metadata": {
    "collapsed": true
   },
   "outputs": [],
   "source": [
    "import pandas as pd\n",
    "import numpy as np"
   ]
  },
  {
   "cell_type": "code",
   "execution_count": 53,
   "metadata": {
    "collapsed": false
   },
   "outputs": [],
   "source": [
    "clicks_train = pd.read_csv(\"mini_clicks_train.csv\")#got\n",
    "doc_cats = pd.read_csv(\"mini_doc_cats.csv\")\n",
    "doc_ents = pd.read_csv(\"mini_doc_ents.csv\")\n",
    "doc_meta = pd.read_csv(\"mini_doc_meta.csv\")\n",
    "doc_topics = pd.read_csv(\"mini_doc_topics.csv\")\n",
    "events = pd.read_csv(\"mini_events.csv\") #got\n",
    "#page_views = pd.read_csv(\"mini_page_views.csv\") Once I get this imported\n",
    "promoted = pd.read_csv(\"mini_promoted.csv\")#got\n"
   ]
  },
  {
   "cell_type": "markdown",
   "metadata": {},
   "source": [
    "## Join clicks_train and events on display_id"
   ]
  },
  {
   "cell_type": "code",
   "execution_count": 54,
   "metadata": {
    "collapsed": false
   },
   "outputs": [
    {
     "name": "stdout",
     "output_type": "stream",
     "text": [
      "39950\n",
      "39950\n"
     ]
    }
   ],
   "source": [
    "#clicks_train and events have a 1:1 relationship\n",
    "print(len(events[\"display_id\"].unique()))\n",
    "print(len(clicks_train[\"display_id\"].unique()))"
   ]
  },
  {
   "cell_type": "code",
   "execution_count": 55,
   "metadata": {
    "collapsed": false
   },
   "outputs": [
    {
     "data": {
      "text/html": [
       "<div>\n",
       "<table border=\"1\" class=\"dataframe\">\n",
       "  <thead>\n",
       "    <tr style=\"text-align: right;\">\n",
       "      <th></th>\n",
       "      <th>ad_id</th>\n",
       "      <th>clicked</th>\n",
       "    </tr>\n",
       "    <tr>\n",
       "      <th>display_id</th>\n",
       "      <th></th>\n",
       "      <th></th>\n",
       "    </tr>\n",
       "  </thead>\n",
       "  <tbody>\n",
       "    <tr>\n",
       "      <th>7194604</th>\n",
       "      <td>189575</td>\n",
       "      <td>1</td>\n",
       "    </tr>\n",
       "    <tr>\n",
       "      <th>10660899</th>\n",
       "      <td>281556</td>\n",
       "      <td>0</td>\n",
       "    </tr>\n",
       "    <tr>\n",
       "      <th>4510419</th>\n",
       "      <td>422667</td>\n",
       "      <td>0</td>\n",
       "    </tr>\n",
       "    <tr>\n",
       "      <th>2203285</th>\n",
       "      <td>11189</td>\n",
       "      <td>0</td>\n",
       "    </tr>\n",
       "    <tr>\n",
       "      <th>12632400</th>\n",
       "      <td>470488</td>\n",
       "      <td>0</td>\n",
       "    </tr>\n",
       "  </tbody>\n",
       "</table>\n",
       "</div>"
      ],
      "text/plain": [
       "             ad_id  clicked\n",
       "display_id                 \n",
       "7194604     189575        1\n",
       "10660899    281556        0\n",
       "4510419     422667        0\n",
       "2203285      11189        0\n",
       "12632400    470488        0"
      ]
     },
     "execution_count": 55,
     "metadata": {},
     "output_type": "execute_result"
    }
   ],
   "source": [
    "#the first column seems to be the old index, we don't need this\n",
    "clicks_train = clicks_train.set_index('display_id')\n",
    "del clicks_train[\"Unnamed: 0\"]\n",
    "clicks_train.head()"
   ]
  },
  {
   "cell_type": "code",
   "execution_count": 56,
   "metadata": {
    "collapsed": false
   },
   "outputs": [
    {
     "data": {
      "text/html": [
       "<div>\n",
       "<table border=\"1\" class=\"dataframe\">\n",
       "  <thead>\n",
       "    <tr style=\"text-align: right;\">\n",
       "      <th></th>\n",
       "      <th>uuid</th>\n",
       "      <th>document_id</th>\n",
       "      <th>timestamp</th>\n",
       "      <th>platform</th>\n",
       "      <th>geo_location</th>\n",
       "    </tr>\n",
       "    <tr>\n",
       "      <th>display_id</th>\n",
       "      <th></th>\n",
       "      <th></th>\n",
       "      <th></th>\n",
       "      <th></th>\n",
       "      <th></th>\n",
       "    </tr>\n",
       "  </thead>\n",
       "  <tbody>\n",
       "    <tr>\n",
       "      <th>62</th>\n",
       "      <td>65861840b3ab9f</td>\n",
       "      <td>1781623</td>\n",
       "      <td>4651</td>\n",
       "      <td>2</td>\n",
       "      <td>US&gt;AZ&gt;789</td>\n",
       "    </tr>\n",
       "    <tr>\n",
       "      <th>76</th>\n",
       "      <td>23c6c76aeab262</td>\n",
       "      <td>1727629</td>\n",
       "      <td>5723</td>\n",
       "      <td>3</td>\n",
       "      <td>US&gt;IL&gt;609</td>\n",
       "    </tr>\n",
       "    <tr>\n",
       "      <th>795</th>\n",
       "      <td>8cdc5a01e783a8</td>\n",
       "      <td>1768840</td>\n",
       "      <td>56758</td>\n",
       "      <td>3</td>\n",
       "      <td>US&gt;PA&gt;504</td>\n",
       "    </tr>\n",
       "    <tr>\n",
       "      <th>1394</th>\n",
       "      <td>f4953632cdeaf9</td>\n",
       "      <td>1762699</td>\n",
       "      <td>96740</td>\n",
       "      <td>2</td>\n",
       "      <td>US&gt;MA&gt;506</td>\n",
       "    </tr>\n",
       "    <tr>\n",
       "      <th>1523</th>\n",
       "      <td>cde539b7dfb671</td>\n",
       "      <td>1631112</td>\n",
       "      <td>105840</td>\n",
       "      <td>3</td>\n",
       "      <td>US&gt;GA&gt;524</td>\n",
       "    </tr>\n",
       "  </tbody>\n",
       "</table>\n",
       "</div>"
      ],
      "text/plain": [
       "                      uuid  document_id  timestamp  platform geo_location\n",
       "display_id                                                               \n",
       "62          65861840b3ab9f      1781623       4651         2    US>AZ>789\n",
       "76          23c6c76aeab262      1727629       5723         3    US>IL>609\n",
       "795         8cdc5a01e783a8      1768840      56758         3    US>PA>504\n",
       "1394        f4953632cdeaf9      1762699      96740         2    US>MA>506\n",
       "1523        cde539b7dfb671      1631112     105840         3    US>GA>524"
      ]
     },
     "execution_count": 56,
     "metadata": {},
     "output_type": "execute_result"
    }
   ],
   "source": [
    "del events[\"Unnamed: 0\"]\n",
    "events = events.set_index(\"display_id\")\n",
    "events.head()"
   ]
  },
  {
   "cell_type": "code",
   "execution_count": 26,
   "metadata": {
    "collapsed": false
   },
   "outputs": [
    {
     "data": {
      "text/html": [
       "<div>\n",
       "<table border=\"1\" class=\"dataframe\">\n",
       "  <thead>\n",
       "    <tr style=\"text-align: right;\">\n",
       "      <th></th>\n",
       "      <th>ad_id</th>\n",
       "      <th>clicked</th>\n",
       "      <th>uuid</th>\n",
       "      <th>document_id</th>\n",
       "      <th>timestamp</th>\n",
       "      <th>platform</th>\n",
       "      <th>geo_location</th>\n",
       "    </tr>\n",
       "    <tr>\n",
       "      <th>display_id</th>\n",
       "      <th></th>\n",
       "      <th></th>\n",
       "      <th></th>\n",
       "      <th></th>\n",
       "      <th></th>\n",
       "      <th></th>\n",
       "      <th></th>\n",
       "    </tr>\n",
       "  </thead>\n",
       "  <tbody>\n",
       "    <tr>\n",
       "      <th>62</th>\n",
       "      <td>132780</td>\n",
       "      <td>0</td>\n",
       "      <td>65861840b3ab9f</td>\n",
       "      <td>1781623</td>\n",
       "      <td>4651</td>\n",
       "      <td>2</td>\n",
       "      <td>US&gt;AZ&gt;789</td>\n",
       "    </tr>\n",
       "    <tr>\n",
       "      <th>76</th>\n",
       "      <td>228959</td>\n",
       "      <td>0</td>\n",
       "      <td>23c6c76aeab262</td>\n",
       "      <td>1727629</td>\n",
       "      <td>5723</td>\n",
       "      <td>3</td>\n",
       "      <td>US&gt;IL&gt;609</td>\n",
       "    </tr>\n",
       "    <tr>\n",
       "      <th>795</th>\n",
       "      <td>249397</td>\n",
       "      <td>0</td>\n",
       "      <td>8cdc5a01e783a8</td>\n",
       "      <td>1768840</td>\n",
       "      <td>56758</td>\n",
       "      <td>3</td>\n",
       "      <td>US&gt;PA&gt;504</td>\n",
       "    </tr>\n",
       "    <tr>\n",
       "      <th>1394</th>\n",
       "      <td>310868</td>\n",
       "      <td>1</td>\n",
       "      <td>f4953632cdeaf9</td>\n",
       "      <td>1762699</td>\n",
       "      <td>96740</td>\n",
       "      <td>2</td>\n",
       "      <td>US&gt;MA&gt;506</td>\n",
       "    </tr>\n",
       "    <tr>\n",
       "      <th>1523</th>\n",
       "      <td>247283</td>\n",
       "      <td>0</td>\n",
       "      <td>cde539b7dfb671</td>\n",
       "      <td>1631112</td>\n",
       "      <td>105840</td>\n",
       "      <td>3</td>\n",
       "      <td>US&gt;GA&gt;524</td>\n",
       "    </tr>\n",
       "  </tbody>\n",
       "</table>\n",
       "</div>"
      ],
      "text/plain": [
       "             ad_id  clicked            uuid  document_id  timestamp  platform  \\\n",
       "display_id                                                                      \n",
       "62          132780        0  65861840b3ab9f      1781623       4651         2   \n",
       "76          228959        0  23c6c76aeab262      1727629       5723         3   \n",
       "795         249397        0  8cdc5a01e783a8      1768840      56758         3   \n",
       "1394        310868        1  f4953632cdeaf9      1762699      96740         2   \n",
       "1523        247283        0  cde539b7dfb671      1631112     105840         3   \n",
       "\n",
       "           geo_location  \n",
       "display_id               \n",
       "62            US>AZ>789  \n",
       "76            US>IL>609  \n",
       "795           US>PA>504  \n",
       "1394          US>MA>506  \n",
       "1523          US>GA>524  "
      ]
     },
     "execution_count": 26,
     "metadata": {},
     "output_type": "execute_result"
    }
   ],
   "source": [
    "data = clicks_train.join(events)\n",
    "data.head()"
   ]
  },
  {
   "cell_type": "markdown",
   "metadata": {},
   "source": [
    "## Promoted"
   ]
  },
  {
   "cell_type": "code",
   "execution_count": 58,
   "metadata": {
    "collapsed": false
   },
   "outputs": [
    {
     "data": {
      "text/plain": [
       "14966"
      ]
     },
     "execution_count": 58,
     "metadata": {},
     "output_type": "execute_result"
    }
   ],
   "source": [
    "len(promoted)"
   ]
  },
  {
   "cell_type": "code",
   "execution_count": 59,
   "metadata": {
    "collapsed": false
   },
   "outputs": [
    {
     "name": "stdout",
     "output_type": "stream",
     "text": [
      "9269\n",
      "22387\n"
     ]
    }
   ],
   "source": [
    "#there is not a one-to-one relationship between document_id in promoted and the master data\n",
    "#This is because the same ad is being shown in different documents I think\n",
    "print(len(promoted[\"document_id\"].unique()))\n",
    "print(len(data[\"document_id\"].unique()))"
   ]
  },
  {
   "cell_type": "code",
   "execution_count": 60,
   "metadata": {
    "collapsed": false
   },
   "outputs": [
    {
     "data": {
      "text/html": [
       "<div>\n",
       "<table border=\"1\" class=\"dataframe\">\n",
       "  <thead>\n",
       "    <tr style=\"text-align: right;\">\n",
       "      <th></th>\n",
       "      <th>ad_id</th>\n",
       "      <th>campaign_id</th>\n",
       "      <th>advertiser_id</th>\n",
       "    </tr>\n",
       "  </thead>\n",
       "  <tbody>\n",
       "    <tr>\n",
       "      <th>0</th>\n",
       "      <td>7</td>\n",
       "      <td>1</td>\n",
       "      <td>7</td>\n",
       "    </tr>\n",
       "    <tr>\n",
       "      <th>1</th>\n",
       "      <td>55</td>\n",
       "      <td>26</td>\n",
       "      <td>39</td>\n",
       "    </tr>\n",
       "    <tr>\n",
       "      <th>2</th>\n",
       "      <td>446</td>\n",
       "      <td>43</td>\n",
       "      <td>76</td>\n",
       "    </tr>\n",
       "    <tr>\n",
       "      <th>3</th>\n",
       "      <td>487</td>\n",
       "      <td>81</td>\n",
       "      <td>116</td>\n",
       "    </tr>\n",
       "    <tr>\n",
       "      <th>4</th>\n",
       "      <td>489</td>\n",
       "      <td>81</td>\n",
       "      <td>116</td>\n",
       "    </tr>\n",
       "  </tbody>\n",
       "</table>\n",
       "</div>"
      ],
      "text/plain": [
       "   ad_id  campaign_id  advertiser_id\n",
       "0      7            1              7\n",
       "1     55           26             39\n",
       "2    446           43             76\n",
       "3    487           81            116\n",
       "4    489           81            116"
      ]
     },
     "execution_count": 60,
     "metadata": {},
     "output_type": "execute_result"
    }
   ],
   "source": [
    "promoted.head()\n",
    "del promoted[\"Unnamed: 0\"]\n",
    "del promoted['document_id'] #I think all we want from here is the link between ad_id and campaign id\n",
    "promoted.head()"
   ]
  },
  {
   "cell_type": "code",
   "execution_count": 61,
   "metadata": {
    "collapsed": false
   },
   "outputs": [
    {
     "name": "stdout",
     "output_type": "stream",
     "text": [
      "14966\n",
      "14966\n"
     ]
    }
   ],
   "source": [
    "#there is a one-to-one relationship between ad_id in promoted and the master data\n",
    "print(len(promoted[\"ad_id\"].unique())) #each add can appear more than once\n",
    "print(len(data[\"ad_id\"].unique()))"
   ]
  },
  {
   "cell_type": "markdown",
   "metadata": {},
   "source": [
    "## Joining Info about each ad"
   ]
  },
  {
   "cell_type": "markdown",
   "metadata": {},
   "source": [
    "I make a dictionary of the advertiser and campaign id for each ad_id, map that dictionary to the ad id to make the advertizer and campain columns"
   ]
  },
  {
   "cell_type": "code",
   "execution_count": 62,
   "metadata": {
    "collapsed": false
   },
   "outputs": [
    {
     "data": {
      "text/html": [
       "<div>\n",
       "<table border=\"1\" class=\"dataframe\">\n",
       "  <thead>\n",
       "    <tr style=\"text-align: right;\">\n",
       "      <th></th>\n",
       "      <th>ad_id</th>\n",
       "      <th>clicked</th>\n",
       "      <th>uuid</th>\n",
       "      <th>document_id</th>\n",
       "      <th>timestamp</th>\n",
       "      <th>platform</th>\n",
       "      <th>geo_location</th>\n",
       "      <th>campaign_id</th>\n",
       "      <th>advertiser_id</th>\n",
       "    </tr>\n",
       "    <tr>\n",
       "      <th>display_id</th>\n",
       "      <th></th>\n",
       "      <th></th>\n",
       "      <th></th>\n",
       "      <th></th>\n",
       "      <th></th>\n",
       "      <th></th>\n",
       "      <th></th>\n",
       "      <th></th>\n",
       "      <th></th>\n",
       "    </tr>\n",
       "  </thead>\n",
       "  <tbody>\n",
       "    <tr>\n",
       "      <th>62</th>\n",
       "      <td>132780</td>\n",
       "      <td>0</td>\n",
       "      <td>65861840b3ab9f</td>\n",
       "      <td>1781623</td>\n",
       "      <td>4651</td>\n",
       "      <td>2</td>\n",
       "      <td>US&gt;AZ&gt;789</td>\n",
       "      <td>16528</td>\n",
       "      <td>1006</td>\n",
       "    </tr>\n",
       "    <tr>\n",
       "      <th>76</th>\n",
       "      <td>228959</td>\n",
       "      <td>0</td>\n",
       "      <td>23c6c76aeab262</td>\n",
       "      <td>1727629</td>\n",
       "      <td>5723</td>\n",
       "      <td>3</td>\n",
       "      <td>US&gt;IL&gt;609</td>\n",
       "      <td>25174</td>\n",
       "      <td>2712</td>\n",
       "    </tr>\n",
       "    <tr>\n",
       "      <th>795</th>\n",
       "      <td>249397</td>\n",
       "      <td>0</td>\n",
       "      <td>8cdc5a01e783a8</td>\n",
       "      <td>1768840</td>\n",
       "      <td>56758</td>\n",
       "      <td>3</td>\n",
       "      <td>US&gt;PA&gt;504</td>\n",
       "      <td>26150</td>\n",
       "      <td>3829</td>\n",
       "    </tr>\n",
       "    <tr>\n",
       "      <th>1394</th>\n",
       "      <td>310868</td>\n",
       "      <td>1</td>\n",
       "      <td>f4953632cdeaf9</td>\n",
       "      <td>1762699</td>\n",
       "      <td>96740</td>\n",
       "      <td>2</td>\n",
       "      <td>US&gt;MA&gt;506</td>\n",
       "      <td>28807</td>\n",
       "      <td>1634</td>\n",
       "    </tr>\n",
       "    <tr>\n",
       "      <th>1523</th>\n",
       "      <td>247283</td>\n",
       "      <td>0</td>\n",
       "      <td>cde539b7dfb671</td>\n",
       "      <td>1631112</td>\n",
       "      <td>105840</td>\n",
       "      <td>3</td>\n",
       "      <td>US&gt;GA&gt;524</td>\n",
       "      <td>26079</td>\n",
       "      <td>2874</td>\n",
       "    </tr>\n",
       "  </tbody>\n",
       "</table>\n",
       "</div>"
      ],
      "text/plain": [
       "             ad_id  clicked            uuid  document_id  timestamp  platform  \\\n",
       "display_id                                                                      \n",
       "62          132780        0  65861840b3ab9f      1781623       4651         2   \n",
       "76          228959        0  23c6c76aeab262      1727629       5723         3   \n",
       "795         249397        0  8cdc5a01e783a8      1768840      56758         3   \n",
       "1394        310868        1  f4953632cdeaf9      1762699      96740         2   \n",
       "1523        247283        0  cde539b7dfb671      1631112     105840         3   \n",
       "\n",
       "           geo_location  campaign_id  advertiser_id  \n",
       "display_id                                           \n",
       "62            US>AZ>789        16528           1006  \n",
       "76            US>IL>609        25174           2712  \n",
       "795           US>PA>504        26150           3829  \n",
       "1394          US>MA>506        28807           1634  \n",
       "1523          US>GA>524        26079           2874  "
      ]
     },
     "execution_count": 62,
     "metadata": {},
     "output_type": "execute_result"
    }
   ],
   "source": [
    "data.head()"
   ]
  },
  {
   "cell_type": "code",
   "execution_count": 63,
   "metadata": {
    "collapsed": false
   },
   "outputs": [
    {
     "name": "stdout",
     "output_type": "stream",
     "text": [
      "40000\n",
      "14966\n"
     ]
    }
   ],
   "source": [
    "print(len(data))\n",
    "print(len(data[\"ad_id\"].unique())) #adds appear on average slightly more than twice in our minidata set"
   ]
  },
  {
   "cell_type": "code",
   "execution_count": 64,
   "metadata": {
    "collapsed": false
   },
   "outputs": [],
   "source": [
    "#make dictionaries to look up advertizer id and campaign id for each ad_id\n",
    "advertiser_dict = dict(zip(promoted.ad_id, promoted.advertiser_id))\n",
    "campaign_dict = dict(zip(promoted.ad_id, promoted.campaign_id))\n"
   ]
  },
  {
   "cell_type": "code",
   "execution_count": 65,
   "metadata": {
    "collapsed": false
   },
   "outputs": [
    {
     "data": {
      "text/html": [
       "<div>\n",
       "<table border=\"1\" class=\"dataframe\">\n",
       "  <thead>\n",
       "    <tr style=\"text-align: right;\">\n",
       "      <th></th>\n",
       "      <th>ad_id</th>\n",
       "      <th>clicked</th>\n",
       "      <th>uuid</th>\n",
       "      <th>document_id</th>\n",
       "      <th>timestamp</th>\n",
       "      <th>platform</th>\n",
       "      <th>geo_location</th>\n",
       "      <th>campaign_id</th>\n",
       "      <th>advertiser_id</th>\n",
       "    </tr>\n",
       "    <tr>\n",
       "      <th>display_id</th>\n",
       "      <th></th>\n",
       "      <th></th>\n",
       "      <th></th>\n",
       "      <th></th>\n",
       "      <th></th>\n",
       "      <th></th>\n",
       "      <th></th>\n",
       "      <th></th>\n",
       "      <th></th>\n",
       "    </tr>\n",
       "  </thead>\n",
       "  <tbody>\n",
       "    <tr>\n",
       "      <th>62</th>\n",
       "      <td>132780</td>\n",
       "      <td>0</td>\n",
       "      <td>65861840b3ab9f</td>\n",
       "      <td>1781623</td>\n",
       "      <td>4651</td>\n",
       "      <td>2</td>\n",
       "      <td>US&gt;AZ&gt;789</td>\n",
       "      <td>16528</td>\n",
       "      <td>1006</td>\n",
       "    </tr>\n",
       "    <tr>\n",
       "      <th>76</th>\n",
       "      <td>228959</td>\n",
       "      <td>0</td>\n",
       "      <td>23c6c76aeab262</td>\n",
       "      <td>1727629</td>\n",
       "      <td>5723</td>\n",
       "      <td>3</td>\n",
       "      <td>US&gt;IL&gt;609</td>\n",
       "      <td>25174</td>\n",
       "      <td>2712</td>\n",
       "    </tr>\n",
       "    <tr>\n",
       "      <th>795</th>\n",
       "      <td>249397</td>\n",
       "      <td>0</td>\n",
       "      <td>8cdc5a01e783a8</td>\n",
       "      <td>1768840</td>\n",
       "      <td>56758</td>\n",
       "      <td>3</td>\n",
       "      <td>US&gt;PA&gt;504</td>\n",
       "      <td>26150</td>\n",
       "      <td>3829</td>\n",
       "    </tr>\n",
       "    <tr>\n",
       "      <th>1394</th>\n",
       "      <td>310868</td>\n",
       "      <td>1</td>\n",
       "      <td>f4953632cdeaf9</td>\n",
       "      <td>1762699</td>\n",
       "      <td>96740</td>\n",
       "      <td>2</td>\n",
       "      <td>US&gt;MA&gt;506</td>\n",
       "      <td>28807</td>\n",
       "      <td>1634</td>\n",
       "    </tr>\n",
       "    <tr>\n",
       "      <th>1523</th>\n",
       "      <td>247283</td>\n",
       "      <td>0</td>\n",
       "      <td>cde539b7dfb671</td>\n",
       "      <td>1631112</td>\n",
       "      <td>105840</td>\n",
       "      <td>3</td>\n",
       "      <td>US&gt;GA&gt;524</td>\n",
       "      <td>26079</td>\n",
       "      <td>2874</td>\n",
       "    </tr>\n",
       "  </tbody>\n",
       "</table>\n",
       "</div>"
      ],
      "text/plain": [
       "             ad_id  clicked            uuid  document_id  timestamp  platform  \\\n",
       "display_id                                                                      \n",
       "62          132780        0  65861840b3ab9f      1781623       4651         2   \n",
       "76          228959        0  23c6c76aeab262      1727629       5723         3   \n",
       "795         249397        0  8cdc5a01e783a8      1768840      56758         3   \n",
       "1394        310868        1  f4953632cdeaf9      1762699      96740         2   \n",
       "1523        247283        0  cde539b7dfb671      1631112     105840         3   \n",
       "\n",
       "           geo_location  campaign_id  advertiser_id  \n",
       "display_id                                           \n",
       "62            US>AZ>789        16528           1006  \n",
       "76            US>IL>609        25174           2712  \n",
       "795           US>PA>504        26150           3829  \n",
       "1394          US>MA>506        28807           1634  \n",
       "1523          US>GA>524        26079           2874  "
      ]
     },
     "execution_count": 65,
     "metadata": {},
     "output_type": "execute_result"
    }
   ],
   "source": [
    "data[\"campaign_id\"] = data[\"ad_id\"].map(campaign_dict)\n",
    "data[\"advertiser_id\"] = data[\"ad_id\"].map(advertiser_dict)\n",
    "data.head()"
   ]
  },
  {
   "cell_type": "code",
   "execution_count": 41,
   "metadata": {
    "collapsed": false
   },
   "outputs": [
    {
     "name": "stdout",
     "output_type": "stream",
     "text": [
      "40000\n",
      "14966\n"
     ]
    }
   ],
   "source": [
    "print(len(data))\n",
    "print(len(data[\"ad_id\"].unique())) #adds appear on average slightly more than twice in our minidata set"
   ]
  },
  {
   "cell_type": "markdown",
   "metadata": {
    "collapsed": false
   },
   "source": [
    "## Working with Page Views"
   ]
  },
  {
   "cell_type": "markdown",
   "metadata": {
    "collapsed": false
   },
   "source": [
    "Can't get the pageviews file to import, will work on this later"
   ]
  },
  {
   "cell_type": "markdown",
   "metadata": {
    "collapsed": true
   },
   "source": [
    "## Importing Document Information"
   ]
  },
  {
   "cell_type": "markdown",
   "metadata": {},
   "source": [
    "I'm super stuck on why all the document ids that appear in our data arent in the files with more information about each documents."
   ]
  },
  {
   "cell_type": "code",
   "execution_count": 66,
   "metadata": {
    "collapsed": false
   },
   "outputs": [
    {
     "name": "stdout",
     "output_type": "stream",
     "text": [
      "22387\n",
      "9253\n",
      "7490\n",
      "9269\n",
      "9000\n"
     ]
    }
   ],
   "source": [
    "#Why aren't there the same number of unique documents in each of these\n",
    "print(len(data[\"document_id\"].unique()))\n",
    "print(len(doc_cats[\"document_id\"].unique()))\n",
    "print(len(doc_ents[\"document_id\"].unique()))\n",
    "print(len(doc_meta[\"document_id\"].unique()))\n",
    "print(len(doc_topics[\"document_id\"].unique()))"
   ]
  },
  {
   "cell_type": "code",
   "execution_count": 69,
   "metadata": {
    "collapsed": false
   },
   "outputs": [
    {
     "data": {
      "text/html": [
       "<div>\n",
       "<table border=\"1\" class=\"dataframe\">\n",
       "  <thead>\n",
       "    <tr style=\"text-align: right;\">\n",
       "      <th></th>\n",
       "      <th>Unnamed: 0</th>\n",
       "      <th>document_id</th>\n",
       "      <th>entity_id</th>\n",
       "      <th>confidence_level</th>\n",
       "    </tr>\n",
       "  </thead>\n",
       "  <tbody>\n",
       "    <tr>\n",
       "      <th>0</th>\n",
       "      <td>42749</td>\n",
       "      <td>1097501</td>\n",
       "      <td>0bb6322f38719d3a928eb9ca6f6a4c96</td>\n",
       "      <td>0.704652</td>\n",
       "    </tr>\n",
       "    <tr>\n",
       "      <th>1</th>\n",
       "      <td>42750</td>\n",
       "      <td>1097501</td>\n",
       "      <td>e0e6f88bb45d82f216b7c794e8bc0a61</td>\n",
       "      <td>0.338807</td>\n",
       "    </tr>\n",
       "    <tr>\n",
       "      <th>2</th>\n",
       "      <td>42751</td>\n",
       "      <td>1097501</td>\n",
       "      <td>f513b9ee061a066d9595316fe50ba8e3</td>\n",
       "      <td>0.314879</td>\n",
       "    </tr>\n",
       "    <tr>\n",
       "      <th>3</th>\n",
       "      <td>72655</td>\n",
       "      <td>1807706</td>\n",
       "      <td>11d5279de0b36011773ee50f75f9b43c</td>\n",
       "      <td>0.495961</td>\n",
       "    </tr>\n",
       "    <tr>\n",
       "      <th>4</th>\n",
       "      <td>72656</td>\n",
       "      <td>1807706</td>\n",
       "      <td>358c9e8a2ff80f858f6deb063e0bcf8f</td>\n",
       "      <td>0.337521</td>\n",
       "    </tr>\n",
       "  </tbody>\n",
       "</table>\n",
       "</div>"
      ],
      "text/plain": [
       "   Unnamed: 0  document_id                         entity_id  confidence_level\n",
       "0       42749      1097501  0bb6322f38719d3a928eb9ca6f6a4c96          0.704652\n",
       "1       42750      1097501  e0e6f88bb45d82f216b7c794e8bc0a61          0.338807\n",
       "2       42751      1097501  f513b9ee061a066d9595316fe50ba8e3          0.314879\n",
       "3       72655      1807706  11d5279de0b36011773ee50f75f9b43c          0.495961\n",
       "4       72656      1807706  358c9e8a2ff80f858f6deb063e0bcf8f          0.337521"
      ]
     },
     "execution_count": 69,
     "metadata": {},
     "output_type": "execute_result"
    }
   ],
   "source": [
    "#each document has multiple possible entities, categories, topics with different confidence level. \n",
    "#maybe we should just for now keep the most likely entity, topic and category? \n",
    "doc_ents.head()"
   ]
  },
  {
   "cell_type": "code",
   "execution_count": 68,
   "metadata": {
    "collapsed": false
   },
   "outputs": [
    {
     "data": {
      "text/html": [
       "<div>\n",
       "<table border=\"1\" class=\"dataframe\">\n",
       "  <thead>\n",
       "    <tr style=\"text-align: right;\">\n",
       "      <th></th>\n",
       "      <th>Unnamed: 0</th>\n",
       "      <th>document_id</th>\n",
       "      <th>category_id</th>\n",
       "      <th>confidence_level</th>\n",
       "    </tr>\n",
       "  </thead>\n",
       "  <tbody>\n",
       "    <tr>\n",
       "      <th>0</th>\n",
       "      <td>25674</td>\n",
       "      <td>1097501</td>\n",
       "      <td>1100</td>\n",
       "      <td>0.92</td>\n",
       "    </tr>\n",
       "    <tr>\n",
       "      <th>1</th>\n",
       "      <td>25675</td>\n",
       "      <td>1097501</td>\n",
       "      <td>2005</td>\n",
       "      <td>0.07</td>\n",
       "    </tr>\n",
       "    <tr>\n",
       "      <th>2</th>\n",
       "      <td>51976</td>\n",
       "      <td>1807706</td>\n",
       "      <td>1209</td>\n",
       "      <td>0.92</td>\n",
       "    </tr>\n",
       "    <tr>\n",
       "      <th>3</th>\n",
       "      <td>51977</td>\n",
       "      <td>1807706</td>\n",
       "      <td>1205</td>\n",
       "      <td>0.07</td>\n",
       "    </tr>\n",
       "    <tr>\n",
       "      <th>4</th>\n",
       "      <td>51990</td>\n",
       "      <td>1316839</td>\n",
       "      <td>2003</td>\n",
       "      <td>0.92</td>\n",
       "    </tr>\n",
       "  </tbody>\n",
       "</table>\n",
       "</div>"
      ],
      "text/plain": [
       "   Unnamed: 0  document_id  category_id  confidence_level\n",
       "0       25674      1097501         1100              0.92\n",
       "1       25675      1097501         2005              0.07\n",
       "2       51976      1807706         1209              0.92\n",
       "3       51977      1807706         1205              0.07\n",
       "4       51990      1316839         2003              0.92"
      ]
     },
     "execution_count": 68,
     "metadata": {},
     "output_type": "execute_result"
    }
   ],
   "source": [
    "doc_cats.head()"
   ]
  },
  {
   "cell_type": "code",
   "execution_count": null,
   "metadata": {
    "collapsed": true
   },
   "outputs": [],
   "source": []
  }
 ],
 "metadata": {
  "kernelspec": {
   "display_name": "Python 3",
   "language": "python",
   "name": "python3"
  },
  "language_info": {
   "codemirror_mode": {
    "name": "ipython",
    "version": 3
   },
   "file_extension": ".py",
   "mimetype": "text/x-python",
   "name": "python",
   "nbconvert_exporter": "python",
   "pygments_lexer": "ipython3",
   "version": "3.5.1"
  }
 },
 "nbformat": 4,
 "nbformat_minor": 0
}
