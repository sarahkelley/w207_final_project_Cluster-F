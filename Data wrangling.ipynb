{
 "cells": [
  {
   "cell_type": "markdown",
   "metadata": {},
   "source": [
    "# Mini-Data Set Preparation"
   ]
  },
  {
   "cell_type": "markdown",
   "metadata": {},
   "source": [
    "After the Kaggle Script \"Making a mini-data set\" is run (FYI, it takes about 2 minutes to run) to reduce the size of the data to 40,000 instances, run this script to organize data into a single dataframe. \n",
    "\n",
    "Run this with the 8 csv files produced by the Kaggle Script in the same directory. "
   ]
  },
  {
   "cell_type": "markdown",
   "metadata": {},
   "source": [
    "Note: This is a Python3 script because that is what Kaggle uses. "
   ]
  },
  {
   "cell_type": "code",
   "execution_count": 2,
   "metadata": {
    "collapsed": true
   },
   "outputs": [],
   "source": [
    "import pandas as pd\n",
    "import numpy as np\n",
    "import copy\n",
    "from sklearn.linear_model import LinearRegression\n",
    "from sklearn.linear_model import LogisticRegression"
   ]
  },
  {
   "cell_type": "code",
   "execution_count": 3,
   "metadata": {
    "collapsed": false
   },
   "outputs": [],
   "source": [
    "clicks_train = pd.read_csv(\"mini_clicks_train.csv\")#got\n",
    "doc_cats = pd.read_csv(\"mini_doc_cats.csv\")\n",
    "doc_ents = pd.read_csv(\"mini_doc_ents.csv\")\n",
    "doc_meta = pd.read_csv(\"mini_doc_meta.csv\")\n",
    "doc_topics = pd.read_csv(\"mini_doc_topics.csv\")\n",
    "events = pd.read_csv(\"mini_events.csv\") #got\n",
    "#page_views = pd.read_csv(\"mini_page_views.csv\") Once I get this imported\n",
    "promoted = pd.read_csv(\"mini_promoted.csv\")#got\n"
   ]
  },
  {
   "cell_type": "markdown",
   "metadata": {},
   "source": [
    "## Join clicks_train and events on display_id"
   ]
  },
  {
   "cell_type": "code",
   "execution_count": 4,
   "metadata": {
    "collapsed": false
   },
   "outputs": [
    {
     "name": "stdout",
     "output_type": "stream",
     "text": [
      "39950\n",
      "39950\n"
     ]
    }
   ],
   "source": [
    "#clicks_train and events have a 1:1 relationship\n",
    "print(len(events[\"display_id\"].unique()))\n",
    "print(len(clicks_train[\"display_id\"].unique()))"
   ]
  },
  {
   "cell_type": "code",
   "execution_count": 5,
   "metadata": {
    "collapsed": false
   },
   "outputs": [
    {
     "data": {
      "text/html": [
       "<div>\n",
       "<table border=\"1\" class=\"dataframe\">\n",
       "  <thead>\n",
       "    <tr style=\"text-align: right;\">\n",
       "      <th></th>\n",
       "      <th>ad_id</th>\n",
       "      <th>clicked</th>\n",
       "    </tr>\n",
       "    <tr>\n",
       "      <th>display_id</th>\n",
       "      <th></th>\n",
       "      <th></th>\n",
       "    </tr>\n",
       "  </thead>\n",
       "  <tbody>\n",
       "    <tr>\n",
       "      <th>7194604</th>\n",
       "      <td>189575</td>\n",
       "      <td>1</td>\n",
       "    </tr>\n",
       "    <tr>\n",
       "      <th>10660899</th>\n",
       "      <td>281556</td>\n",
       "      <td>0</td>\n",
       "    </tr>\n",
       "    <tr>\n",
       "      <th>4510419</th>\n",
       "      <td>422667</td>\n",
       "      <td>0</td>\n",
       "    </tr>\n",
       "    <tr>\n",
       "      <th>2203285</th>\n",
       "      <td>11189</td>\n",
       "      <td>0</td>\n",
       "    </tr>\n",
       "    <tr>\n",
       "      <th>12632400</th>\n",
       "      <td>470488</td>\n",
       "      <td>0</td>\n",
       "    </tr>\n",
       "  </tbody>\n",
       "</table>\n",
       "</div>"
      ],
      "text/plain": [
       "             ad_id  clicked\n",
       "display_id                 \n",
       "7194604     189575        1\n",
       "10660899    281556        0\n",
       "4510419     422667        0\n",
       "2203285      11189        0\n",
       "12632400    470488        0"
      ]
     },
     "execution_count": 5,
     "metadata": {},
     "output_type": "execute_result"
    }
   ],
   "source": [
    "#the first column seems to be the old index, we don't need this\n",
    "clicks_train = clicks_train.set_index('display_id')\n",
    "del clicks_train[\"Unnamed: 0\"]\n",
    "clicks_train.head()"
   ]
  },
  {
   "cell_type": "code",
   "execution_count": 5,
   "metadata": {
    "collapsed": false
   },
   "outputs": [
    {
     "data": {
      "text/html": [
       "<div>\n",
       "<table border=\"1\" class=\"dataframe\">\n",
       "  <thead>\n",
       "    <tr style=\"text-align: right;\">\n",
       "      <th></th>\n",
       "      <th>uuid</th>\n",
       "      <th>document_id</th>\n",
       "      <th>timestamp</th>\n",
       "      <th>platform</th>\n",
       "      <th>geo_location</th>\n",
       "    </tr>\n",
       "    <tr>\n",
       "      <th>display_id</th>\n",
       "      <th></th>\n",
       "      <th></th>\n",
       "      <th></th>\n",
       "      <th></th>\n",
       "      <th></th>\n",
       "    </tr>\n",
       "  </thead>\n",
       "  <tbody>\n",
       "    <tr>\n",
       "      <th>62</th>\n",
       "      <td>65861840b3ab9f</td>\n",
       "      <td>1781623</td>\n",
       "      <td>4651</td>\n",
       "      <td>2</td>\n",
       "      <td>US&gt;AZ&gt;789</td>\n",
       "    </tr>\n",
       "    <tr>\n",
       "      <th>76</th>\n",
       "      <td>23c6c76aeab262</td>\n",
       "      <td>1727629</td>\n",
       "      <td>5723</td>\n",
       "      <td>3</td>\n",
       "      <td>US&gt;IL&gt;609</td>\n",
       "    </tr>\n",
       "    <tr>\n",
       "      <th>795</th>\n",
       "      <td>8cdc5a01e783a8</td>\n",
       "      <td>1768840</td>\n",
       "      <td>56758</td>\n",
       "      <td>3</td>\n",
       "      <td>US&gt;PA&gt;504</td>\n",
       "    </tr>\n",
       "    <tr>\n",
       "      <th>1394</th>\n",
       "      <td>f4953632cdeaf9</td>\n",
       "      <td>1762699</td>\n",
       "      <td>96740</td>\n",
       "      <td>2</td>\n",
       "      <td>US&gt;MA&gt;506</td>\n",
       "    </tr>\n",
       "    <tr>\n",
       "      <th>1523</th>\n",
       "      <td>cde539b7dfb671</td>\n",
       "      <td>1631112</td>\n",
       "      <td>105840</td>\n",
       "      <td>3</td>\n",
       "      <td>US&gt;GA&gt;524</td>\n",
       "    </tr>\n",
       "  </tbody>\n",
       "</table>\n",
       "</div>"
      ],
      "text/plain": [
       "                      uuid  document_id  timestamp  platform geo_location\n",
       "display_id                                                               \n",
       "62          65861840b3ab9f      1781623       4651         2    US>AZ>789\n",
       "76          23c6c76aeab262      1727629       5723         3    US>IL>609\n",
       "795         8cdc5a01e783a8      1768840      56758         3    US>PA>504\n",
       "1394        f4953632cdeaf9      1762699      96740         2    US>MA>506\n",
       "1523        cde539b7dfb671      1631112     105840         3    US>GA>524"
      ]
     },
     "execution_count": 5,
     "metadata": {},
     "output_type": "execute_result"
    }
   ],
   "source": [
    "del events[\"Unnamed: 0\"]\n",
    "events = events.set_index(\"display_id\")\n",
    "events.head()"
   ]
  },
  {
   "cell_type": "code",
   "execution_count": 6,
   "metadata": {
    "collapsed": false
   },
   "outputs": [
    {
     "data": {
      "text/html": [
       "<div>\n",
       "<table border=\"1\" class=\"dataframe\">\n",
       "  <thead>\n",
       "    <tr style=\"text-align: right;\">\n",
       "      <th></th>\n",
       "      <th>ad_id</th>\n",
       "      <th>clicked</th>\n",
       "      <th>Unnamed: 0</th>\n",
       "      <th>display_id</th>\n",
       "      <th>uuid</th>\n",
       "      <th>document_id</th>\n",
       "      <th>timestamp</th>\n",
       "      <th>platform</th>\n",
       "      <th>geo_location</th>\n",
       "    </tr>\n",
       "  </thead>\n",
       "  <tbody>\n",
       "    <tr>\n",
       "      <th>62</th>\n",
       "      <td>132780</td>\n",
       "      <td>0</td>\n",
       "      <td>27826</td>\n",
       "      <td>27827</td>\n",
       "      <td>40c34e0c5b0826</td>\n",
       "      <td>1143040</td>\n",
       "      <td>2019895</td>\n",
       "      <td>2</td>\n",
       "      <td>US&gt;SC&gt;567</td>\n",
       "    </tr>\n",
       "    <tr>\n",
       "      <th>76</th>\n",
       "      <td>228959</td>\n",
       "      <td>0</td>\n",
       "      <td>31944</td>\n",
       "      <td>31945</td>\n",
       "      <td>2c866dc7af09d5</td>\n",
       "      <td>1259196</td>\n",
       "      <td>2352663</td>\n",
       "      <td>3</td>\n",
       "      <td>US&gt;OH&gt;558</td>\n",
       "    </tr>\n",
       "    <tr>\n",
       "      <th>795</th>\n",
       "      <td>249397</td>\n",
       "      <td>0</td>\n",
       "      <td>346882</td>\n",
       "      <td>346883</td>\n",
       "      <td>35b8f04d587848</td>\n",
       "      <td>1666933</td>\n",
       "      <td>31200225</td>\n",
       "      <td>2</td>\n",
       "      <td>US&gt;ND&gt;724</td>\n",
       "    </tr>\n",
       "    <tr>\n",
       "      <th>1394</th>\n",
       "      <td>310868</td>\n",
       "      <td>1</td>\n",
       "      <td>601272</td>\n",
       "      <td>601273</td>\n",
       "      <td>119077b6f3b659</td>\n",
       "      <td>394689</td>\n",
       "      <td>43563149</td>\n",
       "      <td>1</td>\n",
       "      <td>US&gt;VA&gt;573</td>\n",
       "    </tr>\n",
       "    <tr>\n",
       "      <th>1523</th>\n",
       "      <td>247283</td>\n",
       "      <td>0</td>\n",
       "      <td>656064</td>\n",
       "      <td>656065</td>\n",
       "      <td>6e4be33b7bfc18</td>\n",
       "      <td>1835877</td>\n",
       "      <td>46074088</td>\n",
       "      <td>2</td>\n",
       "      <td>US&gt;CA&gt;803</td>\n",
       "    </tr>\n",
       "  </tbody>\n",
       "</table>\n",
       "</div>"
      ],
      "text/plain": [
       "       ad_id  clicked  Unnamed: 0  display_id            uuid  document_id  \\\n",
       "62    132780        0       27826       27827  40c34e0c5b0826      1143040   \n",
       "76    228959        0       31944       31945  2c866dc7af09d5      1259196   \n",
       "795   249397        0      346882      346883  35b8f04d587848      1666933   \n",
       "1394  310868        1      601272      601273  119077b6f3b659       394689   \n",
       "1523  247283        0      656064      656065  6e4be33b7bfc18      1835877   \n",
       "\n",
       "      timestamp  platform geo_location  \n",
       "62      2019895         2    US>SC>567  \n",
       "76      2352663         3    US>OH>558  \n",
       "795    31200225         2    US>ND>724  \n",
       "1394   43563149         1    US>VA>573  \n",
       "1523   46074088         2    US>CA>803  "
      ]
     },
     "execution_count": 6,
     "metadata": {},
     "output_type": "execute_result"
    }
   ],
   "source": [
    "data = clicks_train.join(events)\n",
    "data.head()"
   ]
  },
  {
   "cell_type": "markdown",
   "metadata": {},
   "source": [
    "## Promoted"
   ]
  },
  {
   "cell_type": "code",
   "execution_count": 7,
   "metadata": {
    "collapsed": false
   },
   "outputs": [
    {
     "data": {
      "text/plain": [
       "14966"
      ]
     },
     "execution_count": 7,
     "metadata": {},
     "output_type": "execute_result"
    }
   ],
   "source": [
    "len(promoted)"
   ]
  },
  {
   "cell_type": "code",
   "execution_count": 8,
   "metadata": {
    "collapsed": false
   },
   "outputs": [
    {
     "name": "stdout",
     "output_type": "stream",
     "text": [
      "9269\n",
      "87\n"
     ]
    }
   ],
   "source": [
    "#there is not a one-to-one relationship between document_id in promoted and the master data\n",
    "#This is because the same ad is being shown in different documents I think\n",
    "print(len(promoted[\"document_id\"].unique()))\n",
    "print(len(data[\"document_id\"].unique()))"
   ]
  },
  {
   "cell_type": "code",
   "execution_count": 9,
   "metadata": {
    "collapsed": false
   },
   "outputs": [
    {
     "name": "stdout",
     "output_type": "stream",
     "text": [
      "14966\n",
      "14966\n"
     ]
    }
   ],
   "source": [
    "#there is a one-to-one relationship between ad_id in promoted and the master data\n",
    "print(len(promoted[\"ad_id\"].unique())) #each add can appear more than once\n",
    "print(len(data[\"ad_id\"].unique()))"
   ]
  },
  {
   "cell_type": "code",
   "execution_count": 10,
   "metadata": {
    "collapsed": false
   },
   "outputs": [
    {
     "data": {
      "text/html": [
       "<div>\n",
       "<table border=\"1\" class=\"dataframe\">\n",
       "  <thead>\n",
       "    <tr style=\"text-align: right;\">\n",
       "      <th></th>\n",
       "      <th>ad_id</th>\n",
       "      <th>campaign_id</th>\n",
       "      <th>advertiser_id</th>\n",
       "    </tr>\n",
       "  </thead>\n",
       "  <tbody>\n",
       "    <tr>\n",
       "      <th>0</th>\n",
       "      <td>7</td>\n",
       "      <td>1</td>\n",
       "      <td>7</td>\n",
       "    </tr>\n",
       "    <tr>\n",
       "      <th>1</th>\n",
       "      <td>55</td>\n",
       "      <td>26</td>\n",
       "      <td>39</td>\n",
       "    </tr>\n",
       "    <tr>\n",
       "      <th>2</th>\n",
       "      <td>446</td>\n",
       "      <td>43</td>\n",
       "      <td>76</td>\n",
       "    </tr>\n",
       "    <tr>\n",
       "      <th>3</th>\n",
       "      <td>487</td>\n",
       "      <td>81</td>\n",
       "      <td>116</td>\n",
       "    </tr>\n",
       "    <tr>\n",
       "      <th>4</th>\n",
       "      <td>489</td>\n",
       "      <td>81</td>\n",
       "      <td>116</td>\n",
       "    </tr>\n",
       "  </tbody>\n",
       "</table>\n",
       "</div>"
      ],
      "text/plain": [
       "   ad_id  campaign_id  advertiser_id\n",
       "0      7            1              7\n",
       "1     55           26             39\n",
       "2    446           43             76\n",
       "3    487           81            116\n",
       "4    489           81            116"
      ]
     },
     "execution_count": 10,
     "metadata": {},
     "output_type": "execute_result"
    }
   ],
   "source": [
    "promoted.head()\n",
    "del promoted[\"Unnamed: 0\"]\n",
    "del promoted['document_id'] #I think all we want from here is the link between ad_id and campaign id\n",
    "promoted.head()"
   ]
  },
  {
   "cell_type": "markdown",
   "metadata": {},
   "source": [
    "## Joining Info about each ad"
   ]
  },
  {
   "cell_type": "markdown",
   "metadata": {},
   "source": [
    "I make a dictionary of the advertiser and campaign id for each ad_id, map that dictionary to the ad id to make the advertizer and campain columns"
   ]
  },
  {
   "cell_type": "code",
   "execution_count": 11,
   "metadata": {
    "collapsed": false
   },
   "outputs": [
    {
     "data": {
      "text/html": [
       "<div>\n",
       "<table border=\"1\" class=\"dataframe\">\n",
       "  <thead>\n",
       "    <tr style=\"text-align: right;\">\n",
       "      <th></th>\n",
       "      <th>ad_id</th>\n",
       "      <th>clicked</th>\n",
       "      <th>Unnamed: 0</th>\n",
       "      <th>display_id</th>\n",
       "      <th>uuid</th>\n",
       "      <th>document_id</th>\n",
       "      <th>timestamp</th>\n",
       "      <th>platform</th>\n",
       "      <th>geo_location</th>\n",
       "    </tr>\n",
       "  </thead>\n",
       "  <tbody>\n",
       "    <tr>\n",
       "      <th>62</th>\n",
       "      <td>132780</td>\n",
       "      <td>0</td>\n",
       "      <td>27826</td>\n",
       "      <td>27827</td>\n",
       "      <td>40c34e0c5b0826</td>\n",
       "      <td>1143040</td>\n",
       "      <td>2019895</td>\n",
       "      <td>2</td>\n",
       "      <td>US&gt;SC&gt;567</td>\n",
       "    </tr>\n",
       "    <tr>\n",
       "      <th>76</th>\n",
       "      <td>228959</td>\n",
       "      <td>0</td>\n",
       "      <td>31944</td>\n",
       "      <td>31945</td>\n",
       "      <td>2c866dc7af09d5</td>\n",
       "      <td>1259196</td>\n",
       "      <td>2352663</td>\n",
       "      <td>3</td>\n",
       "      <td>US&gt;OH&gt;558</td>\n",
       "    </tr>\n",
       "    <tr>\n",
       "      <th>795</th>\n",
       "      <td>249397</td>\n",
       "      <td>0</td>\n",
       "      <td>346882</td>\n",
       "      <td>346883</td>\n",
       "      <td>35b8f04d587848</td>\n",
       "      <td>1666933</td>\n",
       "      <td>31200225</td>\n",
       "      <td>2</td>\n",
       "      <td>US&gt;ND&gt;724</td>\n",
       "    </tr>\n",
       "    <tr>\n",
       "      <th>1394</th>\n",
       "      <td>310868</td>\n",
       "      <td>1</td>\n",
       "      <td>601272</td>\n",
       "      <td>601273</td>\n",
       "      <td>119077b6f3b659</td>\n",
       "      <td>394689</td>\n",
       "      <td>43563149</td>\n",
       "      <td>1</td>\n",
       "      <td>US&gt;VA&gt;573</td>\n",
       "    </tr>\n",
       "    <tr>\n",
       "      <th>1523</th>\n",
       "      <td>247283</td>\n",
       "      <td>0</td>\n",
       "      <td>656064</td>\n",
       "      <td>656065</td>\n",
       "      <td>6e4be33b7bfc18</td>\n",
       "      <td>1835877</td>\n",
       "      <td>46074088</td>\n",
       "      <td>2</td>\n",
       "      <td>US&gt;CA&gt;803</td>\n",
       "    </tr>\n",
       "  </tbody>\n",
       "</table>\n",
       "</div>"
      ],
      "text/plain": [
       "       ad_id  clicked  Unnamed: 0  display_id            uuid  document_id  \\\n",
       "62    132780        0       27826       27827  40c34e0c5b0826      1143040   \n",
       "76    228959        0       31944       31945  2c866dc7af09d5      1259196   \n",
       "795   249397        0      346882      346883  35b8f04d587848      1666933   \n",
       "1394  310868        1      601272      601273  119077b6f3b659       394689   \n",
       "1523  247283        0      656064      656065  6e4be33b7bfc18      1835877   \n",
       "\n",
       "      timestamp  platform geo_location  \n",
       "62      2019895         2    US>SC>567  \n",
       "76      2352663         3    US>OH>558  \n",
       "795    31200225         2    US>ND>724  \n",
       "1394   43563149         1    US>VA>573  \n",
       "1523   46074088         2    US>CA>803  "
      ]
     },
     "execution_count": 11,
     "metadata": {},
     "output_type": "execute_result"
    }
   ],
   "source": [
    "data.head()"
   ]
  },
  {
   "cell_type": "code",
   "execution_count": 12,
   "metadata": {
    "collapsed": false
   },
   "outputs": [
    {
     "name": "stdout",
     "output_type": "stream",
     "text": [
      "40000\n",
      "14966\n"
     ]
    }
   ],
   "source": [
    "print(len(data))\n",
    "print(len(data[\"ad_id\"].unique())) #adds appear on average slightly more than twice in our minidata set"
   ]
  },
  {
   "cell_type": "code",
   "execution_count": 13,
   "metadata": {
    "collapsed": false
   },
   "outputs": [],
   "source": [
    "#make dictionaries to look up advertizer id and campaign id for each ad_id\n",
    "advertiser_dict = dict(zip(promoted.ad_id, promoted.advertiser_id))\n",
    "campaign_dict = dict(zip(promoted.ad_id, promoted.campaign_id))\n"
   ]
  },
  {
   "cell_type": "code",
   "execution_count": 14,
   "metadata": {
    "collapsed": false
   },
   "outputs": [
    {
     "data": {
      "text/html": [
       "<div>\n",
       "<table border=\"1\" class=\"dataframe\">\n",
       "  <thead>\n",
       "    <tr style=\"text-align: right;\">\n",
       "      <th></th>\n",
       "      <th>ad_id</th>\n",
       "      <th>clicked</th>\n",
       "      <th>Unnamed: 0</th>\n",
       "      <th>display_id</th>\n",
       "      <th>uuid</th>\n",
       "      <th>document_id</th>\n",
       "      <th>timestamp</th>\n",
       "      <th>platform</th>\n",
       "      <th>geo_location</th>\n",
       "      <th>campaign_id</th>\n",
       "      <th>advertiser_id</th>\n",
       "    </tr>\n",
       "  </thead>\n",
       "  <tbody>\n",
       "    <tr>\n",
       "      <th>62</th>\n",
       "      <td>132780</td>\n",
       "      <td>0</td>\n",
       "      <td>27826</td>\n",
       "      <td>27827</td>\n",
       "      <td>40c34e0c5b0826</td>\n",
       "      <td>1143040</td>\n",
       "      <td>2019895</td>\n",
       "      <td>2</td>\n",
       "      <td>US&gt;SC&gt;567</td>\n",
       "      <td>16528</td>\n",
       "      <td>1006</td>\n",
       "    </tr>\n",
       "    <tr>\n",
       "      <th>76</th>\n",
       "      <td>228959</td>\n",
       "      <td>0</td>\n",
       "      <td>31944</td>\n",
       "      <td>31945</td>\n",
       "      <td>2c866dc7af09d5</td>\n",
       "      <td>1259196</td>\n",
       "      <td>2352663</td>\n",
       "      <td>3</td>\n",
       "      <td>US&gt;OH&gt;558</td>\n",
       "      <td>25174</td>\n",
       "      <td>2712</td>\n",
       "    </tr>\n",
       "    <tr>\n",
       "      <th>795</th>\n",
       "      <td>249397</td>\n",
       "      <td>0</td>\n",
       "      <td>346882</td>\n",
       "      <td>346883</td>\n",
       "      <td>35b8f04d587848</td>\n",
       "      <td>1666933</td>\n",
       "      <td>31200225</td>\n",
       "      <td>2</td>\n",
       "      <td>US&gt;ND&gt;724</td>\n",
       "      <td>26150</td>\n",
       "      <td>3829</td>\n",
       "    </tr>\n",
       "    <tr>\n",
       "      <th>1394</th>\n",
       "      <td>310868</td>\n",
       "      <td>1</td>\n",
       "      <td>601272</td>\n",
       "      <td>601273</td>\n",
       "      <td>119077b6f3b659</td>\n",
       "      <td>394689</td>\n",
       "      <td>43563149</td>\n",
       "      <td>1</td>\n",
       "      <td>US&gt;VA&gt;573</td>\n",
       "      <td>28807</td>\n",
       "      <td>1634</td>\n",
       "    </tr>\n",
       "    <tr>\n",
       "      <th>1523</th>\n",
       "      <td>247283</td>\n",
       "      <td>0</td>\n",
       "      <td>656064</td>\n",
       "      <td>656065</td>\n",
       "      <td>6e4be33b7bfc18</td>\n",
       "      <td>1835877</td>\n",
       "      <td>46074088</td>\n",
       "      <td>2</td>\n",
       "      <td>US&gt;CA&gt;803</td>\n",
       "      <td>26079</td>\n",
       "      <td>2874</td>\n",
       "    </tr>\n",
       "  </tbody>\n",
       "</table>\n",
       "</div>"
      ],
      "text/plain": [
       "       ad_id  clicked  Unnamed: 0  display_id            uuid  document_id  \\\n",
       "62    132780        0       27826       27827  40c34e0c5b0826      1143040   \n",
       "76    228959        0       31944       31945  2c866dc7af09d5      1259196   \n",
       "795   249397        0      346882      346883  35b8f04d587848      1666933   \n",
       "1394  310868        1      601272      601273  119077b6f3b659       394689   \n",
       "1523  247283        0      656064      656065  6e4be33b7bfc18      1835877   \n",
       "\n",
       "      timestamp  platform geo_location  campaign_id  advertiser_id  \n",
       "62      2019895         2    US>SC>567        16528           1006  \n",
       "76      2352663         3    US>OH>558        25174           2712  \n",
       "795    31200225         2    US>ND>724        26150           3829  \n",
       "1394   43563149         1    US>VA>573        28807           1634  \n",
       "1523   46074088         2    US>CA>803        26079           2874  "
      ]
     },
     "execution_count": 14,
     "metadata": {},
     "output_type": "execute_result"
    }
   ],
   "source": [
    "data[\"campaign_id\"] = data[\"ad_id\"].map(campaign_dict)\n",
    "data[\"advertiser_id\"] = data[\"ad_id\"].map(advertiser_dict)\n",
    "data.head()"
   ]
  },
  {
   "cell_type": "code",
   "execution_count": 15,
   "metadata": {
    "collapsed": false
   },
   "outputs": [
    {
     "name": "stdout",
     "output_type": "stream",
     "text": [
      "40000\n",
      "14966\n"
     ]
    }
   ],
   "source": [
    "print(len(data))\n",
    "print(len(data[\"ad_id\"].unique())) #adds appear on average slightly more than twice in our minidata set"
   ]
  },
  {
   "cell_type": "markdown",
   "metadata": {
    "collapsed": false
   },
   "source": [
    "## Working with Page Views"
   ]
  },
  {
   "cell_type": "markdown",
   "metadata": {
    "collapsed": false
   },
   "source": [
    "Can't get the pageviews file to import, will work on this later"
   ]
  },
  {
   "cell_type": "markdown",
   "metadata": {
    "collapsed": true
   },
   "source": [
    "## Importing Document Information"
   ]
  },
  {
   "cell_type": "markdown",
   "metadata": {},
   "source": [
    "I'm super stuck on why all the document ids that appear in our data arent in the files with more information about each documents."
   ]
  },
  {
   "cell_type": "code",
   "execution_count": 15,
   "metadata": {
    "collapsed": false
   },
   "outputs": [
    {
     "name": "stdout",
     "output_type": "stream",
     "text": [
      "87\n",
      "9253\n",
      "7490\n",
      "9269\n",
      "9000\n"
     ]
    }
   ],
   "source": [
    "#Why aren't there the same number of unique documents in each of these\n",
    "print(len(data[\"document_id\"].unique()))\n",
    "print(len(doc_cats[\"document_id\"].unique()))\n",
    "print(len(doc_ents[\"document_id\"].unique()))\n",
    "print(len(doc_meta[\"document_id\"].unique()))\n",
    "print(len(doc_topics[\"document_id\"].unique()))"
   ]
  },
  {
   "cell_type": "code",
   "execution_count": 17,
   "metadata": {
    "collapsed": false
   },
   "outputs": [
    {
     "data": {
      "text/html": [
       "<div>\n",
       "<table border=\"1\" class=\"dataframe\">\n",
       "  <thead>\n",
       "    <tr style=\"text-align: right;\">\n",
       "      <th></th>\n",
       "      <th>Unnamed: 0</th>\n",
       "      <th>document_id</th>\n",
       "      <th>entity_id</th>\n",
       "      <th>confidence_level</th>\n",
       "    </tr>\n",
       "  </thead>\n",
       "  <tbody>\n",
       "    <tr>\n",
       "      <th>0</th>\n",
       "      <td>42749</td>\n",
       "      <td>1097501</td>\n",
       "      <td>0bb6322f38719d3a928eb9ca6f6a4c96</td>\n",
       "      <td>0.704652</td>\n",
       "    </tr>\n",
       "    <tr>\n",
       "      <th>1</th>\n",
       "      <td>42750</td>\n",
       "      <td>1097501</td>\n",
       "      <td>e0e6f88bb45d82f216b7c794e8bc0a61</td>\n",
       "      <td>0.338807</td>\n",
       "    </tr>\n",
       "    <tr>\n",
       "      <th>2</th>\n",
       "      <td>42751</td>\n",
       "      <td>1097501</td>\n",
       "      <td>f513b9ee061a066d9595316fe50ba8e3</td>\n",
       "      <td>0.314879</td>\n",
       "    </tr>\n",
       "    <tr>\n",
       "      <th>3</th>\n",
       "      <td>72655</td>\n",
       "      <td>1807706</td>\n",
       "      <td>11d5279de0b36011773ee50f75f9b43c</td>\n",
       "      <td>0.495961</td>\n",
       "    </tr>\n",
       "    <tr>\n",
       "      <th>4</th>\n",
       "      <td>72656</td>\n",
       "      <td>1807706</td>\n",
       "      <td>358c9e8a2ff80f858f6deb063e0bcf8f</td>\n",
       "      <td>0.337521</td>\n",
       "    </tr>\n",
       "  </tbody>\n",
       "</table>\n",
       "</div>"
      ],
      "text/plain": [
       "   Unnamed: 0  document_id                         entity_id  confidence_level\n",
       "0       42749      1097501  0bb6322f38719d3a928eb9ca6f6a4c96          0.704652\n",
       "1       42750      1097501  e0e6f88bb45d82f216b7c794e8bc0a61          0.338807\n",
       "2       42751      1097501  f513b9ee061a066d9595316fe50ba8e3          0.314879\n",
       "3       72655      1807706  11d5279de0b36011773ee50f75f9b43c          0.495961\n",
       "4       72656      1807706  358c9e8a2ff80f858f6deb063e0bcf8f          0.337521"
      ]
     },
     "execution_count": 17,
     "metadata": {},
     "output_type": "execute_result"
    }
   ],
   "source": [
    "#each document has multiple possible entities, categories, topics with different confidence level. \n",
    "#maybe we should just for now keep the most likely entity, topic and category? \n",
    "doc_ents.head()"
   ]
  },
  {
   "cell_type": "code",
   "execution_count": 16,
   "metadata": {
    "collapsed": false
   },
   "outputs": [
    {
     "data": {
      "text/html": [
       "<div>\n",
       "<table border=\"1\" class=\"dataframe\">\n",
       "  <thead>\n",
       "    <tr style=\"text-align: right;\">\n",
       "      <th></th>\n",
       "      <th>Unnamed: 0</th>\n",
       "      <th>document_id</th>\n",
       "      <th>category_id</th>\n",
       "      <th>confidence_level</th>\n",
       "    </tr>\n",
       "  </thead>\n",
       "  <tbody>\n",
       "    <tr>\n",
       "      <th>0</th>\n",
       "      <td>25674</td>\n",
       "      <td>1097501</td>\n",
       "      <td>1100</td>\n",
       "      <td>0.92</td>\n",
       "    </tr>\n",
       "    <tr>\n",
       "      <th>1</th>\n",
       "      <td>25675</td>\n",
       "      <td>1097501</td>\n",
       "      <td>2005</td>\n",
       "      <td>0.07</td>\n",
       "    </tr>\n",
       "    <tr>\n",
       "      <th>2</th>\n",
       "      <td>51976</td>\n",
       "      <td>1807706</td>\n",
       "      <td>1209</td>\n",
       "      <td>0.92</td>\n",
       "    </tr>\n",
       "    <tr>\n",
       "      <th>3</th>\n",
       "      <td>51977</td>\n",
       "      <td>1807706</td>\n",
       "      <td>1205</td>\n",
       "      <td>0.07</td>\n",
       "    </tr>\n",
       "    <tr>\n",
       "      <th>4</th>\n",
       "      <td>51990</td>\n",
       "      <td>1316839</td>\n",
       "      <td>2003</td>\n",
       "      <td>0.92</td>\n",
       "    </tr>\n",
       "  </tbody>\n",
       "</table>\n",
       "</div>"
      ],
      "text/plain": [
       "   Unnamed: 0  document_id  category_id  confidence_level\n",
       "0       25674      1097501         1100              0.92\n",
       "1       25675      1097501         2005              0.07\n",
       "2       51976      1807706         1209              0.92\n",
       "3       51977      1807706         1205              0.07\n",
       "4       51990      1316839         2003              0.92"
      ]
     },
     "execution_count": 16,
     "metadata": {},
     "output_type": "execute_result"
    }
   ],
   "source": [
    "doc_cats.head()"
   ]
  },
  {
   "cell_type": "code",
   "execution_count": 17,
   "metadata": {
    "collapsed": false
   },
   "outputs": [
    {
     "data": {
      "text/html": [
       "<div>\n",
       "<table border=\"1\" class=\"dataframe\">\n",
       "  <thead>\n",
       "    <tr style=\"text-align: right;\">\n",
       "      <th></th>\n",
       "      <th>ad_id</th>\n",
       "      <th>clicked</th>\n",
       "      <th>Unnamed: 0</th>\n",
       "      <th>display_id</th>\n",
       "      <th>uuid</th>\n",
       "      <th>document_id</th>\n",
       "      <th>timestamp</th>\n",
       "      <th>platform</th>\n",
       "      <th>geo_location</th>\n",
       "      <th>campaign_id</th>\n",
       "      <th>advertiser_id</th>\n",
       "    </tr>\n",
       "  </thead>\n",
       "  <tbody>\n",
       "    <tr>\n",
       "      <th>62</th>\n",
       "      <td>132780</td>\n",
       "      <td>0</td>\n",
       "      <td>27826</td>\n",
       "      <td>27827</td>\n",
       "      <td>40c34e0c5b0826</td>\n",
       "      <td>1143040</td>\n",
       "      <td>2019895</td>\n",
       "      <td>2</td>\n",
       "      <td>US&gt;SC&gt;567</td>\n",
       "      <td>16528</td>\n",
       "      <td>1006</td>\n",
       "    </tr>\n",
       "    <tr>\n",
       "      <th>76</th>\n",
       "      <td>228959</td>\n",
       "      <td>0</td>\n",
       "      <td>31944</td>\n",
       "      <td>31945</td>\n",
       "      <td>2c866dc7af09d5</td>\n",
       "      <td>1259196</td>\n",
       "      <td>2352663</td>\n",
       "      <td>3</td>\n",
       "      <td>US&gt;OH&gt;558</td>\n",
       "      <td>25174</td>\n",
       "      <td>2712</td>\n",
       "    </tr>\n",
       "    <tr>\n",
       "      <th>795</th>\n",
       "      <td>249397</td>\n",
       "      <td>0</td>\n",
       "      <td>346882</td>\n",
       "      <td>346883</td>\n",
       "      <td>35b8f04d587848</td>\n",
       "      <td>1666933</td>\n",
       "      <td>31200225</td>\n",
       "      <td>2</td>\n",
       "      <td>US&gt;ND&gt;724</td>\n",
       "      <td>26150</td>\n",
       "      <td>3829</td>\n",
       "    </tr>\n",
       "    <tr>\n",
       "      <th>1394</th>\n",
       "      <td>310868</td>\n",
       "      <td>1</td>\n",
       "      <td>601272</td>\n",
       "      <td>601273</td>\n",
       "      <td>119077b6f3b659</td>\n",
       "      <td>394689</td>\n",
       "      <td>43563149</td>\n",
       "      <td>1</td>\n",
       "      <td>US&gt;VA&gt;573</td>\n",
       "      <td>28807</td>\n",
       "      <td>1634</td>\n",
       "    </tr>\n",
       "    <tr>\n",
       "      <th>1523</th>\n",
       "      <td>247283</td>\n",
       "      <td>0</td>\n",
       "      <td>656064</td>\n",
       "      <td>656065</td>\n",
       "      <td>6e4be33b7bfc18</td>\n",
       "      <td>1835877</td>\n",
       "      <td>46074088</td>\n",
       "      <td>2</td>\n",
       "      <td>US&gt;CA&gt;803</td>\n",
       "      <td>26079</td>\n",
       "      <td>2874</td>\n",
       "    </tr>\n",
       "  </tbody>\n",
       "</table>\n",
       "</div>"
      ],
      "text/plain": [
       "       ad_id  clicked  Unnamed: 0  display_id            uuid  document_id  \\\n",
       "62    132780        0       27826       27827  40c34e0c5b0826      1143040   \n",
       "76    228959        0       31944       31945  2c866dc7af09d5      1259196   \n",
       "795   249397        0      346882      346883  35b8f04d587848      1666933   \n",
       "1394  310868        1      601272      601273  119077b6f3b659       394689   \n",
       "1523  247283        0      656064      656065  6e4be33b7bfc18      1835877   \n",
       "\n",
       "      timestamp  platform geo_location  campaign_id  advertiser_id  \n",
       "62      2019895         2    US>SC>567        16528           1006  \n",
       "76      2352663         3    US>OH>558        25174           2712  \n",
       "795    31200225         2    US>ND>724        26150           3829  \n",
       "1394   43563149         1    US>VA>573        28807           1634  \n",
       "1523   46074088         2    US>CA>803        26079           2874  "
      ]
     },
     "execution_count": 17,
     "metadata": {},
     "output_type": "execute_result"
    }
   ],
   "source": [
    "data.head()"
   ]
  },
  {
   "cell_type": "code",
   "execution_count": 20,
   "metadata": {
    "collapsed": false
   },
   "outputs": [],
   "source": [
    "data[\"geo_location\"] = data[\"geo_location\"].apply(str)"
   ]
  },
  {
   "cell_type": "code",
   "execution_count": null,
   "metadata": {
    "collapsed": false,
    "scrolled": true
   },
   "outputs": [],
   "source": [
    "data[\"country\"] = [x[:2] for x in data[\"geo_location\"]]\n",
    "data[\"state\"] = [x[3:5] for x in data[\"geo_location\"]]\n",
    "data[\"loc_num\"]= [x[6:] for x in data[\"geo_location\"]]\n",
    "data[\"loc_num\"] = data[\"loc_num\"].map(str)\n",
    "list_to_binarize = [\"advertiser_id\", \"campaign_id\", \"platform\", \"country\",\"state\"]\n",
    "for i in list_to_binarize:\n",
    "    temp = pd.get_dummies(data[i], prefix = i)\n",
    "    data = data.join(temp)\n",
    "data.head()"
   ]
  },
  {
   "cell_type": "code",
   "execution_count": null,
   "metadata": {
    "collapsed": false
   },
   "outputs": [],
   "source": [
    "clean = copy.deepcopy(data)\n",
    "clean.head()"
   ]
  },
  {
   "cell_type": "code",
   "execution_count": null,
   "metadata": {
    "collapsed": false
   },
   "outputs": [],
   "source": [
    "len(data[\"ad_id\"].unique())"
   ]
  },
  {
   "cell_type": "code",
   "execution_count": null,
   "metadata": {
    "collapsed": false
   },
   "outputs": [],
   "source": [
    "len(clean['document_id'].unique())"
   ]
  },
  {
   "cell_type": "code",
   "execution_count": null,
   "metadata": {
    "collapsed": false
   },
   "outputs": [],
   "source": [
    "#drop the non-cleaned up data for now\n",
    "del clean['country'], clean['state'], clean[\"ad_id\"], clean[\"uuid\"], clean[\"document_id\"],clean[\"timestamp\"], clean[\"platform\"], clean[\"geo_location\"], clean['campaign_id'], clean[\"advertiser_id\"]"
   ]
  },
  {
   "cell_type": "code",
   "execution_count": null,
   "metadata": {
    "collapsed": false
   },
   "outputs": [],
   "source": [
    "len(clean.columns)"
   ]
  },
  {
   "cell_type": "markdown",
   "metadata": {},
   "source": [
    "## Make training and test sets"
   ]
  },
  {
   "cell_type": "code",
   "execution_count": null,
   "metadata": {
    "collapsed": true
   },
   "outputs": [],
   "source": [
    "labels = clean['clicked']\n",
    "labels = labels.reshape(-1,1)\n",
    "del clean['clicked']"
   ]
  },
  {
   "cell_type": "code",
   "execution_count": null,
   "metadata": {
    "collapsed": false
   },
   "outputs": [],
   "source": [
    "train_data = clean[:35000]\n",
    "train_labels = labels[:35000]\n",
    "test_data = clean[35000:]\n",
    "test_labels = labels[35000:]"
   ]
  },
  {
   "cell_type": "code",
   "execution_count": null,
   "metadata": {
    "collapsed": false
   },
   "outputs": [],
   "source": [
    "lr = LogisticRegression()\n",
    "lr.fit(train_data, train_labels)\n",
    "lr.predict(test_data, test_labels)"
   ]
  },
  {
   "cell_type": "code",
   "execution_count": null,
   "metadata": {
    "collapsed": false
   },
   "outputs": [],
   "source": []
  },
  {
   "cell_type": "code",
   "execution_count": null,
   "metadata": {
    "collapsed": true
   },
   "outputs": [],
   "source": []
  }
 ],
 "metadata": {
  "kernelspec": {
   "display_name": "Python 3",
   "language": "python",
   "name": "python3"
  },
  "language_info": {
   "codemirror_mode": {
    "name": "ipython",
    "version": 3
   },
   "file_extension": ".py",
   "mimetype": "text/x-python",
   "name": "python",
   "nbconvert_exporter": "python",
   "pygments_lexer": "ipython3",
   "version": "3.5.1"
  }
 },
 "nbformat": 4,
 "nbformat_minor": 0
}
